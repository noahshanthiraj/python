{
 "cells": [
  {
   "cell_type": "code",
   "execution_count": 5,
   "id": "26f151a4",
   "metadata": {},
   "outputs": [
    {
     "name": "stdout",
     "output_type": "stream",
     "text": [
      "Type a 1st number to multiply and divide: 6\n",
      "Type a 2nd number to multiply and divide: 5\n",
      "Multipication is 30 Division is 1.2\n"
     ]
    }
   ],
   "source": [
    "#1)\tWrite a program to accept two numbers from the user and calculate multiplication, division \n",
    "a= int(input(\"Type a 1st number to multiply and divide: \"))\n",
    "b= int(input(\"Type a 2nd number to multiply and divide: \"))\n",
    "c=a*b\n",
    "d=a/b\n",
    "print(\"Multipication is\", c, \"Division is\", d)"
   ]
  },
  {
   "cell_type": "code",
   "execution_count": 8,
   "id": "3b645360",
   "metadata": {},
   "outputs": [
    {
     "name": "stdout",
     "output_type": "stream",
     "text": [
      "type your name: Shanthi Raj\n",
      "SatiRj\n"
     ]
    }
   ],
   "source": [
    "#2)\tWrite a python program to print the characters from a string that are present at an even index  \n",
    "a=input(\"type your name: \")\n",
    "b=\"\"\n",
    "for i in range(len(a)):\n",
    "    if i%2==0:\n",
    "        b=b+a[i]\n",
    "\n",
    "\n",
    "print(b)"
   ]
  },
  {
   "cell_type": "code",
   "execution_count": 10,
   "id": "03fe308f",
   "metadata": {},
   "outputs": [
    {
     "name": "stdout",
     "output_type": "stream",
     "text": [
      "type your name: Shanthi Raj\n",
      "hnh a\n"
     ]
    }
   ],
   "source": [
    "#3)\tWrite a python program to print the characters from a string that are present at an odd index \n",
    "a=input(\"type your name: \")\n",
    "b=\"\"\n",
    "c=0\n",
    "while c<len(a):\n",
    "    if c%2!=0:\n",
    "        b+=a[c]\n",
    "    c=c+1\n",
    "print(b)"
   ]
  },
  {
   "cell_type": "code",
   "execution_count": 19,
   "id": "3d54d74c",
   "metadata": {},
   "outputs": [
    {
     "name": "stdout",
     "output_type": "stream",
     "text": [
      "enter your 1st number: 4\n",
      "enter your 2nd number: 6\n",
      "10\n"
     ]
    }
   ],
   "source": [
    "#4)\tWrite a python program which will print the sum of the two numbers if the two numbers are even or \n",
    "#it will print the difference of two numbers \n",
    "a=int(input(\"enter your 1st number: \"))\n",
    "b=int(input(\"enter your 2nd number: \"))\n",
    "\n",
    "\n",
    "if a%2==0 and b%2==0:\n",
    "    print(a+b)\n",
    "else:\n",
    "    print(a-b)"
   ]
  },
  {
   "cell_type": "code",
   "execution_count": 9,
   "id": "34eb9130",
   "metadata": {},
   "outputs": [
    {
     "data": {
      "text/plain": [
       "'LiOn'"
      ]
     },
     "execution_count": 9,
     "metadata": {},
     "output_type": "execute_result"
    }
   ],
   "source": [
    "#5)Write a python program to convert all even indexed alphabets to upper and odd indexed char\n",
    "a=\"Lion\"\n",
    "a[0].upper()+a[1].lower()+a[2].upper()+a[3].lower()    \n"
   ]
  },
  {
   "cell_type": "code",
   "execution_count": 5,
   "id": "50bed778",
   "metadata": {},
   "outputs": [
    {
     "name": "stdout",
     "output_type": "stream",
     "text": [
      "enter a number: 41\n",
      "False\n"
     ]
    }
   ],
   "source": [
    "#6)Write a python program which will print True if the input number is divisible by 5 or else False\n",
    "\n",
    "a=int(input(\"enter a number: \"))\n",
    "if a%5==0:\n",
    "    print(\"True\")\n",
    "else:\n",
    "    print(\"False\")"
   ]
  },
  {
   "cell_type": "code",
   "execution_count": 7,
   "id": "36047bb9",
   "metadata": {},
   "outputs": [
    {
     "name": "stdout",
     "output_type": "stream",
     "text": [
      "enter a number1: 4\n",
      "enter a number2: 5\n",
      "9\n"
     ]
    }
   ],
   "source": [
    "#7)Given two integer numbers return their product only if the product is greater than 1000, else return their sum\n",
    "a=int(input(\"enter a number1: \"))\n",
    "b=int(input(\"enter a number2: \"))\n",
    "if a*b>1000:\n",
    "    print(a*b)\n",
    "else:\n",
    "    print(a+b)"
   ]
  },
  {
   "cell_type": "code",
   "execution_count": 11,
   "id": "0f33c35a",
   "metadata": {},
   "outputs": [
    {
     "name": "stdout",
     "output_type": "stream",
     "text": [
      "ltognr\n"
     ]
    }
   ],
   "source": [
    "#8) Given two strings x, y writes a program to return a new string made of x and y’s first, middle, and last characters\n",
    "\n",
    "a=\"lion\"\n",
    "b=\"tiger\"\n",
    "c=len(a)//2\n",
    "d=len(b)//2\n",
    "print(a[0]+b[0]+a[c]+b[d]+a[-1]+b[-1])"
   ]
  },
  {
   "cell_type": "code",
   "execution_count": 22,
   "id": "03c89e06",
   "metadata": {},
   "outputs": [
    {
     "name": "stdout",
     "output_type": "stream",
     "text": [
      "Write 3 names: tim taylor sam\n",
      "name1:  tim\n",
      "name2:  taylor\n",
      "name3:  sam\n"
     ]
    }
   ],
   "source": [
    "#9)Write a python program to take three names as input from a user in the single input () function call\n",
    "#Example:\n",
    "#Input:\n",
    "#Enter three names: - “person1 person2 person3”\n",
    "#Output:\n",
    "#Name1: - “person1”\n",
    "#Name2: - “person2”\n",
    "#Name3: - “person3”\n",
    "a=input(\"Write 3 names: \")\n",
    "y=a.split()\n",
    "\n",
    "print(\"name1: \", y[0])\n",
    "print(\"name2: \", y[1])\n",
    "print(\"name3: \", y[2])"
   ]
  },
  {
   "cell_type": "code",
   "execution_count": 29,
   "id": "62148e43",
   "metadata": {},
   "outputs": [
    {
     "name": "stdout",
     "output_type": "stream",
     "text": [
      "Type any word: malyalam\n",
      "malyala@\n"
     ]
    }
   ],
   "source": [
    "#10)Write a Python program to get a string from a given string where all occurrences of its first char have been changed to '@', except the first char itself. \n",
    "a=input(\"Type any word: \")\n",
    "b=a[0]\n",
    "c=a[0]\n",
    "\n",
    "for x in range(1,len(a)):\n",
    "    c=c+a[x].replace(b,\"@\")\n",
    "print(c)\n",
    "    "
   ]
  },
  {
   "cell_type": "code",
   "execution_count": 36,
   "id": "02d118cc",
   "metadata": {},
   "outputs": [
    {
     "name": "stdout",
     "output_type": "stream",
     "text": [
      "Type any word: smile\n",
      "smileing\n"
     ]
    }
   ],
   "source": [
    "#11) Write a Python program to add 'ing' at the end of a given string (string length should be equal to or more than 3). If \n",
    "#the given string already ends with 'ing' then add 'ly' instead. If the string length of the given string is less than 3, leave it unchanged\n",
    "a = input(\"Type any word: \")\n",
    "b = \"ing\"\n",
    "c = \"ly\"\n",
    "\n",
    "if len(a) >= 3:\n",
    "    if a[-3:] == \"ing\":\n",
    "        print(a + c)\n",
    "    else:\n",
    "        print(a + b)\n",
    "else:\n",
    "    print(a)"
   ]
  },
  {
   "cell_type": "code",
   "execution_count": 43,
   "id": "d8a5bdd6",
   "metadata": {},
   "outputs": [
    {
     "name": "stdout",
     "output_type": "stream",
     "text": [
      "num1: 10\n",
      "num2: 4\n",
      "True\n"
     ]
    }
   ],
   "source": [
    "#12) Write a python program that accepts two inputs num1 and num2 print True if one of them is 10 or if their sum is 10\n",
    "#otherwise print False\n",
    "a=int(input(\"num1: \"))\n",
    "b=int(input(\"num2: \"))\n",
    "\n",
    "if a==10 or b==10 or a+b==10:\n",
    "    print(\"True\")\n",
    "else:\n",
    "    print(\"False\")"
   ]
  },
  {
   "cell_type": "code",
   "execution_count": 45,
   "id": "21d7a61b",
   "metadata": {},
   "outputs": [
    {
     "name": "stdout",
     "output_type": "stream",
     "text": [
      "x: 4\n",
      "y: 2\n",
      "z: 12\n",
      "False\n"
     ]
    }
   ],
   "source": [
    "#13) Write a python program that accepts three inputs x, y and z print True if x*y>z otherwise False\n",
    "x=int(input(\"x: \"))\n",
    "y=int(input(\"y: \"))\n",
    "z=int(input(\"z: \"))\n",
    "\n",
    "if x*y>z:\n",
    "    print(\"True\")\n",
    "else:\n",
    "    print(\"False\")\n",
    "\n"
   ]
  },
  {
   "cell_type": "code",
   "execution_count": 52,
   "id": "02fe3e47",
   "metadata": {},
   "outputs": [
    {
     "name": "stdout",
     "output_type": "stream",
     "text": [
      "Type any word: lion\n",
      "Type any word: cAT\n",
      "False\n"
     ]
    }
   ],
   "source": [
    "#14) Write a python program that accepts two strings inputs return True depending on whether the total number of \n",
    "#characters in the first string is equal to the total number of characters in the second string\n",
    "\n",
    "a=input(\"Type any word: \")\n",
    "b=input(\"Type any word: \")\n",
    "\n",
    "if len(a)==len(b):\n",
    "    print(True)\n",
    "else:\n",
    "    print(False)\n"
   ]
  },
  {
   "cell_type": "code",
   "execution_count": 55,
   "id": "85adf6df",
   "metadata": {},
   "outputs": [
    {
     "name": "stdout",
     "output_type": "stream",
     "text": [
      "Type any word: lion\n",
      "lioliolio\n"
     ]
    }
   ],
   "source": [
    "#15) Write a python program that takes a string input, we'll say that the front is the first three characters of the string. If the \n",
    "#string length is less than three characters, the front is whatever is there. Return a new string, which is three copies of the front\n",
    "\n",
    "a=input(\"Type any word: \")\n",
    "\n",
    "if len(a)>3:\n",
    "    print(a[0:3]*3)\n",
    "else:\n",
    "    print(a)"
   ]
  },
  {
   "cell_type": "code",
   "execution_count": 58,
   "id": "5fcfd96f",
   "metadata": {},
   "outputs": [
    {
     "name": "stdout",
     "output_type": "stream",
     "text": [
      "Type any word: lion\n",
      "Its a singular word\n"
     ]
    }
   ],
   "source": [
    "#16) Write a python program that takes in a word and determines whether or not it is plural. A plural word is one that ends in \"s\".\n",
    "\n",
    "a=input(\"Type any word: \")\n",
    "\n",
    "if a[-1]==\"s\" or a[-1]==\"S\":\n",
    "    print(\"Its a plural word\")\n",
    "else:\n",
    "    print(\"Its a singular word\")\n"
   ]
  },
  {
   "cell_type": "code",
   "execution_count": 62,
   "id": "988a5476",
   "metadata": {},
   "outputs": [
    {
     "name": "stdout",
     "output_type": "stream",
     "text": [
      "enter your age: 18\n",
      "is it a break time(yes or no)no\n",
      "Dont serve\n"
     ]
    }
   ],
   "source": [
    "#17) A bartender is writing a simple program to determine whether he should serve drinks to someone. He only serves \n",
    "#drinks to people 18 and older and when he's not on break (True means break and False means not a break time). Given \n",
    "#the person's age, and whether break time is in session, create a python program which prints whether he should serve \n",
    "#drinks or not.\n",
    "\n",
    "a=int(input(\"enter your age: \"))\n",
    "b=input(\"is it a break time(yes or no)\" )\n",
    "            \n",
    "if a>=18 and b==\"yes\":\n",
    "            print(\"Serve the drink\")\n",
    "else:\n",
    "            print(\"Dont serve\")"
   ]
  },
  {
   "cell_type": "code",
   "execution_count": 3,
   "id": "65744f8d",
   "metadata": {},
   "outputs": [
    {
     "name": "stdout",
     "output_type": "stream",
     "text": [
      "Enter the Name: Kavitha\n",
      "Kavitha  is your sister\n"
     ]
    }
   ],
   "source": [
    "#18) Manoj Kumar has family and friends. Help him remind them who is who.\n",
    "#Given a string with a name, return the relation of that person to Manoj Kumar.\n",
    "#Person----Relation\n",
    "#Shiva   -  father\n",
    "#Letha   -  mother\n",
    "#Tarun   -  brother\n",
    "#Kavitha -  sister\n",
    "\n",
    "a=input(\"Enter the Name: \")\n",
    "\n",
    "\n",
    "if a==\"Shiva\":\n",
    "    print(a ,\" is your father\")\n",
    "elif a==\"Letha\":\n",
    "    print(a ,\" is your mother\")\n",
    "elif a==\"Tarun\":\n",
    "    print(a ,\" is your brother\")\n",
    "elif a==\"Kavitha\":\n",
    "    print(a, \" is your sister\")\n",
    "    \n",
    "else:\n",
    "    print(\"invalid\")\n",
    "\n"
   ]
  },
  {
   "cell_type": "code",
   "execution_count": 13,
   "id": "7a1a2146",
   "metadata": {},
   "outputs": [
    {
     "name": "stdout",
     "output_type": "stream",
     "text": [
      "Enter any thing: njzscioioou\n",
      "ioioou\n",
      "njzsc\n"
     ]
    }
   ],
   "source": [
    "#19) Write a python program that takes a string, breaks it up and returns it with vowels first, consonants second. For any \n",
    "#character that's not a vowel (like special characters or spaces), treat them like consonants\n",
    "\n",
    "a=input(\"Enter any thing: \")\n",
    "b=\"aeiou\"\n",
    "c=\"\"\n",
    "d=\"\"\n",
    "\n",
    "for x in range(len(a)):\n",
    "    if a[x]==\"a\" or a[x]==\"e\" or a[x]==\"i\" or a[x]==\"o\" or a[x]==\"u\" or a[x]==\"A\" or a[x]==\"E\" or a[x]==\"I\" or a[x]==\"O\" or a[x]==\"U\":\n",
    "        c=c+a[x]\n",
    "    \n",
    "    else:\n",
    "        d=d+a[x]\n",
    "print(c)\n",
    "print(d)\n",
    "  \n",
    "        \n",
    "    "
   ]
  },
  {
   "cell_type": "code",
   "execution_count": null,
   "id": "067550fe",
   "metadata": {},
   "outputs": [],
   "source": []
  }
 ],
 "metadata": {
  "kernelspec": {
   "display_name": "Python 3 (ipykernel)",
   "language": "python",
   "name": "python3"
  },
  "language_info": {
   "codemirror_mode": {
    "name": "ipython",
    "version": 3
   },
   "file_extension": ".py",
   "mimetype": "text/x-python",
   "name": "python",
   "nbconvert_exporter": "python",
   "pygments_lexer": "ipython3",
   "version": "3.10.9"
  }
 },
 "nbformat": 4,
 "nbformat_minor": 5
}
