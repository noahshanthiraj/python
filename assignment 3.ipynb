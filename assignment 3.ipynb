{
 "cells": [
  {
   "cell_type": "code",
   "execution_count": 1,
   "id": "3a36290d",
   "metadata": {},
   "outputs": [
    {
     "name": "stdout",
     "output_type": "stream",
     "text": [
      "0\n",
      "1\n",
      "2\n",
      "4\n",
      "5\n"
     ]
    }
   ],
   "source": [
    "#1) Write a Python program that prints all the numbers from 0 to 6 except 3 and 6\n",
    "\n",
    "x=0\n",
    "while x<7:\n",
    "    if x==3 or x==6:\n",
    "        x=x+1\n",
    "        continue\n",
    "    else:\n",
    "        print(x)\n",
    "    x+=1"
   ]
  },
  {
   "cell_type": "code",
   "execution_count": 6,
   "id": "28673980",
   "metadata": {},
   "outputs": [
    {
     "name": "stdout",
     "output_type": "stream",
     "text": [
      "enter a number: 5\n",
      "15\n"
     ]
    }
   ],
   "source": [
    "#2) Write a program to accept a number from a user and calculate the sum of all numbers from 1 to a given number\n",
    "\n",
    "a=int(input(\"enter a number: \"))\n",
    "\n",
    "\n",
    "for x in range(a):\n",
    "    a=a+x\n",
    "print(a)"
   ]
  },
  {
   "cell_type": "code",
   "execution_count": 10,
   "id": "63f46e5d",
   "metadata": {},
   "outputs": [
    {
     "name": "stdout",
     "output_type": "stream",
     "text": [
      "enter a number: 4\n",
      "length you want: 15\n",
      "4*1=4\n",
      "4*2=8\n",
      "4*3=12\n",
      "4*4=16\n",
      "4*5=20\n",
      "4*6=24\n",
      "4*7=28\n",
      "4*8=32\n",
      "4*9=36\n",
      "4*10=40\n",
      "4*11=44\n",
      "4*12=48\n",
      "4*13=52\n",
      "4*14=56\n",
      "4*15=60\n"
     ]
    }
   ],
   "source": [
    "#3) Write a program to print multiplication table of a given number(input)\n",
    "\n",
    "a=int(input(\"enter a number: \"))\n",
    "b=int(input(\"length you want: \"))\n",
    "\n",
    "for x in range(1,b+1):\n",
    "    c=\"{}*{}={}\".format(a,x,a*x)\n",
    "    print(c)\n",
    "    "
   ]
  },
  {
   "cell_type": "code",
   "execution_count": 15,
   "id": "f5ec06a3",
   "metadata": {},
   "outputs": [
    {
     "name": "stdout",
     "output_type": "stream",
     "text": [
      "digits is:  9\n"
     ]
    }
   ],
   "source": [
    "#4) Write a program to count the total number of digits in a number using a while loop\n",
    "a=\"223564776\"\n",
    "b=0\n",
    "while b<len(a):\n",
    "    b=b+1\n",
    "print(\"digits is: \",b)"
   ]
  },
  {
   "cell_type": "code",
   "execution_count": 2,
   "id": "00b5fb72",
   "metadata": {},
   "outputs": [
    {
     "name": "stdout",
     "output_type": "stream",
     "text": [
      "enter your guess number: 1\n",
      "enter your guess number: 54\n",
      "enter your guess number: 50\n",
      "Well Gusessed!\n"
     ]
    }
   ],
   "source": [
    "#5) Write a Python program to guess a number between 1 to 100\n",
    "a=0\n",
    "while a==0:\n",
    "    b=int(input(\"enter your guess number: \"))\n",
    "    if b==50:\n",
    "        print(\"Well Gusessed!\")\n",
    "        break\n",
    "    "
   ]
  },
  {
   "cell_type": "code",
   "execution_count": 2,
   "id": "cc5a7acf",
   "metadata": {},
   "outputs": [
    {
     "name": "stdout",
     "output_type": "stream",
     "text": [
      "1\n",
      "2\n",
      "Fizz\n",
      "4\n",
      "Buzz\n",
      "Fizz\n",
      "7\n",
      "8\n",
      "Fizz\n",
      "Buzz\n",
      "11\n",
      "Fizz\n",
      "13\n",
      "14\n",
      "FizzBuzz\n",
      "16\n",
      "17\n",
      "Fizz\n",
      "19\n",
      "Buzz\n",
      "Fizz\n",
      "22\n",
      "23\n",
      "Fizz\n",
      "Buzz\n",
      "26\n",
      "Fizz\n",
      "28\n",
      "29\n",
      "FizzBuzz\n",
      "31\n",
      "32\n",
      "Fizz\n",
      "34\n",
      "Buzz\n",
      "Fizz\n",
      "37\n",
      "38\n",
      "Fizz\n",
      "Buzz\n",
      "41\n",
      "Fizz\n",
      "43\n",
      "44\n",
      "FizzBuzz\n",
      "46\n",
      "47\n",
      "Fizz\n",
      "49\n",
      "Buzz\n",
      "Fizz\n",
      "52\n",
      "53\n",
      "Fizz\n",
      "Buzz\n",
      "56\n",
      "Fizz\n",
      "58\n",
      "59\n",
      "FizzBuzz\n"
     ]
    }
   ],
   "source": [
    "#6) Write a Python program which iterates the integers from 1 to 60. For multiples of three print \"Fizz\" instead of the\n",
    "#number and for the multiples of five print \"Buzz\".For numbers which are multiples of both three and five print \"FizzBuzz\".\n",
    "\n",
    "for y in range(1,61):\n",
    "    if y%3==0 and y%5==0:\n",
    "        print(\"FizzBuzz\")\n",
    "    elif y%5==0:\n",
    "        print(\"Buzz\")\n",
    "    elif y%3==0:\n",
    "        print(\"Fizz\")\n",
    "    else:\n",
    "        print(y)\n",
    "\n",
    "\n",
    "\n"
   ]
  },
  {
   "cell_type": "code",
   "execution_count": 5,
   "id": "877e6ff8",
   "metadata": {
    "scrolled": true
   },
   "outputs": [
    {
     "name": "stdout",
     "output_type": "stream",
     "text": [
      "enter digits and numbers:hadbkb765\n",
      "letters 6\n",
      "digits 3\n"
     ]
    }
   ],
   "source": [
    "#7) Write a Python program that accepts a string and calculate the number of digits and letters\n",
    "#Example: Input\n",
    "#Python 3.2\n",
    "#Output\n",
    "#Letters 6 Digits 2 \n",
    "\n",
    "a=input(\"enter digits and numbers:\")\n",
    "x=0\n",
    "y=0\n",
    "\n",
    "\n",
    "for b in a:\n",
    "    if b.isalpha():\n",
    "        x=x+1\n",
    "    elif b.isdigit():\n",
    "        y=y+1\n",
    "        \n",
    "print(\"letters\", x)\n",
    "print(\"digits\", y)\n",
    "        \n",
    "\n",
    "    "
   ]
  },
  {
   "cell_type": "code",
   "execution_count": 1,
   "id": "56a4fc35",
   "metadata": {},
   "outputs": [
    {
     "name": "stdout",
     "output_type": "stream",
     "text": [
      "Any word: lion\n",
      "noil\n"
     ]
    }
   ],
   "source": [
    "#9) Write a program in Python to reverse a word by using while loop\n",
    "\n",
    "a=input(\"Any word: \")\n",
    "b=0\n",
    "c=\"\"\n",
    "\n",
    "while b<len(a):\n",
    "    c=c+a[-1-b]\n",
    "    b=b+1\n",
    "print(c)"
   ]
  },
  {
   "cell_type": "code",
   "execution_count": 5,
   "id": "e23c5c80",
   "metadata": {},
   "outputs": [
    {
     "name": "stdout",
     "output_type": "stream",
     "text": [
      "enter integers: 1\n",
      "enter integers: 1\n",
      "enter integers: 1\n",
      "enter integers: 1\n",
      "enter integers: 1\n",
      "enter integers: 1\n",
      "enter integers: 1\n",
      "enter integers: 1\n",
      "enter integers: 1\n",
      "enter integers: 1\n",
      "1.0\n"
     ]
    }
   ],
   "source": [
    "#10) Write a program which takes 10 integers as input using loop and print their average value on the screen\n",
    "a=0\n",
    "for i in range(10):\n",
    "    b=int(input(\"enter integers: \"))\n",
    "    a=a+b\n",
    "    avg=a/10\n",
    "    \n",
    "print(avg)\n",
    "    "
   ]
  },
  {
   "cell_type": "code",
   "execution_count": 4,
   "id": "bc9177ff",
   "metadata": {},
   "outputs": [
    {
     "name": "stdout",
     "output_type": "stream",
     "text": [
      "Enter a integer: 1\n",
      "q to quit: \n",
      "Enter a integer: 2\n",
      "q to quit: q\n",
      "avg is 1.5 product is 2\n"
     ]
    }
   ],
   "source": [
    "#11) Write a program which takes integer inputs from user until he/she presses “q” (Ask to press q to quit after every integer \n",
    "#input). Print average and product of all numbers.\n",
    "\n",
    "a=0\n",
    "c=0\n",
    "z=1\n",
    "k=0\n",
    "\n",
    "\n",
    "while a==0:\n",
    "    n=int(input(\"Enter a integer: \"))\n",
    "    b=input(\"q to quit: \")\n",
    "    c=c+n\n",
    "    k=k+1\n",
    "    m=c/k\n",
    "    z=z*n\n",
    "    \n",
    "    \n",
    "    \n",
    "    if b== \"q\":\n",
    "        break\n",
    "print(\"avg is\",m,\"product is\",z)\n"
   ]
  },
  {
   "cell_type": "code",
   "execution_count": 5,
   "id": "f74ce292",
   "metadata": {},
   "outputs": [
    {
     "name": "stdout",
     "output_type": "stream",
     "text": [
      "Enter a number: kbsh879n*hbsk \n",
      "kbshnhbsk\n"
     ]
    }
   ],
   "source": [
    "#12) Write a Python program which will remove all digits or any other characters from the string except alphabets\n",
    "\n",
    "a=input(\"Enter a number: \")\n",
    "c=\"\"\n",
    "\n",
    "for b in range(len(a)):\n",
    "    if a[b].isalpha():\n",
    "        c=c+a[b]\n",
    "        \n",
    "print(c)\n",
    "    \n",
    "    "
   ]
  },
  {
   "cell_type": "code",
   "execution_count": 9,
   "id": "bb79a038",
   "metadata": {},
   "outputs": [
    {
     "name": "stdout",
     "output_type": "stream",
     "text": [
      "30\n"
     ]
    }
   ],
   "source": [
    "#13) Write a python program to find the sum of all even numbers from 0 to 10\n",
    "b=0\n",
    "for a in range(0,11):\n",
    "    if a%2==0:\n",
    "        b=b+a\n",
    "print(b)"
   ]
  },
  {
   "cell_type": "code",
   "execution_count": 16,
   "id": "33895c38",
   "metadata": {
    "scrolled": true
   },
   "outputs": [
    {
     "name": "stdout",
     "output_type": "stream",
     "text": [
      "Enter a digit: 10\n",
      "10\n",
      "9\n",
      "8\n",
      "7\n",
      "6\n",
      "5\n",
      "4\n",
      "3\n",
      "2\n",
      "1\n",
      "0\n"
     ]
    }
   ],
   "source": [
    "#14) Write a python program which will accept a digit and print All the numbers before it till 0\n",
    "\n",
    "a=int(input(\"Enter a digit: \"))\n",
    "\n",
    "for x in range(a,-1,-1):\n",
    "\n",
    "    print(x)\n",
    "    \n",
    "\n"
   ]
  },
  {
   "cell_type": "code",
   "execution_count": null,
   "id": "809b25e5",
   "metadata": {},
   "outputs": [],
   "source": []
  },
  {
   "cell_type": "code",
   "execution_count": null,
   "id": "700377ad",
   "metadata": {},
   "outputs": [],
   "source": []
  }
 ],
 "metadata": {
  "kernelspec": {
   "display_name": "Python 3 (ipykernel)",
   "language": "python",
   "name": "python3"
  },
  "language_info": {
   "codemirror_mode": {
    "name": "ipython",
    "version": 3
   },
   "file_extension": ".py",
   "mimetype": "text/x-python",
   "name": "python",
   "nbconvert_exporter": "python",
   "pygments_lexer": "ipython3",
   "version": "3.10.9"
  }
 },
 "nbformat": 4,
 "nbformat_minor": 5
}
