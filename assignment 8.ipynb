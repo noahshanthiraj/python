{
 "cells": [
  {
   "cell_type": "code",
   "execution_count": 1,
   "id": "1e1e16af",
   "metadata": {},
   "outputs": [
    {
     "data": {
      "text/plain": [
       "'True'"
      ]
     },
     "execution_count": 1,
     "metadata": {},
     "output_type": "execute_result"
    }
   ],
   "source": [
    "#1. Create a function that takes a boolean variable flag and returns it as a string. \n",
    "#Examples\n",
    "#bool_to_string(True) ➞ \"True\" \n",
    "#bool_to_string(False) ➞ \"False\"\n",
    "\n",
    "def bool_to_string(flag):\n",
    "    if flag==True:\n",
    "        return \"True\"\n",
    "    elif flag==False:\n",
    "        return \"False\"\n",
    "    else:\n",
    "        return None\n",
    "\n",
    "bool_to_string(True)"
   ]
  },
  {
   "cell_type": "code",
   "execution_count": 2,
   "id": "fc2ee1f1",
   "metadata": {},
   "outputs": [],
   "source": [
    "#2 Create a function that returns True when num1 is equal to num2; otherwise return False.\n",
    "\n",
    "def x(y,z):\n",
    "    \n",
    "    if y==z:\n",
    "        print(True)\n",
    "    else:\n",
    "        print(False)"
   ]
  },
  {
   "cell_type": "code",
   "execution_count": 3,
   "id": "3332dd82",
   "metadata": {},
   "outputs": [
    {
     "name": "stdout",
     "output_type": "stream",
     "text": [
      "False\n"
     ]
    }
   ],
   "source": [
    "x(2,3)"
   ]
  },
  {
   "cell_type": "code",
   "execution_count": 4,
   "id": "6c855eaf",
   "metadata": {},
   "outputs": [
    {
     "name": "stdout",
     "output_type": "stream",
     "text": [
      "True\n"
     ]
    }
   ],
   "source": [
    "x(2,2)"
   ]
  },
  {
   "cell_type": "code",
   "execution_count": 5,
   "id": "cc48e3ce",
   "metadata": {},
   "outputs": [],
   "source": [
    "#3 Create a function that takes a number as its only argument and returns True if it's less than or equal to zero,\n",
    "#otherwise return False.\n",
    "\n",
    "def x(y):\n",
    "    \n",
    "    if y<=0:\n",
    "        return True\n",
    "    else:\n",
    "        return False"
   ]
  },
  {
   "cell_type": "code",
   "execution_count": 6,
   "id": "0ede241f",
   "metadata": {},
   "outputs": [
    {
     "data": {
      "text/plain": [
       "False"
      ]
     },
     "execution_count": 6,
     "metadata": {},
     "output_type": "execute_result"
    }
   ],
   "source": [
    "x(2)"
   ]
  },
  {
   "cell_type": "code",
   "execution_count": 7,
   "id": "abd76469",
   "metadata": {},
   "outputs": [
    {
     "data": {
      "text/plain": [
       "True"
      ]
     },
     "execution_count": 7,
     "metadata": {},
     "output_type": "execute_result"
    }
   ],
   "source": [
    "x(-1)\n"
   ]
  },
  {
   "cell_type": "code",
   "execution_count": 8,
   "id": "656173df",
   "metadata": {},
   "outputs": [],
   "source": [
    "#4 Emmy has written a function that returns a greeting to users. However, she's in love with Mubashir, and would like to greet him slightly differently. She added a special case in her function, but she made a mistake.\n",
    "#Can you help her?\n",
    "\n",
    "def greeting(y,x=\"hello\"):\n",
    "    if y==\"matt\":\n",
    "        return x+\", matt!\"\n",
    "    if y==\"helen\":\n",
    "        return x+\", helen!\"\n",
    "    if y==\"mubashir\":\n",
    "        return x+\", my love!\""
   ]
  },
  {
   "cell_type": "code",
   "execution_count": 9,
   "id": "533b8520",
   "metadata": {},
   "outputs": [
    {
     "data": {
      "text/plain": [
       "'hello, matt!'"
      ]
     },
     "execution_count": 9,
     "metadata": {},
     "output_type": "execute_result"
    }
   ],
   "source": [
    "greeting(\"matt\")"
   ]
  },
  {
   "cell_type": "code",
   "execution_count": 10,
   "id": "df5fdcc9",
   "metadata": {},
   "outputs": [
    {
     "data": {
      "text/plain": [
       "'hello, helen!'"
      ]
     },
     "execution_count": 10,
     "metadata": {},
     "output_type": "execute_result"
    }
   ],
   "source": [
    "greeting(\"helen\")"
   ]
  },
  {
   "cell_type": "code",
   "execution_count": 11,
   "id": "25a82b6c",
   "metadata": {},
   "outputs": [
    {
     "data": {
      "text/plain": [
       "'hello, my love!'"
      ]
     },
     "execution_count": 11,
     "metadata": {},
     "output_type": "execute_result"
    }
   ],
   "source": [
    "greeting(\"mubashir\")"
   ]
  },
  {
   "cell_type": "code",
   "execution_count": 12,
   "id": "924b6bbd",
   "metadata": {},
   "outputs": [],
   "source": [
    "#5 Create a function that takes two arguments. Both arguments are integers, a and b. Return True if one of them is 10 or if \n",
    "#their sum is 10.\n",
    "\n",
    "def check(a,b):\n",
    "    if a==10 or b==10 or a+b==10:\n",
    "        return True\n",
    "    else:\n",
    "        return False"
   ]
  },
  {
   "cell_type": "code",
   "execution_count": 13,
   "id": "3b75d5ac",
   "metadata": {},
   "outputs": [
    {
     "data": {
      "text/plain": [
       "True"
      ]
     },
     "execution_count": 13,
     "metadata": {},
     "output_type": "execute_result"
    }
   ],
   "source": [
    "check(10,9)"
   ]
  },
  {
   "cell_type": "code",
   "execution_count": 14,
   "id": "307affa1",
   "metadata": {},
   "outputs": [
    {
     "data": {
      "text/plain": [
       "False"
      ]
     },
     "execution_count": 14,
     "metadata": {},
     "output_type": "execute_result"
    }
   ],
   "source": [
    "check(1,2)"
   ]
  },
  {
   "cell_type": "code",
   "execution_count": 15,
   "id": "9e97489a",
   "metadata": {},
   "outputs": [],
   "source": [
    "\n",
    "# 6 Create a function that takes three arguments prob, prize, pay and returns True if prob * prize > pay; otherwise return False.\n",
    "\n",
    "def a(prob,prize,pay):\n",
    "    return prob * prize > pay\n"
   ]
  },
  {
   "cell_type": "code",
   "execution_count": 16,
   "id": "31aa9ef4",
   "metadata": {},
   "outputs": [
    {
     "data": {
      "text/plain": [
       "True"
      ]
     },
     "execution_count": 16,
     "metadata": {},
     "output_type": "execute_result"
    }
   ],
   "source": [
    "a(0.2,50,5)"
   ]
  },
  {
   "cell_type": "code",
   "execution_count": 17,
   "id": "050594f3",
   "metadata": {},
   "outputs": [
    {
     "data": {
      "text/plain": [
       "False"
      ]
     },
     "execution_count": 17,
     "metadata": {},
     "output_type": "execute_result"
    }
   ],
   "source": [
    "a(0.2,5,50)"
   ]
  },
  {
   "cell_type": "code",
   "execution_count": 19,
   "id": "3643eade",
   "metadata": {},
   "outputs": [],
   "source": [
    "#7 Create a function that takes an integer and returns True if it's divisible by 100, otherwise return False.\n",
    "\n",
    "def integer(x):\n",
    "    return x%100==0"
   ]
  },
  {
   "cell_type": "code",
   "execution_count": 20,
   "id": "2bdd55c8",
   "metadata": {},
   "outputs": [
    {
     "data": {
      "text/plain": [
       "True"
      ]
     },
     "execution_count": 20,
     "metadata": {},
     "output_type": "execute_result"
    }
   ],
   "source": [
    "integer(100)"
   ]
  },
  {
   "cell_type": "code",
   "execution_count": 21,
   "id": "b0f27658",
   "metadata": {},
   "outputs": [],
   "source": [
    "#8 Create a function that takes two strings as arguments and return either True or False depending on whether the total number\n",
    "#of characters in the first string is equal to the total number of characters in the second string.\n",
    "\n",
    "def strings(a,b):\n",
    "    if len(a)==len(b):\n",
    "        return True\n",
    "    else:\n",
    "        return False"
   ]
  },
  {
   "cell_type": "code",
   "execution_count": 22,
   "id": "db6955e4",
   "metadata": {},
   "outputs": [
    {
     "data": {
      "text/plain": [
       "False"
      ]
     },
     "execution_count": 22,
     "metadata": {},
     "output_type": "execute_result"
    }
   ],
   "source": [
    "strings(\"lion\",\"tiger\")"
   ]
  },
  {
   "cell_type": "code",
   "execution_count": 23,
   "id": "9c884ca3",
   "metadata": {},
   "outputs": [
    {
     "data": {
      "text/plain": [
       "True"
      ]
     },
     "execution_count": 23,
     "metadata": {},
     "output_type": "execute_result"
    }
   ],
   "source": [
    "strings(\"lion\",\"lion\")"
   ]
  },
  {
   "cell_type": "code",
   "execution_count": 24,
   "id": "f2f21b4d",
   "metadata": {},
   "outputs": [],
   "source": [
    "#9 Given a string, return True if its length is even or False if the length is odd.\n",
    "\n",
    "def x(a):\n",
    "    return len(a)%2==0 "
   ]
  },
  {
   "cell_type": "code",
   "execution_count": 25,
   "id": "7710d167",
   "metadata": {},
   "outputs": [
    {
     "data": {
      "text/plain": [
       "True"
      ]
     },
     "execution_count": 25,
     "metadata": {},
     "output_type": "execute_result"
    }
   ],
   "source": [
    "x(\"lion\")"
   ]
  },
  {
   "cell_type": "code",
   "execution_count": 26,
   "id": "e7c81c28",
   "metadata": {},
   "outputs": [
    {
     "data": {
      "text/plain": [
       "False"
      ]
     },
     "execution_count": 26,
     "metadata": {},
     "output_type": "execute_result"
    }
   ],
   "source": [
    "x(\"tiger\")"
   ]
  },
  {
   "cell_type": "code",
   "execution_count": 36,
   "id": "467087e3",
   "metadata": {},
   "outputs": [],
   "source": [
    "#10 Create a function that takes a string; we'll say that the front is the first three characters of the string. If the string \n",
    "#length is less than three characters, the front is whatever is there. Return a new string, which is three copies of the front.\n",
    "\n",
    "\n",
    "def copies(a):\n",
    "    if len(a)<3:\n",
    "        return a\n",
    "    else:\n",
    "        return a[0:3]*3\n"
   ]
  },
  {
   "cell_type": "code",
   "execution_count": 34,
   "id": "c0585a1c",
   "metadata": {},
   "outputs": [
    {
     "data": {
      "text/plain": [
       "'lioliolio'"
      ]
     },
     "execution_count": 34,
     "metadata": {},
     "output_type": "execute_result"
    }
   ],
   "source": [
    "copies(\"lion\")"
   ]
  },
  {
   "cell_type": "code",
   "execution_count": 35,
   "id": "dcf3493c",
   "metadata": {},
   "outputs": [
    {
     "data": {
      "text/plain": [
       "'c'"
      ]
     },
     "execution_count": 35,
     "metadata": {},
     "output_type": "execute_result"
    }
   ],
   "source": [
    "copies(\"c\")"
   ]
  },
  {
   "cell_type": "code",
   "execution_count": 41,
   "id": "6f7de906",
   "metadata": {},
   "outputs": [],
   "source": [
    "#12 Write a function that returns True if a year is a leap, otherwise return False.\n",
    "#A year is a \"leap year\" if it lasts 366 days, instead of 365 in a typical year. That extra day is added to the end of the shortest month, creating February 29.\n",
    "#A leap year occurs every four years, and will take place if the year is a multiple of four. The exception to this is a year at the beginning of a century (for example, 1900 or 2000), where the year must be divisible by 400 to be a leap year.\n",
    "#Look at the examples, and if you need help, look at the resources panel\n",
    "\n",
    "def leap_year(r):\n",
    "    \n",
    "    if r%4==0:\n",
    "        return True\n",
    "    else :\n",
    "        return False\n",
    "    \n",
    "        if r%400==0:\n",
    "            return True\n",
    "        else:\n",
    "            return False\n",
    "    \n",
    "        \n",
    "    \n",
    "    \n",
    "    \n",
    "    \n",
    "    \n",
    "    \n"
   ]
  },
  {
   "cell_type": "code",
   "execution_count": 42,
   "id": "b01e224a",
   "metadata": {},
   "outputs": [
    {
     "data": {
      "text/plain": [
       "False"
      ]
     },
     "execution_count": 42,
     "metadata": {},
     "output_type": "execute_result"
    }
   ],
   "source": [
    "leap_year(1990)"
   ]
  },
  {
   "cell_type": "code",
   "execution_count": 44,
   "id": "23378947",
   "metadata": {},
   "outputs": [
    {
     "data": {
      "text/plain": [
       "True"
      ]
     },
     "execution_count": 44,
     "metadata": {},
     "output_type": "execute_result"
    }
   ],
   "source": [
    "leap_year(1924)"
   ]
  },
  {
   "cell_type": "code",
   "execution_count": 45,
   "id": "88a50e85",
   "metadata": {},
   "outputs": [],
   "source": [
    "#13 Create a function that takes an array of hurdle heights and a jumper's jump height, and determine whether or not the hurdler can clear all the hurdles.\n",
    "#A hurdler can clear a hurdle if their jump height is greater than or equal to the hurdle height.\n",
    "\n",
    "def hurdle_height(x,z):\n",
    "    for y in x:\n",
    "        if y>z:\n",
    "            return False\n",
    "        else:\n",
    "            return True\n"
   ]
  },
  {
   "cell_type": "code",
   "execution_count": 46,
   "id": "30700611",
   "metadata": {},
   "outputs": [
    {
     "data": {
      "text/plain": [
       "True"
      ]
     },
     "execution_count": 46,
     "metadata": {},
     "output_type": "execute_result"
    }
   ],
   "source": [
    "hurdle_height([1, 2, 3, 4, 5], 5)"
   ]
  },
  {
   "cell_type": "code",
   "execution_count": 48,
   "id": "b569ffd9",
   "metadata": {},
   "outputs": [
    {
     "data": {
      "text/plain": [
       "False"
      ]
     },
     "execution_count": 48,
     "metadata": {},
     "output_type": "execute_result"
    }
   ],
   "source": [
    "hurdle_height([5, 5, 3, 4, 5], 3)"
   ]
  },
  {
   "cell_type": "code",
   "execution_count": 61,
   "id": "d133401a",
   "metadata": {},
   "outputs": [],
   "source": [
    "#14 Create a function that takes a number (from 1 to 12) and returns its corresponding month name as a string. For example, if you're given 3 as input, your function should return \"March\", because March is the 3rd month.\n",
    "\n",
    "def month_name(x):\n",
    "    if x==1:\n",
    "        return \"Jan\"\n",
    "    elif x==2:\n",
    "        return \"Feb\"\n",
    "    elif x==3:\n",
    "        return \"mar\"\n",
    "    elif x==4:\n",
    "        return \"apr\"\n",
    "    elif x==5:\n",
    "        return \"may\"\n",
    "    elif x==6:\n",
    "        return \"jun\"\n",
    "    elif x==7:\n",
    "        return \"jul\"\n",
    "    elif x==8:\n",
    "        return \"aug\"\n",
    "    elif x==9:\n",
    "        return \"sep\"\n",
    "    elif x==10:\n",
    "        return \"oct\"\n",
    "    elif x==11:\n",
    "        return \"nov\"\n",
    "    elif x==12:\n",
    "        return \"dec\"\n",
    "    else:\n",
    "        return \"invalid\"\n",
    "    "
   ]
  },
  {
   "cell_type": "code",
   "execution_count": 59,
   "id": "132a4e3f",
   "metadata": {},
   "outputs": [
    {
     "data": {
      "text/plain": [
       "'Feb'"
      ]
     },
     "execution_count": 59,
     "metadata": {},
     "output_type": "execute_result"
    }
   ],
   "source": [
    "month_name(2)"
   ]
  },
  {
   "cell_type": "code",
   "execution_count": 60,
   "id": "292639f2",
   "metadata": {},
   "outputs": [
    {
     "data": {
      "text/plain": [
       "'dec'"
      ]
     },
     "execution_count": 60,
     "metadata": {},
     "output_type": "execute_result"
    }
   ],
   "source": [
    "month_name(12)"
   ]
  },
  {
   "cell_type": "code",
   "execution_count": 68,
   "id": "97765b70",
   "metadata": {},
   "outputs": [],
   "source": [
    "#15 Create a function that takes in a two-dimensional list and returns the number of sub-lists with only identical elements.\n",
    "\n",
    "def same(x):\n",
    "    count=0\n",
    "    for z in x:\n",
    "        if len(set(z))==1:\n",
    "            count+=1\n",
    "    return count"
   ]
  },
  {
   "cell_type": "code",
   "execution_count": 69,
   "id": "03163fea",
   "metadata": {},
   "outputs": [
    {
     "data": {
      "text/plain": [
       "4"
      ]
     },
     "execution_count": 69,
     "metadata": {},
     "output_type": "execute_result"
    }
   ],
   "source": [
    "same([\n",
    "  [1],\n",
    "  [2],\n",
    "  [3],\n",
    "  [4]\n",
    "])"
   ]
  },
  {
   "cell_type": "code",
   "execution_count": 72,
   "id": "e3d99525",
   "metadata": {},
   "outputs": [
    {
     "data": {
      "text/plain": [
       "1"
      ]
     },
     "execution_count": 72,
     "metadata": {},
     "output_type": "execute_result"
    }
   ],
   "source": [
    "same([\n",
    "  [1, 2],\n",
    "  [2, 3],\n",
    "  [3, 4],\n",
    "  [4, 4]\n",
    "]) "
   ]
  },
  {
   "cell_type": "code",
   "execution_count": 73,
   "id": "dc013056",
   "metadata": {},
   "outputs": [
    {
     "data": {
      "text/plain": [
       "4"
      ]
     },
     "execution_count": 73,
     "metadata": {},
     "output_type": "execute_result"
    }
   ],
   "source": [
    "same([\n",
    "  [33, 33],\n",
    "  [5],\n",
    "  [\"a\", \"a\"],\n",
    "  [2, 2, 2],\n",
    "  [1, 2, 2],\n",
    "  [3, 1]\n",
    "])"
   ]
  },
  {
   "cell_type": "code",
   "execution_count": 62,
   "id": "7c5af572",
   "metadata": {},
   "outputs": [],
   "source": [
    "#16 A bartender is writing a simple program to determine whether he should serve drinks to someone. He only serves drinks to people 18 and older and when he's not on break.\n",
    "\n",
    "#Given the person's age, and whether break time is in session, create a function which returns whether he should serve drinks.\n",
    "\n",
    "\n",
    "def should_serve_drinks(age, on_break):\n",
    "    if age>=18 and on_break ==False:\n",
    "        return True\n",
    "    else:\n",
    "        return False\n"
   ]
  },
  {
   "cell_type": "code",
   "execution_count": 63,
   "id": "b39ed334",
   "metadata": {},
   "outputs": [
    {
     "data": {
      "text/plain": [
       "False"
      ]
     },
     "execution_count": 63,
     "metadata": {},
     "output_type": "execute_result"
    }
   ],
   "source": [
    "should_serve_drinks(17, True)"
   ]
  },
  {
   "cell_type": "code",
   "execution_count": 64,
   "id": "658c6571",
   "metadata": {},
   "outputs": [
    {
     "data": {
      "text/plain": [
       "True"
      ]
     },
     "execution_count": 64,
     "metadata": {},
     "output_type": "execute_result"
    }
   ],
   "source": [
    "should_serve_drinks(19, False)"
   ]
  },
  {
   "cell_type": "code",
   "execution_count": 77,
   "id": "c47d31a2",
   "metadata": {},
   "outputs": [],
   "source": [
    "#17 You will need to write three unfinished logic gates. Continue to write the three logic gates: AND, OR, and NOT.\n",
    "\n",
    "def AND(x,y):\n",
    "    if x==1 and y==1:\n",
    "        return 1\n",
    "    else:\n",
    "        return 0\n",
    "def OR(x,y):\n",
    "    if x==1 or x==1:\n",
    "        return 1\n",
    "    else :\n",
    "        return 0\n",
    "    \n",
    "def NOT(x):\n",
    "    if x==1:\n",
    "        return 0\n",
    "    if x==0:\n",
    "        return 1\n",
    "    "
   ]
  },
  {
   "cell_type": "code",
   "execution_count": 78,
   "id": "4a3773ef",
   "metadata": {},
   "outputs": [
    {
     "data": {
      "text/plain": [
       "1"
      ]
     },
     "execution_count": 78,
     "metadata": {},
     "output_type": "execute_result"
    }
   ],
   "source": [
    "NOT(0)"
   ]
  },
  {
   "cell_type": "code",
   "execution_count": 79,
   "id": "6c62f4cc",
   "metadata": {},
   "outputs": [
    {
     "data": {
      "text/plain": [
       "48"
      ]
     },
     "execution_count": 79,
     "metadata": {},
     "output_type": "execute_result"
    }
   ],
   "source": [
    "#18 Write a function that accepts base (decimal), height (decimal) and shape (\"triangle\", \"parallelogram\") as input and calculates \n",
    "#the area of that shape.\n",
    "\n",
    "def area_shape(base, height, shape):\n",
    "    if shape==\"triangle\":\n",
    "        return 0.5*base*height\n",
    "    else:\n",
    "        return base*height\n",
    "    \n",
    "area_shape(2, 3, \"triangle\")\n",
    "area_shape(8, 6, \"parallelogram\")"
   ]
  },
  {
   "cell_type": "code",
   "execution_count": 80,
   "id": "b69b50af",
   "metadata": {},
   "outputs": [
    {
     "data": {
      "text/plain": [
       "True"
      ]
     },
     "execution_count": 80,
     "metadata": {},
     "output_type": "execute_result"
    }
   ],
   "source": [
    "#19 Create a function that takes a string (a random name). If the last character of the name is an \"n\", return True,\n",
    "#otherwise return False.\n",
    "def name(a):\n",
    "    return a.endswith(\"n\")\n",
    "name(\"lion\")"
   ]
  },
  {
   "cell_type": "code",
   "execution_count": 81,
   "id": "9c64a5ec",
   "metadata": {},
   "outputs": [
    {
     "data": {
      "text/plain": [
       "True"
      ]
     },
     "execution_count": 81,
     "metadata": {},
     "output_type": "execute_result"
    }
   ],
   "source": [
    "#20 Create a function that takes in a word and determines whether or not it is plural. A plural word is one that ends in \"s\"\n",
    "\n",
    "def is_plural(a):\n",
    "    return a[-1]==\"s\"\n",
    "is_plural(\"lions\")"
   ]
  },
  {
   "cell_type": "code",
   "execution_count": 82,
   "id": "b992e70a",
   "metadata": {},
   "outputs": [],
   "source": [
    "#21 Create a function that takes a number as an argument and returns \"even\" for even numbers and \"odd\" for odd numbers.\n",
    "\n",
    "def x(a):\n",
    "    if a%2==0:\n",
    "        return \"even\"\n",
    "    else:\n",
    "        return \"odd\""
   ]
  },
  {
   "cell_type": "code",
   "execution_count": 83,
   "id": "5c53d40c",
   "metadata": {},
   "outputs": [
    {
     "data": {
      "text/plain": [
       "'odd'"
      ]
     },
     "execution_count": 83,
     "metadata": {},
     "output_type": "execute_result"
    }
   ],
   "source": [
    "x(3)"
   ]
  },
  {
   "cell_type": "code",
   "execution_count": null,
   "id": "85f276c4",
   "metadata": {},
   "outputs": [],
   "source": []
  }
 ],
 "metadata": {
  "kernelspec": {
   "display_name": "Python 3 (ipykernel)",
   "language": "python",
   "name": "python3"
  },
  "language_info": {
   "codemirror_mode": {
    "name": "ipython",
    "version": 3
   },
   "file_extension": ".py",
   "mimetype": "text/x-python",
   "name": "python",
   "nbconvert_exporter": "python",
   "pygments_lexer": "ipython3",
   "version": "3.10.9"
  }
 },
 "nbformat": 4,
 "nbformat_minor": 5
}
