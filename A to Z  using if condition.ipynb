{
 "cells": [
  {
   "cell_type": "code",
   "execution_count": 1,
   "id": "2daa44c1",
   "metadata": {},
   "outputs": [
    {
     "name": "stdout",
     "output_type": "stream",
     "text": [
      "* * *\n",
      "*   *\n",
      "* * *\n",
      "*   *\n",
      "*   *\n"
     ]
    }
   ],
   "source": [
    "x1= 1\n",
    "x2=2\n",
    "x3=3\n",
    "x4=4\n",
    "x5=5\n",
    "\n",
    "\n",
    "if x1==1:\n",
    "    print(\"* * *\")\n",
    "    \n",
    "    if x2==2:\n",
    "        print(\"*   *\")\n",
    "        \n",
    "    if x3 ==3:\n",
    "        print(\"* * *\")\n",
    "    if x4==4:\n",
    "        print(\"*   *\")\n",
    "    if x5==5:\n",
    "        print(\"*   *\")"
   ]
  },
  {
   "cell_type": "code",
   "execution_count": 2,
   "id": "570b2b2a",
   "metadata": {},
   "outputs": [
    {
     "name": "stdout",
     "output_type": "stream",
     "text": [
      "* * *\n",
      "*   *\n",
      "* * *\n",
      "*   *\n",
      "* * *\n"
     ]
    }
   ],
   "source": [
    "x1= 1\n",
    "x2=2\n",
    "x3=3\n",
    "x4=4\n",
    "x5=5\n",
    "\n",
    "\n",
    "if x1==1:\n",
    "    print(\"* * *\")\n",
    "    \n",
    "    if x2==2:\n",
    "        print(\"*   *\")\n",
    "        \n",
    "    if x3 ==3:\n",
    "        print(\"* * *\")\n",
    "    if x4==4:\n",
    "        print(\"*   *\")\n",
    "    if x5==5:\n",
    "        print(\"* * *\")"
   ]
  },
  {
   "cell_type": "code",
   "execution_count": 3,
   "id": "f3c91a9f",
   "metadata": {},
   "outputs": [
    {
     "name": "stdout",
     "output_type": "stream",
     "text": [
      "* * *\n",
      "*   \n",
      "*  \n",
      "*   \n",
      "* * *\n"
     ]
    }
   ],
   "source": [
    "x1= 1\n",
    "x2=2\n",
    "x3=3\n",
    "x4=4\n",
    "x5=5\n",
    "\n",
    "\n",
    "if x1==1:\n",
    "    print(\"* * *\")\n",
    "    \n",
    "    if x2==2:\n",
    "        print(\"*   \")\n",
    "        \n",
    "    if x3 ==3:\n",
    "        print(\"*  \")\n",
    "    if x4==4:\n",
    "        print(\"*   \")\n",
    "    if x5==5:\n",
    "        print(\"* * *\")"
   ]
  },
  {
   "cell_type": "code",
   "execution_count": 4,
   "id": "5352b4fe",
   "metadata": {},
   "outputs": [
    {
     "name": "stdout",
     "output_type": "stream",
     "text": [
      "* * *\n",
      "*   *\n",
      "*   *\n",
      "*   *\n",
      "* * *\n"
     ]
    }
   ],
   "source": [
    "x1= 1\n",
    "x2=2\n",
    "x3=3\n",
    "x4=4\n",
    "x5=5\n",
    "\n",
    "\n",
    "if x1==1:\n",
    "    print(\"* * *\")\n",
    "    \n",
    "    if x2==2:\n",
    "        print(\"*   *\")\n",
    "        \n",
    "    if x3 ==3:\n",
    "        print(\"*   *\")\n",
    "    if x4==4:\n",
    "        print(\"*   *\")\n",
    "    if x5==5:\n",
    "        print(\"* * *\")"
   ]
  },
  {
   "cell_type": "code",
   "execution_count": 5,
   "id": "e67d50da",
   "metadata": {},
   "outputs": [
    {
     "name": "stdout",
     "output_type": "stream",
     "text": [
      "* * *\n",
      "*   \n",
      "* * *\n",
      "*   \n",
      "* * * \n"
     ]
    }
   ],
   "source": [
    "x1= 1\n",
    "x2=2\n",
    "x3=3\n",
    "x4=4\n",
    "x5=5\n",
    "\n",
    "\n",
    "if x1==1:\n",
    "    print(\"* * *\")\n",
    "    \n",
    "    if x2==2:\n",
    "        print(\"*   \")\n",
    "        \n",
    "    if x3 ==3:\n",
    "        print(\"* * *\")\n",
    "    if x4==4:\n",
    "        print(\"*   \")\n",
    "    if x5==5:\n",
    "        print(\"* * * \")"
   ]
  },
  {
   "cell_type": "code",
   "execution_count": 6,
   "id": "b231807d",
   "metadata": {},
   "outputs": [
    {
     "name": "stdout",
     "output_type": "stream",
     "text": [
      "* * *\n",
      "*   \n",
      "* * *\n",
      "*   \n",
      "*    \n"
     ]
    }
   ],
   "source": [
    "x1= 1\n",
    "x2=2\n",
    "x3=3\n",
    "x4=4\n",
    "x5=5\n",
    "\n",
    "\n",
    "if x1==1:\n",
    "    print(\"* * *\")\n",
    "    \n",
    "    if x2==2:\n",
    "        print(\"*   \")\n",
    "        \n",
    "    if x3 ==3:\n",
    "        print(\"* * *\")\n",
    "    if x4==4:\n",
    "        print(\"*   \")\n",
    "    if x5==5:\n",
    "        print(\"*    \")"
   ]
  },
  {
   "cell_type": "code",
   "execution_count": 7,
   "id": "f8b1d38f",
   "metadata": {},
   "outputs": [
    {
     "name": "stdout",
     "output_type": "stream",
     "text": [
      "* * *\n",
      "*   \n",
      "*   * * *\n",
      "*   *   *\n",
      "* * *   *\n"
     ]
    }
   ],
   "source": [
    "x1= 1\n",
    "x2=2\n",
    "x3=3\n",
    "x4=4\n",
    "x5=5\n",
    "\n",
    "\n",
    "if x1==1:\n",
    "    print(\"* * *\")\n",
    "    \n",
    "    if x2==2:\n",
    "        print(\"*   \")\n",
    "        \n",
    "    if x3 ==3:\n",
    "        print(\"*   * * *\")\n",
    "    if x4==4:\n",
    "        print(\"*   *   *\")\n",
    "    if x5==5:\n",
    "        print(\"* * *   *\")"
   ]
  },
  {
   "cell_type": "code",
   "execution_count": 8,
   "id": "3daa0b77",
   "metadata": {},
   "outputs": [
    {
     "name": "stdout",
     "output_type": "stream",
     "text": [
      "*   *\n",
      "*   *\n",
      "* * *\n",
      "*   *\n",
      "*   *\n"
     ]
    }
   ],
   "source": [
    "x1= 1\n",
    "x2=2\n",
    "x3=3\n",
    "x4=4\n",
    "x5=5\n",
    "\n",
    "\n",
    "if x1==1:\n",
    "    print(\"*   *\")\n",
    "    \n",
    "    if x2==2:\n",
    "        print(\"*   *\")\n",
    "        \n",
    "    if x3 ==3:\n",
    "        print(\"* * *\")\n",
    "    if x4==4:\n",
    "        print(\"*   *\")\n",
    "    if x5==5:\n",
    "        print(\"*   *\")"
   ]
  },
  {
   "cell_type": "code",
   "execution_count": 9,
   "id": "485b6aee",
   "metadata": {},
   "outputs": [
    {
     "name": "stdout",
     "output_type": "stream",
     "text": [
      "* * *\n",
      "  *  \n",
      "  *  \n",
      "  *  \n",
      "* * *\n"
     ]
    }
   ],
   "source": [
    "x1= 1\n",
    "x2=2\n",
    "x3=3\n",
    "x4=4\n",
    "x5=5\n",
    "\n",
    "\n",
    "if x1==1:\n",
    "    print(\"* * *\")\n",
    "    \n",
    "    if x2==2:\n",
    "        print(\"  *  \")\n",
    "        \n",
    "    if x3 ==3:\n",
    "        print(\"  *  \")\n",
    "    if x4==4:\n",
    "        print(\"  *  \")\n",
    "    if x5==5:\n",
    "        print(\"* * *\")"
   ]
  },
  {
   "cell_type": "code",
   "execution_count": 10,
   "id": "fbf6d9d8",
   "metadata": {},
   "outputs": [
    {
     "name": "stdout",
     "output_type": "stream",
     "text": [
      "* * *\n",
      "  *  \n",
      "  *  \n",
      "  *  \n",
      "* *  \n"
     ]
    }
   ],
   "source": [
    "x1= 1\n",
    "x2=2\n",
    "x3=3\n",
    "x4=4\n",
    "x5=5\n",
    "\n",
    "\n",
    "if x1==1:\n",
    "    print(\"* * *\")\n",
    "    \n",
    "    if x2==2:\n",
    "        print(\"  *  \")\n",
    "        \n",
    "    if x3 ==3:\n",
    "        print(\"  *  \")\n",
    "    if x4==4:\n",
    "        print(\"  *  \")\n",
    "    if x5==5:\n",
    "        print(\"* *  \")"
   ]
  },
  {
   "cell_type": "code",
   "execution_count": 11,
   "id": "82b9e567",
   "metadata": {},
   "outputs": [
    {
     "name": "stdout",
     "output_type": "stream",
     "text": [
      "  *   * \n",
      "  * * \n",
      "  **  \n",
      "  * * \n",
      "  *   * \n"
     ]
    }
   ],
   "source": [
    "x1= 1\n",
    "x2=2\n",
    "x3=3\n",
    "x4=4\n",
    "x5=5\n",
    "\n",
    "\n",
    "if x1==1:\n",
    "    print(\"  *   * \")\n",
    "    \n",
    "    if x2==2:\n",
    "        print(\"  * * \")\n",
    "        \n",
    "    if x3 ==3:\n",
    "        print(\"  **  \")\n",
    "    if x4==4:\n",
    "        print(\"  * * \")\n",
    "    if x5==5:\n",
    "        print(\"  *   * \")"
   ]
  },
  {
   "cell_type": "code",
   "execution_count": 12,
   "id": "d40a6cef",
   "metadata": {},
   "outputs": [
    {
     "name": "stdout",
     "output_type": "stream",
     "text": [
      "  *    \n",
      "  *  \n",
      "  *   \n",
      "  *    \n",
      "  * * * \n"
     ]
    }
   ],
   "source": [
    "x1= 1\n",
    "x2=2\n",
    "x3=3\n",
    "x4=4\n",
    "x5=5\n",
    "\n",
    "\n",
    "if x1==1:\n",
    "    print(\"  *    \")\n",
    "    \n",
    "    if x2==2:\n",
    "        print(\"  *  \")\n",
    "        \n",
    "    if x3 ==3:\n",
    "        print(\"  *   \" )\n",
    "    if x4==4:\n",
    "        print(\"  *    \")\n",
    "    if x5==5:\n",
    "        print(\"  * * * \")"
   ]
  },
  {
   "cell_type": "code",
   "execution_count": 13,
   "id": "a3320be8",
   "metadata": {},
   "outputs": [
    {
     "name": "stdout",
     "output_type": "stream",
     "text": [
      "* * * * *\n",
      "*   *   *\n",
      "*   *   *\n",
      "*   *   *\n",
      "*   *   *\n"
     ]
    }
   ],
   "source": [
    "x1= 1\n",
    "x2=2\n",
    "x3=3\n",
    "x4=4\n",
    "x5=5\n",
    "\n",
    "\n",
    "if x1==1:\n",
    "    print(\"* * * * *\")\n",
    "    \n",
    "    if x2==2:\n",
    "        print(\"*   *   *\")\n",
    "        \n",
    "    if x3 ==3:\n",
    "        print(\"*   *   *\")\n",
    "    if x4==4:\n",
    "        print(\"*   *   *\")\n",
    "    if x5==5:\n",
    "        print(\"*   *   *\")"
   ]
  },
  {
   "cell_type": "code",
   "execution_count": 14,
   "id": "5c00ca01",
   "metadata": {},
   "outputs": [
    {
     "name": "stdout",
     "output_type": "stream",
     "text": [
      "* * *   *\n",
      "*   *   *\n",
      "*   *   *\n",
      "*   *   *\n",
      "*   * * *\n"
     ]
    }
   ],
   "source": [
    "x1= 1\n",
    "x2=2\n",
    "x3=3\n",
    "x4=4\n",
    "x5=5\n",
    "\n",
    "\n",
    "if x1==1:\n",
    "    print(\"* * *   *\")\n",
    "    \n",
    "    if x2==2:\n",
    "        print(\"*   *   *\")\n",
    "        \n",
    "    if x3 ==3:\n",
    "        print(\"*   *   *\")\n",
    "    if x4==4:\n",
    "        print(\"*   *   *\")\n",
    "    if x5==5:\n",
    "        print(\"*   * * *\")"
   ]
  },
  {
   "cell_type": "code",
   "execution_count": 15,
   "id": "2d480b37",
   "metadata": {},
   "outputs": [
    {
     "name": "stdout",
     "output_type": "stream",
     "text": [
      "* * * *\n",
      "*     *\n",
      "*     *\n",
      "*     *\n",
      "* * * *\n"
     ]
    }
   ],
   "source": [
    "x1= 1\n",
    "x2=2\n",
    "x3=3\n",
    "x4=4\n",
    "x5=5\n",
    "\n",
    "\n",
    "if x1==1:\n",
    "    print(\"* * * *\")\n",
    "    \n",
    "    if x2==2:\n",
    "        print(\"*     *\")\n",
    "        \n",
    "    if x3 ==3:\n",
    "        print(\"*     *\")\n",
    "    if x4==4:\n",
    "        print(\"*     *\")\n",
    "    if x5==5:\n",
    "        print(\"* * * *\")"
   ]
  },
  {
   "cell_type": "code",
   "execution_count": 16,
   "id": "2472abce",
   "metadata": {},
   "outputs": [
    {
     "name": "stdout",
     "output_type": "stream",
     "text": [
      "* * *\n",
      "*   *\n",
      "* *  \n",
      "*    \n",
      "*    \n"
     ]
    }
   ],
   "source": [
    "x1= 1\n",
    "x2=2\n",
    "x3=3\n",
    "x4=4\n",
    "x5=5\n",
    "\n",
    "\n",
    "if x1==1:\n",
    "    print(\"* * *\")\n",
    "    \n",
    "    if x2==2:\n",
    "        print(\"*   *\")\n",
    "        \n",
    "    if x3 ==3:\n",
    "        print(\"* *  \")\n",
    "    if x4==4:\n",
    "        print(\"*    \")\n",
    "    if x5==5:\n",
    "        print(\"*    \")"
   ]
  },
  {
   "cell_type": "code",
   "execution_count": 17,
   "id": "9225211c",
   "metadata": {},
   "outputs": [
    {
     "name": "stdout",
     "output_type": "stream",
     "text": [
      "* * * *\n",
      "*     *\n",
      "*     *\n",
      "*     *\n",
      "* * * *\n",
      "       *\n"
     ]
    }
   ],
   "source": [
    "x1= 1\n",
    "x2=2\n",
    "x3=3\n",
    "x4=4\n",
    "x5=5\n",
    "x6=6\n",
    "\n",
    "\n",
    "if x1==1:\n",
    "    print(\"* * * *\")\n",
    "    \n",
    "    if x2==2:\n",
    "        print(\"*     *\")\n",
    "        \n",
    "    if x3 ==3:\n",
    "        print(\"*     *\")\n",
    "    if x4==4:\n",
    "        print(\"*     *\")\n",
    "    if x5==5:\n",
    "        print(\"* * * *\")\n",
    "    if x6==6:\n",
    "        print(\"       *\")"
   ]
  },
  {
   "cell_type": "code",
   "execution_count": 18,
   "id": "1105fd8f",
   "metadata": {},
   "outputs": [
    {
     "name": "stdout",
     "output_type": "stream",
     "text": [
      "* * *\n",
      "*   *\n",
      "* *  \n",
      "* *   \n",
      "*   * \n"
     ]
    }
   ],
   "source": [
    "x1= 1\n",
    "x2=2\n",
    "x3=3\n",
    "x4=4\n",
    "x5=5\n",
    "\n",
    "\n",
    "if x1==1:\n",
    "    print(\"* * *\")\n",
    "    \n",
    "    if x2==2:\n",
    "        print(\"*   *\")\n",
    "        \n",
    "    if x3 ==3:\n",
    "        print(\"* *  \")\n",
    "    if x4==4:\n",
    "        print(\"* *   \")\n",
    "    if x5==5:\n",
    "        print(\"*   * \")"
   ]
  },
  {
   "cell_type": "code",
   "execution_count": 19,
   "id": "4507f12e",
   "metadata": {},
   "outputs": [
    {
     "name": "stdout",
     "output_type": "stream",
     "text": [
      "* * *\n",
      "*   \n",
      "* * *\n",
      "    *\n",
      "* * * \n"
     ]
    }
   ],
   "source": [
    "x1= 1\n",
    "x2=2\n",
    "x3=3\n",
    "x4=4\n",
    "x5=5\n",
    "\n",
    "\n",
    "if x1==1:\n",
    "    print(\"* * *\")\n",
    "    \n",
    "    if x2==2:\n",
    "        print(\"*   \")\n",
    "        \n",
    "    if x3 ==3:\n",
    "        print(\"* * *\")\n",
    "    if x4==4:\n",
    "        print(\"    *\")\n",
    "    if x5==5:\n",
    "        print(\"* * * \")"
   ]
  },
  {
   "cell_type": "code",
   "execution_count": 20,
   "id": "630f4a5e",
   "metadata": {},
   "outputs": [
    {
     "name": "stdout",
     "output_type": "stream",
     "text": [
      "* * * \n",
      "  *  \n",
      "  *   \n",
      "  *    \n",
      "  * \n"
     ]
    }
   ],
   "source": [
    "x1= 1\n",
    "x2=2\n",
    "x3=3\n",
    "x4=4\n",
    "x5=5\n",
    "\n",
    "\n",
    "if x1==1:\n",
    "    print(\"* * * \")\n",
    "    \n",
    "    if x2==2:\n",
    "        print(\"  *  \")\n",
    "        \n",
    "    if x3 ==3:\n",
    "        print(\"  *   \" )\n",
    "    if x4==4:\n",
    "        print(\"  *    \")\n",
    "    if x5==5:\n",
    "        print(\"  * \")"
   ]
  },
  {
   "cell_type": "code",
   "execution_count": 21,
   "id": "0a235e8a",
   "metadata": {},
   "outputs": [
    {
     "name": "stdout",
     "output_type": "stream",
     "text": [
      "*     *\n",
      "*     *\n",
      "*     *\n",
      "*     *\n",
      "* * * *\n"
     ]
    }
   ],
   "source": [
    "x1= 1\n",
    "x2=2\n",
    "x3=3\n",
    "x4=4\n",
    "x5=5\n",
    "\n",
    "\n",
    "if x1==1:\n",
    "    print(\"*     *\")\n",
    "    \n",
    "    if x2==2:\n",
    "        print(\"*     *\")\n",
    "        \n",
    "    if x3 ==3:\n",
    "        print(\"*     *\")\n",
    "    if x4==4:\n",
    "        print(\"*     *\")\n",
    "    if x5==5:\n",
    "        print(\"* * * *\")"
   ]
  },
  {
   "cell_type": "code",
   "execution_count": 22,
   "id": "f1ffddaa",
   "metadata": {},
   "outputs": [
    {
     "name": "stdout",
     "output_type": "stream",
     "text": [
      "*         *\n",
      " *       *\n",
      "  *     *\n",
      "   *   *\n",
      "     *    \n"
     ]
    }
   ],
   "source": [
    "x1= 1\n",
    "x2=2\n",
    "x3=3\n",
    "x4=4\n",
    "x5=5\n",
    "\n",
    "\n",
    "if x1==1:\n",
    "    print(\"*         *\")\n",
    "    \n",
    "    if x2==2:\n",
    "        print(\" *       *\")\n",
    "        \n",
    "    if x3 ==3:\n",
    "        print(\"  *     *\")\n",
    "    if x4==4:\n",
    "        print(\"   *   *\")\n",
    "    if x5==5:\n",
    "        print(\"     *    \")"
   ]
  },
  {
   "cell_type": "code",
   "execution_count": 23,
   "id": "6f2a69b8",
   "metadata": {},
   "outputs": [
    {
     "name": "stdout",
     "output_type": "stream",
     "text": [
      "*   *   *\n",
      "*   *   *\n",
      "*   *   *\n",
      "*   *   *\n",
      "* * * * *\n"
     ]
    }
   ],
   "source": [
    "x1= 1\n",
    "x2=2\n",
    "x3=3\n",
    "x4=4\n",
    "x5=5\n",
    "\n",
    "\n",
    "if x1==1:\n",
    "    print(\"*   *   *\")\n",
    "    \n",
    "    if x2==2:\n",
    "        print(\"*   *   *\")\n",
    "        \n",
    "    if x3 ==3:\n",
    "        print(\"*   *   *\")\n",
    "    if x4==4:\n",
    "        print(\"*   *   *\")\n",
    "    if x5==5:\n",
    "         print(\"* * * * *\")"
   ]
  },
  {
   "cell_type": "code",
   "execution_count": 24,
   "id": "868815ab",
   "metadata": {},
   "outputs": [
    {
     "name": "stdout",
     "output_type": "stream",
     "text": [
      "*      *\n",
      " *   *\n",
      "   *  \n",
      " *    * \n",
      "*      *\n"
     ]
    }
   ],
   "source": [
    "x1= 1\n",
    "x2=2\n",
    "x3=3\n",
    "x4=4\n",
    "x5=5\n",
    "\n",
    "\n",
    "if x1==1:\n",
    "    print(\"*      *\")\n",
    "    \n",
    "    if x2==2:\n",
    "        print(\" *   *\")\n",
    "        \n",
    "    if x3 ==3:\n",
    "        print(\"   *  \")\n",
    "    if x4==4:\n",
    "        print(\" *    * \")\n",
    "    if x5==5:\n",
    "        print(\"*      *\")"
   ]
  },
  {
   "cell_type": "code",
   "execution_count": 25,
   "id": "a0f2ea3d",
   "metadata": {},
   "outputs": [
    {
     "name": "stdout",
     "output_type": "stream",
     "text": [
      "*      *\n",
      " *   *\n",
      "   *  \n",
      "   *   \n",
      "   *    \n"
     ]
    }
   ],
   "source": [
    "x1= 1\n",
    "x2=2\n",
    "x3=3\n",
    "x4=4\n",
    "x5=5\n",
    "\n",
    "\n",
    "if x1==1:\n",
    "    print(\"*      *\")\n",
    "    \n",
    "    if x2==2:\n",
    "        print(\" *   *\")\n",
    "        \n",
    "    if x3 ==3:\n",
    "        print(\"   *  \")\n",
    "    if x4==4:\n",
    "        print(\"   *   \")\n",
    "    if x5==5:\n",
    "        print(\"   *    \")"
   ]
  },
  {
   "cell_type": "code",
   "execution_count": 28,
   "id": "1bf3bae9",
   "metadata": {},
   "outputs": [
    {
     "name": "stdout",
     "output_type": "stream",
     "text": [
      "* * * *\n",
      "     * \n",
      "   *   \n",
      " * \n",
      "* * * *\n"
     ]
    }
   ],
   "source": [
    "x1= 1\n",
    "x2=2\n",
    "x3=3\n",
    "x4=4\n",
    "x5=5\n",
    "\n",
    "\n",
    "if x1==1:\n",
    "    print(\"* * * *\")\n",
    "    \n",
    "    if x2==2:\n",
    "        print(\"     * \")\n",
    "        \n",
    "    if x3 ==3:\n",
    "        print(\"   *   \")\n",
    "    if x4==4:\n",
    "        print(\" * \")\n",
    "    if x5==5:\n",
    "        print(\"* * * *\")"
   ]
  },
  {
   "cell_type": "code",
   "execution_count": null,
   "id": "63c69546",
   "metadata": {},
   "outputs": [],
   "source": []
  }
 ],
 "metadata": {
  "kernelspec": {
   "display_name": "Python 3 (ipykernel)",
   "language": "python",
   "name": "python3"
  },
  "language_info": {
   "codemirror_mode": {
    "name": "ipython",
    "version": 3
   },
   "file_extension": ".py",
   "mimetype": "text/x-python",
   "name": "python",
   "nbconvert_exporter": "python",
   "pygments_lexer": "ipython3",
   "version": "3.10.9"
  }
 },
 "nbformat": 4,
 "nbformat_minor": 5
}
