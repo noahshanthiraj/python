{
 "cells": [
  {
   "cell_type": "code",
   "execution_count": 2,
   "id": "e5c2c9e2",
   "metadata": {},
   "outputs": [
    {
     "name": "stdout",
     "output_type": "stream",
     "text": [
      "1 \n",
      "2 2 \n",
      "3 3 3 \n",
      "4 4 4 4 \n",
      "5 5 5 5 5 \n"
     ]
    }
   ],
   "source": [
    "#a\n",
    "\n",
    "#1  \n",
    "#2 2  \n",
    "#3 3 3  \n",
    "#4 4 4 4  \n",
    "#5 5 5 5 5\n",
    "\n",
    "for y in range(1,6):\n",
    "    for x in range(0,y):\n",
    "        print(y,end=\" \")\n",
    "    print()"
   ]
  },
  {
   "cell_type": "code",
   "execution_count": 3,
   "id": "e1e747f5",
   "metadata": {},
   "outputs": [
    {
     "name": "stdout",
     "output_type": "stream",
     "text": [
      "\n",
      "1 \n",
      "1 2 \n",
      "1 2 3 \n",
      "1 2 3 4 \n",
      "1 2 3 4 5 \n"
     ]
    }
   ],
   "source": [
    "#b\n",
    "#1 \n",
    "#1 2 \n",
    "#1 2 3 \n",
    "#1 2 3 4 \n",
    "#1 2 3 4 5\n",
    "for y in range(1,7):\n",
    "    for x in range(1,y):\n",
    "        print(x,end=\" \")\n",
    "    print()"
   ]
  },
  {
   "cell_type": "code",
   "execution_count": 4,
   "id": "53c75371",
   "metadata": {},
   "outputs": [
    {
     "name": "stdout",
     "output_type": "stream",
     "text": [
      "1 1 1 1 1 \n",
      "2 2 2 2 \n",
      "3 3 3 \n",
      "4 4 \n",
      "5 \n"
     ]
    }
   ],
   "source": [
    "#c\n",
    "#1 1 1 1 1 \n",
    "#2 2 2 2 \n",
    "#3 3 3 \n",
    "#4 4 \n",
    "#5\n",
    "for i in range(1, 6):\n",
    "    for j in range(6 - i):\n",
    "        print(i, end=\" \")\n",
    "    print()"
   ]
  },
  {
   "cell_type": "code",
   "execution_count": 5,
   "id": "34f26b70",
   "metadata": {},
   "outputs": [
    {
     "name": "stdout",
     "output_type": "stream",
     "text": [
      "5 5 5 5 5 \n",
      "5 5 5 5 \n",
      "5 5 5 \n",
      "5 5 \n",
      "5 \n"
     ]
    }
   ],
   "source": [
    "#d\n",
    "#5 5 5 5 5 \n",
    "#5 5 5 5 \n",
    "#5 5 5 \n",
    "#5 5 \n",
    "#5\n",
    "for i in  range(1,6):\n",
    "    for j in range (6-i):\n",
    "        print(\"5\", end=\" \")\n",
    "        \n",
    "    print()"
   ]
  },
  {
   "cell_type": "code",
   "execution_count": 6,
   "id": "4988825e",
   "metadata": {},
   "outputs": [
    {
     "name": "stdout",
     "output_type": "stream",
     "text": [
      "0 1 2 3 4 5 \n",
      "0 1 2 3 4 \n",
      "0 1 2 3 \n",
      "0 1 2 \n",
      "0 1 \n"
     ]
    }
   ],
   "source": [
    "#e\n",
    "#0 1 2 3 4 5 \n",
    "#0 1 2 3 4 \n",
    "#0 1 2 3 \n",
    "#0 1 2 \n",
    "#0 1\n",
    "for i in range(5):\n",
    "    for j in range(6-i):\n",
    "        print(j,end=\" \")\n",
    "    print()"
   ]
  },
  {
   "cell_type": "code",
   "execution_count": 7,
   "id": "e4ff4ed9",
   "metadata": {},
   "outputs": [
    {
     "name": "stdout",
     "output_type": "stream",
     "text": [
      "1 \n",
      "3 3 \n",
      "5 5 5 \n",
      "7 7 7 7 \n",
      "9 9 9 9 9 \n",
      "\n"
     ]
    }
   ],
   "source": [
    "#f\n",
    "#1 \n",
    "#3 3 \n",
    "#5 5 5 \n",
    "#7 7 7 7 \n",
    "#9 9 9 9 9\n",
    "pattern = ''\n",
    "for i in range(1, 6):\n",
    "    pattern += (str((2 * i - 1)) + ' ') * i\n",
    "    pattern += '\\n'\n",
    "print(pattern)"
   ]
  },
  {
   "cell_type": "code",
   "execution_count": 8,
   "id": "62fe4f6a",
   "metadata": {},
   "outputs": [
    {
     "name": "stdout",
     "output_type": "stream",
     "text": [
      "5 5 5 5 5 \n",
      "4 4 4 4 \n",
      "3 3 3 \n",
      "2 2 \n",
      "1 \n"
     ]
    }
   ],
   "source": [
    "#g\n",
    "#5 5 5 5 5 \n",
    "#4 4 4 4 \n",
    "#3 3 3 \n",
    "#2 2 \n",
    "#1\n",
    "for i in range(5,0,-1):\n",
    "    for j in range(i):\n",
    "        print(i, end=\" \")\n",
    "    print()"
   ]
  },
  {
   "cell_type": "code",
   "execution_count": 9,
   "id": "0d791ecf",
   "metadata": {},
   "outputs": [
    {
     "name": "stdout",
     "output_type": "stream",
     "text": [
      "1 \n",
      "2 1 \n",
      "3 2 1 \n",
      "4 3 2 1 \n",
      "5 4 3 2 1 \n"
     ]
    }
   ],
   "source": [
    "#h\n",
    "#1 \n",
    "#2 1 \n",
    "#3 2 1 \n",
    "#4 3 2 1 \n",
    "#5 4 3 2 1\n",
    "for i in range(1,6):\n",
    "    for j in range(i,0,-1):\n",
    "        print(j, end=\" \")\n",
    "    print()"
   ]
  },
  {
   "cell_type": "code",
   "execution_count": 10,
   "id": "3a896c10",
   "metadata": {},
   "outputs": [
    {
     "name": "stdout",
     "output_type": "stream",
     "text": [
      "5 4 3 2 1 \n",
      "4 3 2 1 \n",
      "3 2 1 \n",
      "2 1 \n",
      "1 \n"
     ]
    }
   ],
   "source": [
    "#i\n",
    "#5 4 3 2 1 \n",
    "#4 3 2 1 \n",
    "#3 2 1 \n",
    "#2 1 \n",
    "#1\n",
    "for i in range(5,0,-1):\n",
    "    for j in range(i,0,-1):\n",
    "        print(j, end=\" \")\n",
    "    print()"
   ]
  },
  {
   "cell_type": "code",
   "execution_count": 21,
   "id": "35f193f3",
   "metadata": {},
   "outputs": [
    {
     "name": "stdout",
     "output_type": "stream",
     "text": [
      "        1 \n",
      "      1 2 \n",
      "    1 2 3 \n",
      "  1 2 3 4 \n",
      "1 2 3 4 5 \n"
     ]
    }
   ],
   "source": [
    "#k\n",
    "#          1 \n",
    "#        1 2 \n",
    "#      1 2 3 \n",
    "#    1 2 3 4 \n",
    "#  1 2 3 4 5 \n",
    "\n",
    "for i in range(1,6):\n",
    "    for j in range(5 - i):\n",
    "        print(\" \", end=\" \")\n",
    "    for k in range(i):\n",
    "        print(k+1, end=\" \")\n",
    "    print()"
   ]
  },
  {
   "cell_type": "code",
   "execution_count": 37,
   "id": "d8474eea",
   "metadata": {},
   "outputs": [
    {
     "name": "stdout",
     "output_type": "stream",
     "text": [
      "1 2 3 4 5 \n",
      "2 2 3 4 5 \n",
      "3 3 3 4 5 \n",
      "4 4 4 4 5 \n",
      "5 5 5 5 5 \n"
     ]
    }
   ],
   "source": [
    "#m\n",
    "#1 2 3 4 5 \n",
    "#2 2 3 4 5 \n",
    "#3 3 3 4 5 \n",
    "#4 4 4 4 5 \n",
    "#5 5 5 5 5\n",
    "\n",
    "for i in range(1,6):\n",
    "   \n",
    "    for j in range(1,6): \n",
    "        if j<=i:\n",
    "            print(i,end=\" \")\n",
    "        else:\n",
    "            print(j,end=\" \")\n",
    "    print()\n",
    "\n"
   ]
  },
  {
   "cell_type": "code",
   "execution_count": 43,
   "id": "80e68968",
   "metadata": {},
   "outputs": [
    {
     "name": "stdout",
     "output_type": "stream",
     "text": [
      "1 \n",
      "2 4 \n",
      "3 6 9 \n",
      "4 8 12 16 \n",
      "5 10 15 20 25 \n",
      "6 12 18 24 30 36 \n",
      "7 14 21 28 35 42 49 \n",
      "8 16 24 32 40 48 56 64 \n"
     ]
    }
   ],
   "source": [
    "#n\n",
    "#1  \n",
    "#2  4  \n",
    "#3  6  9  \n",
    "#4  8  12  16  \n",
    "#5  10  15  20  25  \n",
    "#6  12  18  24  30  36  \n",
    "#7  14  21  28  35  42  49  \n",
    "#8  16  24  32  40  48  56  64\n",
    "\n",
    "\n",
    "for i in range(1,9):\n",
    "    for j in range(1,i+1):\n",
    "        print(j*i,end=\" \")\n",
    "    print()"
   ]
  },
  {
   "cell_type": "code",
   "execution_count": 11,
   "id": "0c71fe57",
   "metadata": {},
   "outputs": [
    {
     "name": "stdout",
     "output_type": "stream",
     "text": [
      "* \n",
      "* * \n",
      "* * * \n",
      "* * * * \n",
      "* * * * * \n"
     ]
    }
   ],
   "source": [
    "#o\n",
    "\n",
    "#* \n",
    "#* * \n",
    "#* * * \n",
    "#* * * * \n",
    "#* * * * *\n",
    "\n",
    "i=1\n",
    "while i<=5:\n",
    "    j=1\n",
    "    while j<=i:\n",
    "        print(\"*\", end=\" \")\n",
    "        j+=1\n",
    "    print()\n",
    "    i=i+1"
   ]
  },
  {
   "cell_type": "code",
   "execution_count": 4,
   "id": "7f39a0a7",
   "metadata": {},
   "outputs": [
    {
     "name": "stdout",
     "output_type": "stream",
     "text": [
      "        * \n",
      "      * * \n",
      "    * * * \n",
      "  * * * * \n",
      "* * * * * \n"
     ]
    }
   ],
   "source": [
    "#p\n",
    "#         * \n",
    "#       * * \n",
    "#     * * * \n",
    "#   * * * * \n",
    "# * * * * *\n",
    " \n",
    "for i in range(5):\n",
    "    for j in range(4 - i):\n",
    "        print(\" \", end=\" \")\n",
    "    for k in range(i + 1):\n",
    "        print(\"*\", end=\" \")\n",
    "    print()"
   ]
  },
  {
   "cell_type": "code",
   "execution_count": 1,
   "id": "2ccf6cdd",
   "metadata": {},
   "outputs": [
    {
     "name": "stdout",
     "output_type": "stream",
     "text": [
      "* * * * * \n",
      "* * * * \n",
      "* * * \n",
      "* * \n",
      "* \n"
     ]
    }
   ],
   "source": [
    "#q\n",
    "#* * * * *  \n",
    "#* * * *  \n",
    "#* * *  \n",
    "#* *  \n",
    "#*\n",
    "\n",
    "for i in range(5):\n",
    "    for j in range(5,i,-1):\n",
    "        print(\"*\",end=\" \")\n",
    "    print()"
   ]
  },
  {
   "cell_type": "code",
   "execution_count": 10,
   "id": "cf6118ac",
   "metadata": {},
   "outputs": [
    {
     "name": "stdout",
     "output_type": "stream",
     "text": [
      " * * * * * * \n",
      "  * * * * * \n",
      "   * * * * \n",
      "    * * * \n",
      "     * * \n",
      "      * \n"
     ]
    }
   ],
   "source": [
    "#r\n",
    "#         * * * * * * \n",
    "#          * * * * * \n",
    "#           * * * * \n",
    "#            * * * \n",
    "#             * * \n",
    "#              * \n",
    "\n",
    "\n",
    "\n",
    "\n",
    "for i in range(6):\n",
    "    print(\" \"*i,end=\" \")\n",
    "    \n",
    "    for j in range(6-i):\n",
    "        print(\"*\",end=\" \")\n",
    "    print()"
   ]
  },
  {
   "cell_type": "code",
   "execution_count": 11,
   "id": "62710d5d",
   "metadata": {},
   "outputs": [
    {
     "name": "stdout",
     "output_type": "stream",
     "text": [
      " ******\n",
      "  *****\n",
      "   ****\n",
      "    ***\n",
      "     **\n",
      "      *\n"
     ]
    }
   ],
   "source": [
    "#s\n",
    "#*****\n",
    "# ****\n",
    "#  ***\n",
    "#   **\n",
    "#    *\n",
    "for i in range(6):\n",
    "    print(\" \"*i,end=\" \")\n",
    "    \n",
    "    for j in range(6-i):\n",
    "        print(\"*\",end=\"\")\n",
    "    print()"
   ]
  },
  {
   "cell_type": "code",
   "execution_count": 18,
   "id": "263a51ba",
   "metadata": {},
   "outputs": [
    {
     "name": "stdout",
     "output_type": "stream",
     "text": [
      "        * \n",
      "       * * \n",
      "      * * * \n",
      "     * * * * \n",
      "    * * * * * \n",
      "   * * * * * * \n",
      "  * * * * * * * \n"
     ]
    }
   ],
   "source": [
    "#t\n",
    "#            *   \n",
    "#           *  *   \n",
    "#          *  *  *   \n",
    "#         *  *  *  *   \n",
    "#        *  *  *  *  *   \n",
    "#       *  *  *  *  *  *   \n",
    "#      *  *  *  *  *  *  *  \n",
    "\n",
    "for i in range(7,0,-1):\n",
    "    print(\" \"*i,end=\" \")\n",
    "    \n",
    "    for j in range(8-i):\n",
    "        print(\"*\",end=\" \")\n",
    "    print()"
   ]
  },
  {
   "cell_type": "code",
   "execution_count": 41,
   "id": "325d2278",
   "metadata": {},
   "outputs": [
    {
     "name": "stdout",
     "output_type": "stream",
     "text": [
      "\n",
      "* \n",
      "* * \n",
      "* * * \n",
      "* * * * \n",
      "* * * * * \n",
      "* * * * * * \n",
      "\n",
      "\n",
      "* * * * * * \n",
      "* * * * * \n",
      "* * * * \n",
      "* * * \n",
      "* * \n",
      "* \n"
     ]
    }
   ],
   "source": [
    "#u\n",
    "#*  \n",
    "#* *  \n",
    "#* * *  \n",
    "#* * * *  \n",
    "#* * * * *  \n",
    "#* * * * * *  \n",
    "# \n",
    "#* * * * * *  \n",
    "#* * * * *  \n",
    "#* * * *  \n",
    "#* * *  \n",
    "#* *  \n",
    "#*\n",
    "\n",
    "for x in range(14):\n",
    "    \n",
    "    if x<7:\n",
    "        for y in range(x):\n",
    "            print(\"*\",end=\" \")\n",
    "    elif x==7:\n",
    "        \n",
    "        print(\"\")\n",
    "    else:\n",
    "        for z in range(14-x):\n",
    "            \n",
    "            print(\"*\",end=\" \")\n",
    "    print()"
   ]
  },
  {
   "cell_type": "code",
   "execution_count": 47,
   "id": "f5999518",
   "metadata": {},
   "outputs": [
    {
     "name": "stdout",
     "output_type": "stream",
     "text": [
      "\n",
      "* \n",
      "* * \n",
      "* * * \n",
      "* * * * \n",
      "* * * * * \n",
      "* * * * \n",
      "* * * \n",
      "* * \n",
      "* \n"
     ]
    }
   ],
   "source": [
    "#v\n",
    "#* \n",
    "#* * \n",
    "#* * * \n",
    "#* * * * \n",
    "#* * * * * \n",
    "#* * * * \n",
    "#* * * \n",
    "#* * \n",
    "#* \n",
    "\n",
    "for x in range(10):\n",
    "    if x<5:\n",
    "        for y in range(x):\n",
    "            print(\"*\",end=\" \")\n",
    "    else:\n",
    "        for y in range(10-x):\n",
    "            print(\"*\",end=\" \")\n",
    "    print()"
   ]
  },
  {
   "cell_type": "code",
   "execution_count": 20,
   "id": "17f70d5c",
   "metadata": {},
   "outputs": [
    {
     "name": "stdout",
     "output_type": "stream",
     "text": [
      "          * \n",
      "        * * \n",
      "      * * * \n",
      "    * * * * \n",
      "  * * * * * \n",
      "    * * * * \n",
      "      * * * \n",
      "        * * \n",
      "          * \n"
     ]
    }
   ],
   "source": [
    "#w\n",
    "\n",
    "#         * \n",
    "#       * * \n",
    "#     * * * \n",
    "#   * * * * \n",
    "# * * * * * \n",
    "#   * * * * \n",
    "#     * * * \n",
    "#       * * \n",
    "#         * \n",
    "\n",
    "for x in range(9):\n",
    "    if x < 5:\n",
    "        for p in range(5, x, -1):\n",
    "            print(\" \", end=\" \")\n",
    "            \n",
    "        for y in range(x + 1):\n",
    "            print(\"*\", end=\" \")\n",
    "    else:\n",
    "        for p in range(x-3):\n",
    "            print(\" \", end=\" \")\n",
    "            \n",
    "        for z in range(9-x):\n",
    "            print(\"*\", end=\" \")\n",
    "    print()\n",
    "\n"
   ]
  },
  {
   "cell_type": "code",
   "execution_count": null,
   "id": "0a862646",
   "metadata": {},
   "outputs": [],
   "source": []
  }
 ],
 "metadata": {
  "kernelspec": {
   "display_name": "Python 3 (ipykernel)",
   "language": "python",
   "name": "python3"
  },
  "language_info": {
   "codemirror_mode": {
    "name": "ipython",
    "version": 3
   },
   "file_extension": ".py",
   "mimetype": "text/x-python",
   "name": "python",
   "nbconvert_exporter": "python",
   "pygments_lexer": "ipython3",
   "version": "3.10.9"
  }
 },
 "nbformat": 4,
 "nbformat_minor": 5
}
