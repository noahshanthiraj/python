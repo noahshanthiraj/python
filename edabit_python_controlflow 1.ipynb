{
 "cells": [
  {
   "cell_type": "code",
   "execution_count": 7,
   "id": "425151fe",
   "metadata": {},
   "outputs": [
    {
     "data": {
      "text/plain": [
       "'palstic'"
      ]
     },
     "execution_count": 7,
     "metadata": {},
     "output_type": "execute_result"
    }
   ],
   "source": [
    "#The packaging machine is running the get_container() function to retrieve the container of a product. But something is not right...\n",
    "\n",
    "def get_continer(x):\n",
    "    if x==\"Bread\":\n",
    "        return \"bag\"\n",
    "    elif x==\"Beer\":\n",
    "        return \"bottle\"\n",
    "    elif x==\"candy\":\n",
    "        return \"palstic\"\n",
    "    else:\n",
    "        return None\n",
    "get_continer(\"candy\")"
   ]
  },
  {
   "cell_type": "code",
   "execution_count": 16,
   "id": "0892a8c1",
   "metadata": {},
   "outputs": [
    {
     "data": {
      "text/plain": [
       "1"
      ]
     },
     "execution_count": 16,
     "metadata": {},
     "output_type": "execute_result"
    }
   ],
   "source": [
    "#Write a function that returns 0 if the input is 1, and returns 1 if the input is 0\n",
    "def flip(y):\n",
    "    if y==1:\n",
    "        return 0\n",
    "    if y==0:\n",
    "        return 1\n",
    "flip(0)"
   ]
  },
  {
   "cell_type": "code",
   "execution_count": 1,
   "id": "4af5b288",
   "metadata": {},
   "outputs": [
    {
     "data": {
      "text/plain": [
       "0"
      ]
     },
     "execution_count": 1,
     "metadata": {},
     "output_type": "execute_result"
    }
   ],
   "source": [
    "#Create a function that takes an argument of any data type and returns 1 if it's truthy and 0 if it's falsy.\n",
    "def is_truthy(val):\n",
    "    if val:\n",
    "        return 1\n",
    "    else :\n",
    "        return 0\n",
    "is_truthy(False)"
   ]
  },
  {
   "cell_type": "code",
   "execution_count": 4,
   "id": "8093add6",
   "metadata": {},
   "outputs": [],
   "source": [
    "#Write a function that takes a string name and a number num (either 0 or 1) and return \"Hello\" + name if num is 1, otherwise return \"Bye\" + name.\n",
    "\n",
    "def say_hello_bye(name, num):\n",
    "    if num==0:\n",
    "        return \"Hello \" + name\n",
    "    if num==1:\n",
    "        return \"Bye \" + name"
   ]
  },
  {
   "cell_type": "code",
   "execution_count": 5,
   "id": "d1bc5ecb",
   "metadata": {},
   "outputs": [
    {
     "data": {
      "text/plain": [
       "'Hello noah'"
      ]
     },
     "execution_count": 5,
     "metadata": {},
     "output_type": "execute_result"
    }
   ],
   "source": [
    "say_hello_bye(\"noah\",0)"
   ]
  },
  {
   "cell_type": "code",
   "execution_count": 21,
   "id": "ae00de47",
   "metadata": {},
   "outputs": [],
   "source": [
    "#Create a function that takes a list (slot machine outcome) and returns True if all elements in the list are identical, and \n",
    "#False otherwise. The list will contain 4 elements.\n",
    "\n",
    "def test_jackpot(result):\n",
    "    new=result[0]\n",
    "    for x in result:\n",
    "        if x!=new:\n",
    "            return False\n",
    "        \n",
    "    return True\n",
    "     "
   ]
  },
  {
   "cell_type": "code",
   "execution_count": 22,
   "id": "7c3fc607",
   "metadata": {},
   "outputs": [
    {
     "data": {
      "text/plain": [
       "True"
      ]
     },
     "execution_count": 22,
     "metadata": {},
     "output_type": "execute_result"
    }
   ],
   "source": [
    "test_jackpot([\"@\", \"@\", \"@\", \"@\"]) "
   ]
  },
  {
   "cell_type": "code",
   "execution_count": 23,
   "id": "0aa8e4fe",
   "metadata": {},
   "outputs": [
    {
     "data": {
      "text/plain": [
       "False"
      ]
     },
     "execution_count": 23,
     "metadata": {},
     "output_type": "execute_result"
    }
   ],
   "source": [
    "test_jackpot([\"&&\", \"&\", \"&&&\", \"&&&&\"])"
   ]
  },
  {
   "cell_type": "code",
   "execution_count": 2,
   "id": "59923fea",
   "metadata": {},
   "outputs": [],
   "source": [
    "def test_jackpot(result):\n",
    "    first_element = result[0]\n",
    "    for element in result:\n",
    "        if element != first_element:\n",
    "            return False\n",
    "    return True\n"
   ]
  },
  {
   "cell_type": "code",
   "execution_count": 3,
   "id": "fe8cbab2",
   "metadata": {},
   "outputs": [
    {
     "data": {
      "text/plain": [
       "False"
      ]
     },
     "execution_count": 3,
     "metadata": {},
     "output_type": "execute_result"
    }
   ],
   "source": [
    "test_jackpot([\"&&\", \"&\", \"&&&\", \"&&&&\"])"
   ]
  },
  {
   "cell_type": "code",
   "execution_count": 4,
   "id": "f228a077",
   "metadata": {},
   "outputs": [
    {
     "data": {
      "text/plain": [
       "True"
      ]
     },
     "execution_count": 4,
     "metadata": {},
     "output_type": "execute_result"
    }
   ],
   "source": [
    "test_jackpot([\"@\", \"@\", \"@\", \"@\"])"
   ]
  },
  {
   "cell_type": "code",
   "execution_count": 5,
   "id": "622c28af",
   "metadata": {},
   "outputs": [],
   "source": [
    "#Create a function that takes an array of hurdle heights and a jumper's jump height, and determine whether or not the hurdler can clear all the hurdles.\n",
    "\n",
    "#A hurdler can clear a hurdle if their jump height is greater than or equal to the hurdle height\n",
    "\n",
    "def hurdle_jump(hurdles, jump_height):\n",
    "    for x in hurdles:\n",
    "        if x<jump_height:\n",
    "            return True\n",
    "        else:\n",
    "            return False\n",
    "        "
   ]
  },
  {
   "cell_type": "code",
   "execution_count": 6,
   "id": "48589c37",
   "metadata": {},
   "outputs": [
    {
     "data": {
      "text/plain": [
       "True"
      ]
     },
     "execution_count": 6,
     "metadata": {},
     "output_type": "execute_result"
    }
   ],
   "source": [
    "hurdle_jump([1, 2, 3, 4, 5], 5) "
   ]
  },
  {
   "cell_type": "code",
   "execution_count": 7,
   "id": "55800f48",
   "metadata": {},
   "outputs": [
    {
     "data": {
      "text/plain": [
       "False"
      ]
     },
     "execution_count": 7,
     "metadata": {},
     "output_type": "execute_result"
    }
   ],
   "source": [
    "hurdle_jump([5, 5, 3, 4, 5], 3)"
   ]
  },
  {
   "cell_type": "code",
   "execution_count": 2,
   "id": "cf52ff42",
   "metadata": {},
   "outputs": [],
   "source": [
    "#Create a function that takes a number as its argument and returns a list of all its factors.\n",
    "a=[]\n",
    "def factorize(num):\n",
    "    for x in range(1,num+1):\n",
    "        if num%x==0:\n",
    "            a.append(x)\n",
    "    return a\n",
    "        \n",
    "            "
   ]
  },
  {
   "cell_type": "code",
   "execution_count": 16,
   "id": "7e7d4b1c",
   "metadata": {},
   "outputs": [
    {
     "data": {
      "text/plain": [
       "[1, 2, 3, 4, 6, 12]"
      ]
     },
     "execution_count": 16,
     "metadata": {},
     "output_type": "execute_result"
    }
   ],
   "source": [
    "factorize(12)"
   ]
  },
  {
   "cell_type": "code",
   "execution_count": 3,
   "id": "98d1eeb7",
   "metadata": {},
   "outputs": [
    {
     "data": {
      "text/plain": [
       "[1, 17]"
      ]
     },
     "execution_count": 3,
     "metadata": {},
     "output_type": "execute_result"
    }
   ],
   "source": [
    "factorize(17)"
   ]
  },
  {
   "cell_type": "code",
   "execution_count": 4,
   "id": "ff360ebd",
   "metadata": {},
   "outputs": [
    {
     "data": {
      "text/plain": [
       "[1, 17, 1, 2, 4]"
      ]
     },
     "execution_count": 4,
     "metadata": {},
     "output_type": "execute_result"
    }
   ],
   "source": [
    "factorize(4)"
   ]
  },
  {
   "cell_type": "code",
   "execution_count": 8,
   "id": "cbf8dbf5",
   "metadata": {},
   "outputs": [
    {
     "data": {
      "text/plain": [
       "[2, 1, 4, 3, 6]"
      ]
     },
     "execution_count": 8,
     "metadata": {},
     "output_type": "execute_result"
    }
   ],
   "source": [
    "#Create a function that goes through the array, incrementing (+1) for each odd-valued number and decrementing (-1) for each even-valued number.\n",
    "\n",
    "def x(a):\n",
    "    b=[]\n",
    "    for y in a:\n",
    "        if y%2==0:\n",
    "            y=y-1\n",
    "            b.append(y)\n",
    "            \n",
    "            \n",
    "        else:\n",
    "            y=y+1\n",
    "            b.append(y)\n",
    "            \n",
    "    return b\n",
    "    \n",
    "    \n",
    "x([1, 2, 3, 4, 5])"
   ]
  },
  {
   "cell_type": "code",
   "execution_count": 34,
   "id": "30fabe10",
   "metadata": {},
   "outputs": [
    {
     "data": {
      "text/plain": [
       "'paRIE_to is online'"
      ]
     },
     "execution_count": 34,
     "metadata": {},
     "output_type": "execute_result"
    }
   ],
   "source": [
    "# Write a function that returns the number of users in a chatroom based on the following rules:\n",
    "\n",
    "# If there is no one, return \"no one online\".\n",
    "# If there is 1 person, return \"user1 online\".\n",
    "# If there are 2 people, return \"user1 and user2 online\".\n",
    "# If there are n>2 people, return the first two names and add \"and n-2 more online\".\n",
    "# For example, if there are 5 users, return:\n",
    "\n",
    "# \"user1, user2 and 3 more online\"\n",
    "\n",
    "def chat(user):\n",
    "    if len(user)==0:\n",
    "        return \"no one online\"\n",
    "    elif len(user)==1:\n",
    "        return user[0] +\" is online\"\n",
    "    elif len(user)==2:\n",
    "        return user[0]  + \" and \"+ user[1] + \" is online\"\n",
    "    else:\n",
    "        return user[0] + user[1] + \" and \"+ str(len(user)-2) + \" more online\"\n",
    "chat([\"paRIE_to\"])"
   ]
  },
  {
   "cell_type": "code",
   "execution_count": 26,
   "id": "6e25d346",
   "metadata": {},
   "outputs": [
    {
     "data": {
      "text/plain": [
       "'no one online'"
      ]
     },
     "execution_count": 26,
     "metadata": {},
     "output_type": "execute_result"
    }
   ],
   "source": [
    "chat([])"
   ]
  },
  {
   "cell_type": "code",
   "execution_count": 27,
   "id": "54fb78e1",
   "metadata": {},
   "outputs": [
    {
     "data": {
      "text/plain": [
       "'paRIE_to is online'"
      ]
     },
     "execution_count": 27,
     "metadata": {},
     "output_type": "execute_result"
    }
   ],
   "source": [
    "chat([\"paRIE_to\"])"
   ]
  },
  {
   "cell_type": "code",
   "execution_count": 32,
   "id": "66d0c5e3",
   "metadata": {},
   "outputs": [
    {
     "data": {
      "text/plain": [
       "'s234f and mailbox2 is online'"
      ]
     },
     "execution_count": 32,
     "metadata": {},
     "output_type": "execute_result"
    }
   ],
   "source": [
    "chat([\"s234f\", \"mailbox2\"])"
   ]
  },
  {
   "cell_type": "code",
   "execution_count": 35,
   "id": "1298fdc5",
   "metadata": {},
   "outputs": [
    {
     "data": {
      "text/plain": [
       "'pap_ier44townieBOY and 4 more online'"
      ]
     },
     "execution_count": 35,
     "metadata": {},
     "output_type": "execute_result"
    }
   ],
   "source": [
    "chat([\"pap_ier44\", \"townieBOY\", \"panda321\", \"motor_bike5\", \"sandwichmaker833\", \"violinist91\"])"
   ]
  },
  {
   "cell_type": "code",
   "execution_count": 44,
   "id": "d2c3ada7",
   "metadata": {},
   "outputs": [
    {
     "data": {
      "text/plain": [
       "9"
      ]
     },
     "execution_count": 44,
     "metadata": {},
     "output_type": "execute_result"
    }
   ],
   "source": [
    "# Create a function that returns the number of palindrome numbers in a specified range (inclusive).\n",
    "\n",
    "\n",
    "def pal(x,y):\n",
    "    a=0\n",
    "    for z in range(x,y):\n",
    "        if str(z)==str(z)[::-1]:\n",
    "            a=a+1\n",
    "    return a\n",
    "pal(1, 10)"
   ]
  },
  {
   "cell_type": "code",
   "execution_count": 46,
   "id": "95b29714",
   "metadata": {},
   "outputs": [
    {
     "data": {
      "text/plain": [
       "1"
      ]
     },
     "execution_count": 46,
     "metadata": {},
     "output_type": "execute_result"
    }
   ],
   "source": [
    "pal(555, 556)"
   ]
  },
  {
   "cell_type": "code",
   "execution_count": 54,
   "id": "9cf52cec",
   "metadata": {},
   "outputs": [],
   "source": [
    "#Create a function that returns the sum of all even elements in a 2D matrix.\n",
    "def sum(x):\n",
    "    a=0\n",
    "    for k in x:\n",
    "        \n",
    "        for z in k:\n",
    "\n",
    "            if z%2==0:\n",
    "                a=a+z\n",
    "    return a\n",
    "        \n",
    "\n"
   ]
  },
  {
   "cell_type": "code",
   "execution_count": 55,
   "id": "3d32efa7",
   "metadata": {},
   "outputs": [
    {
     "data": {
      "text/plain": [
       "6"
      ]
     },
     "execution_count": 55,
     "metadata": {},
     "output_type": "execute_result"
    }
   ],
   "source": [
    "sum([\n",
    "  [1, 0, 2],\n",
    "  [5, 5, 7],\n",
    "  [9, 4, 3]\n",
    "])"
   ]
  },
  {
   "cell_type": "code",
   "execution_count": 56,
   "id": "54d8eac5",
   "metadata": {},
   "outputs": [
    {
     "data": {
      "text/plain": [
       "66"
      ]
     },
     "execution_count": 56,
     "metadata": {},
     "output_type": "execute_result"
    }
   ],
   "source": [
    "sum([\n",
    "  [42, 9],\n",
    "  [16, 8]\n",
    "]) "
   ]
  },
  {
   "cell_type": "code",
   "execution_count": 60,
   "id": "1a542018",
   "metadata": {},
   "outputs": [],
   "source": [
    "# Write a function that takes a string, breaks it up and returns it with vowels first, consonants second. For any character that's not a vowel (like special characters or spaces), treat them like consonants.\n",
    "\n",
    "def vo(a):\n",
    "    z=\"\"\n",
    "    k=\"\"\n",
    "    for x in a:\n",
    "        \n",
    "        if x== \"a\" or x==\"e\" or x== \"i\" or x==\"o\" or x== \"u\":\n",
    "            z=z+x\n",
    "        else:\n",
    "            k=k+x\n",
    "    return z+k\n",
    "            \n",
    "            "
   ]
  },
  {
   "cell_type": "code",
   "execution_count": 62,
   "id": "815e988a",
   "metadata": {},
   "outputs": [
    {
     "data": {
      "text/plain": [
       "'aebcd'"
      ]
     },
     "execution_count": 62,
     "metadata": {},
     "output_type": "execute_result"
    }
   ],
   "source": [
    "vo(\"abcde\")\n"
   ]
  },
  {
   "cell_type": "code",
   "execution_count": 63,
   "id": "c5b12465",
   "metadata": {},
   "outputs": [
    {
     "data": {
      "text/plain": [
       "\"aeieWht's th tm?\""
      ]
     },
     "execution_count": 63,
     "metadata": {},
     "output_type": "execute_result"
    }
   ],
   "source": [
    "vo(\"What's the time?\")"
   ]
  },
  {
   "cell_type": "code",
   "execution_count": 73,
   "id": "0ecdd01b",
   "metadata": {},
   "outputs": [],
   "source": [
    "#Create a function that takes a string as an argument and returns a coded (h4ck3r 5p34k) version of the string.\n",
    "\n",
    "def stri(a):\n",
    "    sub = { 'a': '4',\n",
    "        'e': '3',\n",
    "        'i': '1',\n",
    "        'o': '0',\n",
    "        's': '5'}\n",
    "    for x,y in sub.items():\n",
    "        a=a.replace(x,y)\n",
    "    return a"
   ]
  },
  {
   "cell_type": "code",
   "execution_count": 75,
   "id": "dee086e6",
   "metadata": {},
   "outputs": [
    {
     "ename": "TypeError",
     "evalue": "'str' object is not callable",
     "output_type": "error",
     "traceback": [
      "\u001b[1;31m---------------------------------------------------------------------------\u001b[0m",
      "\u001b[1;31mTypeError\u001b[0m                                 Traceback (most recent call last)",
      "Cell \u001b[1;32mIn[75], line 1\u001b[0m\n\u001b[1;32m----> 1\u001b[0m \u001b[43ma\u001b[49m\u001b[43m(\u001b[49m\u001b[38;5;124;43m\"\u001b[39;49m\u001b[38;5;124;43mjavascript is cool\u001b[39;49m\u001b[38;5;124;43m\"\u001b[39;49m\u001b[43m)\u001b[49m\n",
      "\u001b[1;31mTypeError\u001b[0m: 'str' object is not callable"
     ]
    }
   ],
   "source": [
    "a(\"javascript is cool\")"
   ]
  },
  {
   "cell_type": "code",
   "execution_count": 92,
   "id": "1523422c",
   "metadata": {},
   "outputs": [],
   "source": [
    "#Write a function that takes a string, breaks it up and returns it with vowels first, consonants second. For any character that's not a vowel (like special characters or spaces), treat them like consonantsdef stri(a):\n",
    "def stri(a): \n",
    "    sub = {'a': '4', 'e': '3', 'i': '1', 'o': '0', 's': '5'}\n",
    "    for x, y in sub.items():\n",
    "        a = a.replace(x, y)\n",
    "    return a\n"
   ]
  },
  {
   "cell_type": "code",
   "execution_count": 93,
   "id": "bd1e825b",
   "metadata": {},
   "outputs": [
    {
     "data": {
      "text/plain": [
       "'j4v45cr1pt 15 c00l'"
      ]
     },
     "execution_count": 93,
     "metadata": {},
     "output_type": "execute_result"
    }
   ],
   "source": [
    "stri(\"javascript is cool\")"
   ]
  },
  {
   "cell_type": "code",
   "execution_count": 86,
   "id": "1b5e41ad",
   "metadata": {},
   "outputs": [],
   "source": [
    "#Create a function that takes in a year and returns the correct century.\n",
    "\n",
    "def year(x):\n",
    "    z=x//100\n",
    "    return str(z)+\"th\"+\" century\""
   ]
  },
  {
   "cell_type": "code",
   "execution_count": 87,
   "id": "8040829c",
   "metadata": {},
   "outputs": [
    {
     "data": {
      "text/plain": [
       "'17th century'"
      ]
     },
     "execution_count": 87,
     "metadata": {},
     "output_type": "execute_result"
    }
   ],
   "source": [
    "year(1756)"
   ]
  },
  {
   "cell_type": "code",
   "execution_count": 88,
   "id": "814d27e4",
   "metadata": {},
   "outputs": [
    {
     "data": {
      "text/plain": [
       "'20th century'"
      ]
     },
     "execution_count": 88,
     "metadata": {},
     "output_type": "execute_result"
    }
   ],
   "source": [
    "year(2005)"
   ]
  },
  {
   "cell_type": "code",
   "execution_count": 89,
   "id": "bae4748c",
   "metadata": {},
   "outputs": [
    {
     "data": {
      "text/plain": [
       "'10th century'"
      ]
     },
     "execution_count": 89,
     "metadata": {},
     "output_type": "execute_result"
    }
   ],
   "source": [
    "year(1000)"
   ]
  },
  {
   "cell_type": "code",
   "execution_count": null,
   "id": "b570a236",
   "metadata": {},
   "outputs": [],
   "source": []
  }
 ],
 "metadata": {
  "kernelspec": {
   "display_name": "Python 3 (ipykernel)",
   "language": "python",
   "name": "python3"
  },
  "language_info": {
   "codemirror_mode": {
    "name": "ipython",
    "version": 3
   },
   "file_extension": ".py",
   "mimetype": "text/x-python",
   "name": "python",
   "nbconvert_exporter": "python",
   "pygments_lexer": "ipython3",
   "version": "3.10.9"
  }
 },
 "nbformat": 4,
 "nbformat_minor": 5
}
