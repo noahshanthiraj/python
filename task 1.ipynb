{
 "cells": [
  {
   "cell_type": "code",
   "execution_count": null,
   "id": "33bdc1fb",
   "metadata": {},
   "outputs": [],
   "source": [
    "#1.Write a python program to convert a string to lower case"
   ]
  },
  {
   "cell_type": "code",
   "execution_count": 7,
   "id": "39a5b0f7",
   "metadata": {},
   "outputs": [
    {
     "name": "stdout",
     "output_type": "stream",
     "text": [
      "agdnjjkj\n"
     ]
    }
   ],
   "source": [
    "a=\"AGDNJjkj\"\n",
    "b=\"\"\n",
    "for z in a:\n",
    "    b=b+z.lower()\n",
    "print(b)"
   ]
  },
  {
   "cell_type": "code",
   "execution_count": 2,
   "id": "715386d6",
   "metadata": {},
   "outputs": [
    {
     "name": "stdout",
     "output_type": "stream",
     "text": [
      "agdnjjkj\n"
     ]
    }
   ],
   "source": [
    "a=\"AGDNJjkj\"\n",
    "b=\"\"\n",
    "i=0\n",
    "while i<len(a):\n",
    "    b=b+a[i].lower()\n",
    "    i=i+1\n",
    "print(b)"
   ]
  },
  {
   "cell_type": "code",
   "execution_count": 3,
   "id": "9754cc97",
   "metadata": {},
   "outputs": [],
   "source": [
    "#2.Write a python program to convert only odd  indexed characters to lower case \n",
    "Ex:- PYTHON\n",
    "Output: - PyThOn"
   ]
  },
  {
   "cell_type": "code",
   "execution_count": 19,
   "id": "bd10fda7",
   "metadata": {},
   "outputs": [
    {
     "name": "stdout",
     "output_type": "stream",
     "text": [
      "PyThOn\n"
     ]
    }
   ],
   "source": [
    "a=\"PYTHON\"\n",
    "b=\"\"\n",
    "\n",
    "for y in range(len(a)):\n",
    "    if y%2==0:\n",
    "        b=b+a[y]\n",
    "    else:\n",
    "        b=b+a[y].lower()\n",
    "print(b)\n"
   ]
  },
  {
   "cell_type": "code",
   "execution_count": 14,
   "id": "16d73058",
   "metadata": {},
   "outputs": [
    {
     "name": "stdout",
     "output_type": "stream",
     "text": [
      "PyThOn\n"
     ]
    }
   ],
   "source": [
    "a=\"PYTHON\"\n",
    "b=\"\"\n",
    "c=0\n",
    "\n",
    "while c<len(a):\n",
    "    if c%2==0:\n",
    "        b=b+a[c]\n",
    "    else:\n",
    "        b=b+a[c].lower()\n",
    "    c=c+1\n",
    "print(b)\n",
    "        \n",
    "    \n",
    "    "
   ]
  },
  {
   "cell_type": "code",
   "execution_count": 20,
   "id": "1c5e1c13",
   "metadata": {},
   "outputs": [],
   "source": [
    "#3.Write a python program to convert only even indexed characters to lower case \n",
    "Ex:- PYTHON\n",
    "output: - pYtHoN\n"
   ]
  },
  {
   "cell_type": "code",
   "execution_count": 1,
   "id": "9fb4538b",
   "metadata": {},
   "outputs": [
    {
     "name": "stdout",
     "output_type": "stream",
     "text": [
      "pYtHoN\n"
     ]
    }
   ],
   "source": [
    "a=\"PYTHON\"\n",
    "b=\"\"\n",
    "c=0\n",
    "while c<len(a):\n",
    "    if c%2==0:\n",
    "        b+=a[c].lower()\n",
    "    else:\n",
    "        b+=a[c]\n",
    "    c=c+1\n",
    "print(b)\n",
    "        \n",
    "    \n",
    "    \n",
    "    "
   ]
  },
  {
   "cell_type": "code",
   "execution_count": null,
   "id": "874d2843",
   "metadata": {},
   "outputs": [],
   "source": [
    "#.Write a python program to convert only odd indexed characters to upper case \n",
    "Ex:- python\n",
    "Output: - pYtHoN"
   ]
  },
  {
   "cell_type": "code",
   "execution_count": null,
   "id": "a574f8e1",
   "metadata": {},
   "outputs": [],
   "source": [
    "a=\"python\"\n",
    "b=\"\"\n",
    "c=0\n",
    "\n",
    "if z in len(a):\n",
    "    "
   ]
  },
  {
   "cell_type": "code",
   "execution_count": 1,
   "id": "0d879885",
   "metadata": {},
   "outputs": [
    {
     "name": "stdout",
     "output_type": "stream",
     "text": [
      "pYtHoN\n"
     ]
    }
   ],
   "source": [
    "a=\"python\"\n",
    "b=\"\"\n",
    "c=0\n",
    "\n",
    "while c<len(a):\n",
    "    if c%2!=0:\n",
    "        b+=a[c].upper()\n",
    "    else:\n",
    "        b+=a[c]\n",
    "    c=c+1\n",
    "print(b)\n",
    "        \n",
    "    "
   ]
  },
  {
   "cell_type": "code",
   "execution_count": null,
   "id": "f9e53b9a",
   "metadata": {},
   "outputs": [],
   "source": [
    "#5.Write a python program to convert only even indexed characters to upper case \n",
    "Ex:- python\n",
    "Output: - PyThOn\n"
   ]
  },
  {
   "cell_type": "code",
   "execution_count": 9,
   "id": "c04cd097",
   "metadata": {},
   "outputs": [
    {
     "name": "stdout",
     "output_type": "stream",
     "text": [
      "PyThOn\n"
     ]
    }
   ],
   "source": [
    "a=\"python\"\n",
    "b=\"\"\n",
    "\n",
    "for z in range(len(a)):\n",
    "    if z%2==0:\n",
    "        b+=a[z].upper()\n",
    "    else:\n",
    "        b+=a[z]\n",
    "print(b)\n",
    "    "
   ]
  },
  {
   "cell_type": "code",
   "execution_count": null,
   "id": "f8ca38ff",
   "metadata": {},
   "outputs": [],
   "source": [
    "#6.Write a python program where you have \n",
    "different variable which contains your name \n",
    ",sex,age, phone no ,fathers name and mothers \n",
    "name.And by using this variable create a \n",
    "variable named bio-data where you will use all \n",
    "this variable\n",
    "Ex:-print(bio-data)\n",
    "Output:- My name is …., My age is ….,My \n",
    "phone-no is ….,my fathers name is …,and my \n",
    "mothers name is……"
   ]
  },
  {
   "cell_type": "code",
   "execution_count": 1,
   "id": "4a7899a2",
   "metadata": {},
   "outputs": [
    {
     "name": "stdout",
     "output_type": "stream",
     "text": [
      "My name is noah, My age is 26,My phone-no is 13355,my fathers name is Daniel,and my mothers name is Suvarthamma\n"
     ]
    }
   ],
   "source": [
    "Name= \"noah\"\n",
    "age= 26\n",
    "phno=13355\n",
    "fname=\"Daniel\"\n",
    "mname=\"Suvarthamma\"\n",
    "\n",
    "x=\"My name is {}, My age is {},My phone-no is {},my fathers name is {},and my mothers name is {}\"\n",
    "y=x.format(Name,age,phno,fname,mname)\n",
    "print(y)\n",
    "\n",
    "\n"
   ]
  },
  {
   "cell_type": "code",
   "execution_count": null,
   "id": "34ff7541",
   "metadata": {},
   "outputs": [],
   "source": [
    "#7.Write a python program to count how many \n",
    "times “@” occurred"
   ]
  },
  {
   "cell_type": "code",
   "execution_count": 21,
   "id": "29a4247f",
   "metadata": {},
   "outputs": [
    {
     "data": {
      "text/plain": [
       "4"
      ]
     },
     "execution_count": 21,
     "metadata": {},
     "output_type": "execute_result"
    }
   ],
   "source": [
    "a=\"jbakd@@kb@@\"\n",
    "a.count(\"@\")"
   ]
  },
  {
   "cell_type": "code",
   "execution_count": 16,
   "id": "7cc9595c",
   "metadata": {},
   "outputs": [
    {
     "name": "stdout",
     "output_type": "stream",
     "text": [
      "4\n"
     ]
    }
   ],
   "source": [
    "a=\"jbakd@@kb@@\"\n",
    "d=0\n",
    "for z in a:\n",
    "    c=z.count(\"@\")\n",
    "    if c>0:\n",
    "        d=d+1\n",
    "        \n",
    "print(d)"
   ]
  },
  {
   "cell_type": "code",
   "execution_count": null,
   "id": "73c12ed6",
   "metadata": {},
   "outputs": [],
   "source": [
    "#8.Write a python program to get only names from the string \n",
    "“name1.@gmail.com,name2.@gmail.com,name\n",
    "3.@gmail.com”\n",
    "Output-name1,name2,name3\n"
   ]
  },
  {
   "cell_type": "code",
   "execution_count": 5,
   "id": "dcd27691",
   "metadata": {},
   "outputs": [
    {
     "name": "stdout",
     "output_type": "stream",
     "text": [
      "name1,name2,name3\n"
     ]
    }
   ],
   "source": [
    "a = \"name1.@gmail.com,name2.@gmail.com,name3.@gmail.com\"\n",
    "names = a.split(\".@gmail.com\")\n",
    "\n",
    "\n",
    "x=\"\"\n",
    "for z in names:\n",
    "    x=x+z\n",
    "print(x)\n",
    "\n",
    "\n"
   ]
  },
  {
   "cell_type": "code",
   "execution_count": null,
   "id": "59590250",
   "metadata": {},
   "outputs": [],
   "source": []
  },
  {
   "cell_type": "code",
   "execution_count": null,
   "id": "69ea0c2a",
   "metadata": {},
   "outputs": [],
   "source": [
    "#9.Given a string of odd length greater that 9, return a new string made of the middle three \n",
    "characters of a given String\n",
    "Ex:- “mynameissan\n",
    "Output:- “mei”"
   ]
  },
  {
   "cell_type": "code",
   "execution_count": 32,
   "id": "ca274b12",
   "metadata": {},
   "outputs": [
    {
     "data": {
      "text/plain": [
       "'mei'"
      ]
     },
     "execution_count": 32,
     "metadata": {},
     "output_type": "execute_result"
    }
   ],
   "source": [
    "x=\"mynameissan\"\n",
    "x[4:7]"
   ]
  },
  {
   "cell_type": "code",
   "execution_count": null,
   "id": "fa8feac8",
   "metadata": {},
   "outputs": [],
   "source": []
  },
  {
   "cell_type": "code",
   "execution_count": null,
   "id": "4d527286",
   "metadata": {},
   "outputs": [],
   "source": [
    "#Write a python program to insert a 2 string  in the middle of 1 string\n",
    "Ex:-Str1=”myn”\n",
    " Str2=”sa”\n",
    "Output:-“msayn”\n"
   ]
  },
  {
   "cell_type": "code",
   "execution_count": 34,
   "id": "a1bb5c29",
   "metadata": {},
   "outputs": [
    {
     "data": {
      "text/plain": [
       "'msayn'"
      ]
     },
     "execution_count": 34,
     "metadata": {},
     "output_type": "execute_result"
    }
   ],
   "source": [
    "Str1=\"myn\"\n",
    "Str2=\"sa\"\n",
    "x=Str1[0]+Str2[0:]+Str1[1:]\n",
    "x"
   ]
  },
  {
   "cell_type": "code",
   "execution_count": null,
   "id": "1362663e",
   "metadata": {},
   "outputs": [],
   "source": [
    "#11. Write a program to remove vowels from \n",
    "the entire alphabets \n",
    "Ex:- “abcdefghijklmnopqrstuvwxyz”\n",
    "Output:- “bcdfghjklmnpqrstvwxyz\""
   ]
  },
  {
   "cell_type": "code",
   "execution_count": 2,
   "id": "dbde1a6e",
   "metadata": {},
   "outputs": [
    {
     "name": "stdout",
     "output_type": "stream",
     "text": [
      "bcdfghjklmnpqrstvwxyz\n"
     ]
    }
   ],
   "source": [
    "a=\"abcdefghijklmnopqrstuvwxyz\"\n",
    "b=\"aeiou\"\n",
    "for z in b:\n",
    "    a=a.replace(b, \"\")\n",
    "print(a)"
   ]
  },
  {
   "cell_type": "code",
   "execution_count": 45,
   "id": "0dbdc3f6",
   "metadata": {},
   "outputs": [
    {
     "name": "stdout",
     "output_type": "stream",
     "text": [
      "bcdfghjklmnpqrstvwxyz\n"
     ]
    }
   ],
   "source": [
    "a = \"abcdefghijklmnopqrstuvwxyz\"\n",
    "b = \"aeiou\"\n",
    "\n",
    "for z in b:\n",
    "    a = a.replace(z, \"\")\n",
    "\n",
    "print(a)\n"
   ]
  },
  {
   "cell_type": "code",
   "execution_count": 38,
   "id": "db558306",
   "metadata": {},
   "outputs": [
    {
     "name": "stdout",
     "output_type": "stream",
     "text": [
      "enter a number to added upto: 10\n",
      "55\n"
     ]
    }
   ],
   "source": [
    "a=int(input(\"enter a number to added upto: \"))\n",
    "b=0\n",
    "\n",
    "for z in range(a):\n",
    "    \n",
    "    a=z+a\n",
    "    \n",
    "        \n",
    "print(a)"
   ]
  },
  {
   "cell_type": "code",
   "execution_count": null,
   "id": "4cbd44b6",
   "metadata": {},
   "outputs": [],
   "source": []
  }
 ],
 "metadata": {
  "kernelspec": {
   "display_name": "Python 3 (ipykernel)",
   "language": "python",
   "name": "python3"
  },
  "language_info": {
   "codemirror_mode": {
    "name": "ipython",
    "version": 3
   },
   "file_extension": ".py",
   "mimetype": "text/x-python",
   "name": "python",
   "nbconvert_exporter": "python",
   "pygments_lexer": "ipython3",
   "version": "3.10.9"
  }
 },
 "nbformat": 4,
 "nbformat_minor": 5
}
