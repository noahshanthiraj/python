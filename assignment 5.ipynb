{
 "cells": [
  {
   "cell_type": "code",
   "execution_count": 7,
   "id": "2c8a673a",
   "metadata": {},
   "outputs": [
    {
     "name": "stdout",
     "output_type": "stream",
     "text": [
      "[1, 2, 3, 4, 7, 8, 9]\n"
     ]
    }
   ],
   "source": [
    "#1. Given a list of numbers, write a python program that returns a new list which Has all \n",
    "#duplicate elements removed. And is sorted in an increasing order.\n",
    "\n",
    "a= [2,1,3,4,2,3,3,2,7,9,8,7]\n",
    "\n",
    "b=set((a))\n",
    "\n",
    "c=list((b))\n",
    "c.sort()\n",
    "print(c)\n",
    "\n"
   ]
  },
  {
   "cell_type": "code",
   "execution_count": 8,
   "id": "90cb21ae",
   "metadata": {},
   "outputs": [
    {
     "name": "stdout",
     "output_type": "stream",
     "text": [
      "1 a\n",
      "2 b\n"
     ]
    }
   ],
   "source": [
    "#2. Write a Python program where you will iterate over both keys and values in dictionaries\n",
    "\n",
    "var1={1:\"a\",2:\"b\"}\n",
    "for y,x in var1.items():\n",
    "    print(y,x)\n"
   ]
  },
  {
   "cell_type": "code",
   "execution_count": 13,
   "id": "2850db5b",
   "metadata": {},
   "outputs": [
    {
     "name": "stdout",
     "output_type": "stream",
     "text": [
      "dict_values(['Tarun', 'Manoj', 'Gephi'])\n"
     ]
    }
   ],
   "source": [
    "#3. Write a Python program that takes a dictionary of student names and returns a list of student names in alphabetical order\n",
    "a = {\"Student 1\": \"Tarun\", \"Student 2\": \"Manoj\", \"Student 3\": \"Gephi\"}\n",
    "b= a.values()\n",
    "print(b)"
   ]
  },
  {
   "cell_type": "code",
   "execution_count": 37,
   "id": "d6e4fa02",
   "metadata": {
    "scrolled": true
   },
   "outputs": [
    {
     "name": "stdout",
     "output_type": "stream",
     "text": [
      "[False, True, False, False, True]\n"
     ]
    }
   ],
   "source": [
    "#4. Write a Python which returns a new list of Booleans, from a given number. Iterating \n",
    "#through the number one digit at a time, append True if the digit is 1 and False if it is 0.\n",
    " \n",
    "a = \"01001\"\n",
    "\n",
    "b=[]\n",
    "\n",
    "\n",
    "for x in range(len(a)) :\n",
    "    if a[x]==\"0\":\n",
    "        \n",
    "        b.append(False)\n",
    "    else:\n",
    "        \n",
    "        b.append(True)\n",
    "        \n",
    "print(b)\n",
    "     "
   ]
  },
  {
   "cell_type": "code",
   "execution_count": 4,
   "id": "419f04ed",
   "metadata": {},
   "outputs": [
    {
     "name": "stdout",
     "output_type": "stream",
     "text": [
      "enter the string : my name is raj\n",
      "{'m': 2, 'y': 1, 'n': 1, 'a': 2, 'e': 1, 'i': 1, 's': 1, 'r': 1, 'j': 1}\n"
     ]
    }
   ],
   "source": [
    "#5.Write a Python program where you will return a dictionary where the keys will be the \n",
    "#character and the values will be the occurrence of the character in the string, and it \n",
    "#should for any string inputs (dynamic)\n",
    "\n",
    "d={}\n",
    "x=input(\"enter the string : \")\n",
    "for y in x:\n",
    "    if y==\" \":\n",
    "        continue\n",
    "    else:\n",
    "        \n",
    "        d.update({y:x.count(y)})\n",
    "print(d)"
   ]
  },
  {
   "cell_type": "code",
   "execution_count": 3,
   "id": "5fae03bd",
   "metadata": {},
   "outputs": [
    {
     "name": "stdout",
     "output_type": "stream",
     "text": [
      "Enter your choice(rock or papaer or sissor): rock\n",
      "Enter your choice(rock or papaer or sissor): sissor\n",
      "b wins\n"
     ]
    }
   ],
   "source": [
    "#7. Write a Python program to create a Rock, Paper, Scissor game, use two inputs for two players:\n",
    "#Conditions: -Rock beats Scissors, Scissors beats Paper, Paper beats Rock\n",
    "\n",
    "a=0\n",
    "while a==0:\n",
    "    b=input(\"Enter your choice player b (rock or papaer or sissor): \")\n",
    "    c=input(\"Enter your choice player c (rock or papaer or sissor): \")\n",
    "    if b==\"rock\" and c==\"sissor\":\n",
    "        print(\"b wins\")\n",
    "        break\n",
    "    elif b==\"siccors\" and c== \"paper\":\n",
    "        print(\"b wins\")\n",
    "        break\n",
    "    elif b==\"paper\" and c==\"rock\":\n",
    "        print(\"b wins\")\n",
    "        break\n",
    "    elif b==c:\n",
    "        print(\"tie\")\n",
    "        continue\n",
    "    else:\n",
    "        print(\"c wins\")\n",
    "        break\n",
    "        "
   ]
  },
  {
   "cell_type": "code",
   "execution_count": 1,
   "id": "48d40dc6",
   "metadata": {},
   "outputs": [
    {
     "name": "stdout",
     "output_type": "stream",
     "text": [
      "Money you have in your wallet30\n",
      "['water bottles', 'Chips']\n"
     ]
    }
   ],
   "source": [
    "#8. Create a program that returns a list of items that you can afford in the store with the \n",
    "#money you have in your wallet. Create a dictionary with items as key and price as values\n",
    "\n",
    "iteam={\"water bottles\":20,\"Chips\":10,\"Iphone\":49000,\"towel\":90,\"pens\":58,\"cake\":400}\n",
    "a=int(input(\"Money you have in your wallet\"))\n",
    "b=[]\n",
    "\n",
    "for x,y in iteam.items():\n",
    "    if a>=y:\n",
    "        b.append(x)\n",
    "print(b)"
   ]
  },
  {
   "cell_type": "code",
   "execution_count": 5,
   "id": "ed3c3ca1",
   "metadata": {},
   "outputs": [
    {
     "name": "stdout",
     "output_type": "stream",
     "text": [
      "{1, 3, '11', 'a', 6}\n"
     ]
    }
   ],
   "source": [
    "#9. Write a Python program to create a union of sets\n",
    "\n",
    "a={\"a\",1,3,6,\"11\"}\n",
    "b={\"c\",2,3,12}\n",
    "a.union(b)\n",
    "print(a)"
   ]
  },
  {
   "cell_type": "code",
   "execution_count": 7,
   "id": "ffbecb45",
   "metadata": {},
   "outputs": [
    {
     "name": "stdout",
     "output_type": "stream",
     "text": [
      "Enter the values: 1\n",
      "press s to stop or skip to continue: \n",
      "Enter the values: 2\n",
      "press s to stop or skip to continue: \n",
      "Enter the values: 3\n",
      "press s to stop or skip to continue: s\n",
      "enter a value to check: 3\n",
      "value is present\n"
     ]
    }
   ],
   "source": [
    "#10. Write a Python program to check if a given value is present in a set or not (Dynamic)\n",
    "a=0\n",
    "while a==0:\n",
    "    b=input(\"Enter the values: \")\n",
    "    c=input(\"press s to stop or skip to continue: \")\n",
    "    if c==\"s\":\n",
    "        d=input(\"enter a value to check: \")\n",
    "        b_list=b.split()\n",
    "        if d in b_list:\n",
    "            print(\"value is present\")\n",
    "            break\n",
    "        else:\n",
    "            print(\"value is not present\")\n",
    "            break\n",
    "    else:\n",
    "        continue\n",
    "        \n",
    "    \n",
    "    \n",
    "\n"
   ]
  },
  {
   "cell_type": "code",
   "execution_count": 7,
   "id": "b74943a3",
   "metadata": {},
   "outputs": [
    {
     "name": "stdout",
     "output_type": "stream",
     "text": [
      "enter subject: maths\n",
      "enter marks : 12\n",
      "c to stop: \n",
      "enter subject: science\n",
      "enter marks : 15\n",
      "c to stop: c\n",
      "{'maths': 12, 'science': 15}\n"
     ]
    }
   ],
   "source": [
    "#12. Write a Python program that accepts name of given subject and mark, and \n",
    "#make subjects as keys in dictionaries and marks as values and print the final\n",
    "#dictionary with subjects and marks\n",
    "\n",
    "d={}\n",
    "x=0\n",
    "while x==0:\n",
    "\n",
    "    a=input(\"enter subject: \")\n",
    "    b=int(input(\"enter marks : \"))\n",
    "    d.update({a:b})\n",
    "    e=input(\"c to stop: \")\n",
    "    if e== \"c\":\n",
    "        \n",
    "        break\n",
    "print(d)\n",
    "        \n",
    "    \n",
    "   \n",
    "\n"
   ]
  },
  {
   "cell_type": "code",
   "execution_count": null,
   "id": "f78e8346",
   "metadata": {},
   "outputs": [],
   "source": []
  },
  {
   "cell_type": "code",
   "execution_count": null,
   "id": "ae3966d8",
   "metadata": {},
   "outputs": [],
   "source": [
    "\n",
    "    "
   ]
  },
  {
   "cell_type": "code",
   "execution_count": null,
   "id": "adda51b6",
   "metadata": {},
   "outputs": [],
   "source": []
  }
 ],
 "metadata": {
  "kernelspec": {
   "display_name": "Python 3 (ipykernel)",
   "language": "python",
   "name": "python3"
  },
  "language_info": {
   "codemirror_mode": {
    "name": "ipython",
    "version": 3
   },
   "file_extension": ".py",
   "mimetype": "text/x-python",
   "name": "python",
   "nbconvert_exporter": "python",
   "pygments_lexer": "ipython3",
   "version": "3.10.9"
  }
 },
 "nbformat": 4,
 "nbformat_minor": 5
}
