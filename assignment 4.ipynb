{
 "cells": [
  {
   "cell_type": "code",
   "execution_count": 12,
   "id": "da29191e",
   "metadata": {},
   "outputs": [
    {
     "name": "stdout",
     "output_type": "stream",
     "text": [
      "1\n",
      "2\n",
      "3\n",
      "4\n",
      "5\n",
      "6\n"
     ]
    }
   ],
   "source": [
    "#1. Write a Python program to loop through all the elements in a list\n",
    "b=[1,2,3,4,5,6]\n",
    "\n",
    "\n",
    "for y in b:\n",
    "    \n",
    "    print(y)"
   ]
  },
  {
   "cell_type": "code",
   "execution_count": 4,
   "id": "097c4e41",
   "metadata": {},
   "outputs": [
    {
     "name": "stdout",
     "output_type": "stream",
     "text": [
      "insert elements: avs\n",
      "['a', 'v', 's']\n"
     ]
    }
   ],
   "source": [
    "#2. Write a Python program where you will ask the users to insert elements in a list\n",
    "\n",
    "b=[]\n",
    "a=input(\"insert elements: \")\n",
    "\n",
    "for c in a:\n",
    "    b.append(c)\n",
    "print(b)\n"
   ]
  },
  {
   "cell_type": "code",
   "execution_count": 17,
   "id": "551e15f4",
   "metadata": {},
   "outputs": [
    {
     "name": "stdout",
     "output_type": "stream",
     "text": [
      "[1, 3, 5]\n"
     ]
    }
   ],
   "source": [
    "#3. Write a Python program to remove all the odd index value from a list and only even index elements should remain\n",
    "a=[1,2,3,4,5,6]\n",
    "b=[]\n",
    "\n",
    "for c in range(len(a)):\n",
    "    if c%2==0:\n",
    "        b.append(a[c])\n",
    "        \n",
    "print(b)"
   ]
  },
  {
   "cell_type": "code",
   "execution_count": 24,
   "id": "7ab2ece3",
   "metadata": {},
   "outputs": [
    {
     "name": "stdout",
     "output_type": "stream",
     "text": [
      "sum is 14 multiplication is 72\n"
     ]
    }
   ],
   "source": [
    "#4. Write a Python program to sum and multiply all the items in a list\n",
    "a=[1,3,4,6]\n",
    "b=0\n",
    "c=1\n",
    "\n",
    "for x in a:\n",
    "    b=b+x\n",
    "    c=c*x\n",
    "   \n",
    "    \n",
    "print(\"sum is\",b,\"multiplication is\",c)"
   ]
  },
  {
   "cell_type": "code",
   "execution_count": 34,
   "id": "697050f7",
   "metadata": {},
   "outputs": [
    {
     "name": "stdout",
     "output_type": "stream",
     "text": [
      "['Green', 'White', 'Black']\n"
     ]
    }
   ],
   "source": [
    "#6. Write a Python program to print a specified list after removing the 0th, 4th and 5th elements.\n",
    "\n",
    "a=['Red', 'Green', 'White', 'Black', 'Pink', 'Yellow']\n",
    "\n",
    "a.pop(0)+a.pop(3)+a.pop(3)\n",
    "\n",
    "\n",
    "print(a)\n"
   ]
  },
  {
   "cell_type": "code",
   "execution_count": 51,
   "id": "a71a41a8",
   "metadata": {},
   "outputs": [
    {
     "name": "stdout",
     "output_type": "stream",
     "text": [
      "abc12\n"
     ]
    }
   ],
   "source": [
    "#7. Write a Python program to convert a list of characters into a string\n",
    "\n",
    "a=[\"a\",\"b\",\"c\",1,2]\n",
    "\n",
    "b=\"\"\n",
    "\n",
    "for x in a:\n",
    "    b=b+str(x)\n",
    "print(b)\n"
   ]
  },
  {
   "cell_type": "code",
   "execution_count": 54,
   "id": "12edfb30",
   "metadata": {},
   "outputs": [
    {
     "name": "stdout",
     "output_type": "stream",
     "text": [
      "5.0\n"
     ]
    }
   ],
   "source": [
    "#8. Write a Python program to compute average of given lists.\n",
    "\n",
    "a=[1,2,3,4,5,6,7,8,9]\n",
    "b=0\n",
    "for x in a:\n",
    "    b=b+x\n",
    "    c=b/len(a)\n",
    "    \n",
    "print(c)"
   ]
  },
  {
   "cell_type": "code",
   "execution_count": 60,
   "id": "e4dc14c3",
   "metadata": {},
   "outputs": [
    {
     "name": "stdout",
     "output_type": "stream",
     "text": [
      "Number of integers in the list: 3\n"
     ]
    }
   ],
   "source": [
    "#9. Write a Python program to count integer in a given mixed list.\n",
    "\n",
    "a= [10, \"a\",2,3,5.5,1.34,\"abc\",\"rt\"]\n",
    "b=0\n",
    "\n",
    "for x in a:\n",
    "    if type(x)==int:\n",
    "        b=b+1\n",
    "print(\"Number of integers in the list:\",b)\n",
    "        "
   ]
  },
  {
   "cell_type": "code",
   "execution_count": 8,
   "id": "4c99d822",
   "metadata": {
    "scrolled": true
   },
   "outputs": [
    {
     "name": "stdout",
     "output_type": "stream",
     "text": [
      "['rt', 'abc', 1.34, 5.5, 3, 2, 'a', 10]\n"
     ]
    }
   ],
   "source": [
    "#10. Write a Python program to reverse the list\n",
    "\n",
    "a= [10, \"a\",2,3,5.5,1.34,\"abc\",\"rt\"]\n",
    "\n",
    "a.reverse()\n",
    "print(a)"
   ]
  },
  {
   "cell_type": "code",
   "execution_count": 3,
   "id": "29acb665",
   "metadata": {},
   "outputs": [
    {
     "name": "stdout",
     "output_type": "stream",
     "text": [
      "type any thingabx12\n",
      "('a', 'b', 'x', '1', '2')\n"
     ]
    }
   ],
   "source": [
    "#11. Write a Python program convert a given string to a tuple\n",
    "\n",
    "a=str(input(\"type any thing\"))\n",
    "\n",
    "b=tuple((a))\n",
    "print(b)"
   ]
  },
  {
   "cell_type": "code",
   "execution_count": null,
   "id": "f327fac7",
   "metadata": {},
   "outputs": [],
   "source": []
  },
  {
   "cell_type": "code",
   "execution_count": null,
   "id": "0fcd31f4",
   "metadata": {},
   "outputs": [],
   "source": []
  },
  {
   "cell_type": "code",
   "execution_count": null,
   "id": "40ecaf59",
   "metadata": {},
   "outputs": [],
   "source": []
  }
 ],
 "metadata": {
  "kernelspec": {
   "display_name": "Python 3 (ipykernel)",
   "language": "python",
   "name": "python3"
  },
  "language_info": {
   "codemirror_mode": {
    "name": "ipython",
    "version": 3
   },
   "file_extension": ".py",
   "mimetype": "text/x-python",
   "name": "python",
   "nbconvert_exporter": "python",
   "pygments_lexer": "ipython3",
   "version": "3.10.9"
  }
 },
 "nbformat": 4,
 "nbformat_minor": 5
}
