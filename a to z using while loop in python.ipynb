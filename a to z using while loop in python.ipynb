{
 "cells": [
  {
   "cell_type": "code",
   "execution_count": 25,
   "id": "718eb563",
   "metadata": {},
   "outputs": [
    {
     "name": "stdout",
     "output_type": "stream",
     "text": [
      "* * *\n",
      "*   *\n",
      "*   *\n",
      "* * *  *\n",
      "    *  * \n"
     ]
    }
   ],
   "source": [
    "x=1\n",
    "while x<6:\n",
    "    if x==1:\n",
    "        print(\"* * *\")\n",
    "    elif x==2 or x==3:\n",
    "        print(\"*   *\")\n",
    "    elif x==4:\n",
    "        print(\"* * *  *\")\n",
    "    \n",
    "    \n",
    "    else:\n",
    "        print(\"    *  * \")\n",
    "    x=x+1"
   ]
  },
  {
   "cell_type": "code",
   "execution_count": 37,
   "id": "2f51c7ab",
   "metadata": {},
   "outputs": [
    {
     "name": "stdout",
     "output_type": "stream",
     "text": [
      "* \n",
      "* \n",
      "* *  * \n",
      "*    *\n",
      "* *  * \n"
     ]
    }
   ],
   "source": [
    "x=1\n",
    "while x<6:\n",
    "    if x==1 or x==2  :\n",
    "        print(\"* \")\n",
    "   \n",
    "    elif x==4:\n",
    "        print(\"*    *\")\n",
    "    \n",
    "    \n",
    "    else:\n",
    "        print(\"* *  * \")\n",
    "    x=x+1"
   ]
  },
  {
   "cell_type": "code",
   "execution_count": 16,
   "id": "d2e0f377",
   "metadata": {},
   "outputs": [
    {
     "name": "stdout",
     "output_type": "stream",
     "text": [
      "* * *\n",
      "*   \n",
      "*   \n",
      "* * *\n"
     ]
    }
   ],
   "source": [
    "x=1\n",
    "while x<5:\n",
    "    if x==1 or x==4:\n",
    "        print(\"* * *\")\n",
    "    else: \n",
    "        print(\"*   \")\n",
    "    x=x+1"
   ]
  },
  {
   "cell_type": "code",
   "execution_count": 2,
   "id": "b2086cef",
   "metadata": {},
   "outputs": [
    {
     "name": "stdout",
     "output_type": "stream",
     "text": [
      "    *\n",
      "    *\n",
      "* * *\n",
      "*   *\n",
      "* * *\n"
     ]
    }
   ],
   "source": [
    "x=0\n",
    "while x<5:\n",
    "    if x==0 or x==1:\n",
    "        print(\"    *\")\n",
    "    elif x==3 : \n",
    "        print(\"*   *\")\n",
    "    else: \n",
    "        print(\"* * *\")\n",
    "        \n",
    "    x=x+1 \n",
    "    "
   ]
  },
  {
   "cell_type": "code",
   "execution_count": 8,
   "id": "1ea0c85d",
   "metadata": {},
   "outputs": [
    {
     "name": "stdout",
     "output_type": "stream",
     "text": [
      "* * *\n",
      "*   *\n",
      "* * *\n",
      "*   \n",
      "* * *\n"
     ]
    }
   ],
   "source": [
    "x=0\n",
    "while x<5:\n",
    "    if x==0 or x==2 or x==4:\n",
    "        print(\"* * *\")\n",
    "    elif x==1 : \n",
    "        print(\"*   *\")\n",
    "\n",
    "    else: \n",
    "        print(\"*   \")\n",
    "        \n",
    "    x=x+1 "
   ]
  },
  {
   "cell_type": "code",
   "execution_count": 21,
   "id": "2ad109ad",
   "metadata": {},
   "outputs": [
    {
     "name": "stdout",
     "output_type": "stream",
     "text": [
      " * * \n",
      "*   *\n",
      "* \n",
      "* * *\n",
      "* \n",
      "* \n"
     ]
    }
   ],
   "source": [
    "x=1\n",
    "while x<7:\n",
    "    if x==1 :\n",
    "        print(\" * * \")\n",
    "    elif x==2:\n",
    "        print(\"*   *\")\n",
    "    elif x==4:\n",
    "        print(\"* * *\")\n",
    "    \n",
    "    else:\n",
    "        print(\"* \")\n",
    "    x=x+1\n",
    "    "
   ]
  },
  {
   "cell_type": "code",
   "execution_count": 35,
   "id": "79d85f00",
   "metadata": {},
   "outputs": [
    {
     "name": "stdout",
     "output_type": "stream",
     "text": [
      "* * * \n",
      "*   *\n",
      "* * * \n",
      "    *  \n",
      "*   *\n",
      "* * * \n"
     ]
    }
   ],
   "source": [
    "x=1\n",
    "while x<7:\n",
    "    if x==3 or x==6 or x==1:\n",
    "        print(\"* * * \")\n",
    "    elif x==2:\n",
    "        print(\"*   *\")\n",
    "\n",
    "    elif x==4 :\n",
    "        print(\"    *  \")\n",
    "    elif x==5:\n",
    "        print(\"*   *\")\n",
    "    \n",
    "    else:\n",
    "        print(\"    *\")\n",
    "    x=x+1"
   ]
  },
  {
   "cell_type": "code",
   "execution_count": 39,
   "id": "f1e692f4",
   "metadata": {},
   "outputs": [
    {
     "name": "stdout",
     "output_type": "stream",
     "text": [
      "* \n",
      "* \n",
      "* * *\n",
      "*   *\n",
      "*   *\n"
     ]
    }
   ],
   "source": [
    "x=1\n",
    "while x<6:\n",
    "    if x==1 or x==2  :\n",
    "        print(\"* \")\n",
    "    elif x==3 :\n",
    "        print(\"* * *\")\n",
    "    \n",
    "        \n",
    "    \n",
    "    \n",
    "    else:\n",
    "        print(\"*   *\")\n",
    "    x=x+1"
   ]
  },
  {
   "cell_type": "code",
   "execution_count": 42,
   "id": "9603909c",
   "metadata": {},
   "outputs": [
    {
     "name": "stdout",
     "output_type": "stream",
     "text": [
      "  *    \n",
      " \n",
      "  * \n",
      "  * \n",
      "  * \n"
     ]
    }
   ],
   "source": [
    "x=1\n",
    "while x<6:\n",
    "    if x==1:\n",
    "        print(\"  *    \")\n",
    "    elif x==2:\n",
    "        print(\" \")\n",
    "\n",
    "    else:\n",
    "        print(\"  * \")\n",
    "    x=x+1"
   ]
  },
  {
   "cell_type": "code",
   "execution_count": 62,
   "id": "7b726216",
   "metadata": {},
   "outputs": [
    {
     "name": "stdout",
     "output_type": "stream",
     "text": [
      "    * \n",
      " \n",
      "    * \n",
      "*   *\n",
      "*   *\n",
      "* * *  \n"
     ]
    }
   ],
   "source": [
    "x=1\n",
    "while x<7:\n",
    "    if x==6:\n",
    "        print(\"* * *  \")\n",
    "    elif x==2:\n",
    "        print(\" \")\n",
    "    elif x==4 or x==5:\n",
    "        print(\"*   *\")\n",
    "\n",
    "    else:\n",
    "        print(\"    * \")\n",
    "    x=x+1"
   ]
  },
  {
   "cell_type": "code",
   "execution_count": 63,
   "id": "140306df",
   "metadata": {},
   "outputs": [
    {
     "name": "stdout",
     "output_type": "stream",
     "text": [
      "  *   * \n",
      "  * * \n",
      "  **  \n",
      "  * * \n",
      "  *   * \n"
     ]
    }
   ],
   "source": [
    "x=10\n",
    "while x>5:\n",
    "    if x==10 or x==6:\n",
    "        print(\"  *   * \")\n",
    "    \n",
    "    elif x==9 or x==7:\n",
    "        print(\"  * * \")\n",
    "   \n",
    "    else: \n",
    "        print(\"  **  \")\n",
    "    x=x-1"
   ]
  },
  {
   "cell_type": "code",
   "execution_count": 66,
   "id": "6478442a",
   "metadata": {},
   "outputs": [
    {
     "name": "stdout",
     "output_type": "stream",
     "text": [
      "  *    \n",
      "  *    \n",
      "  *    \n",
      "  *    \n",
      "  *    \n"
     ]
    }
   ],
   "source": [
    "x=1\n",
    "while x<6:\n",
    "    if x==1 or x==2 or x==3 or x==4 or x==5 or x==6:\n",
    "        print(\"  *    \")\n",
    "   \n",
    "    x=x+1"
   ]
  },
  {
   "cell_type": "code",
   "execution_count": 79,
   "id": "4d484c01",
   "metadata": {},
   "outputs": [
    {
     "name": "stdout",
     "output_type": "stream",
     "text": [
      "*    \n",
      " *   *\n",
      " * * *\n",
      " * * *\n",
      " *   *\n",
      " *   *\n"
     ]
    }
   ],
   "source": [
    "x=0\n",
    "while x<6:\n",
    "    if x==0:\n",
    "        print(\"*    \")\n",
    "    elif x==2 or x==3:\n",
    "        print(\" * * *\")\n",
    "    else:\n",
    "        print(\" *   *\")\n",
    "    x=x+1"
   ]
  },
  {
   "cell_type": "code",
   "execution_count": 81,
   "id": "aaab5503",
   "metadata": {},
   "outputs": [
    {
     "name": "stdout",
     "output_type": "stream",
     "text": [
      "*    \n",
      " * * *\n",
      " *   *\n",
      " *   *\n",
      " *   *\n",
      " *   *\n"
     ]
    }
   ],
   "source": [
    "x=0\n",
    "while x<6:\n",
    "    if x==0:\n",
    "        print(\"*    \")\n",
    "    elif x==1:\n",
    "        print(\" * * *\")\n",
    "    else:\n",
    "        print(\" *   *\")\n",
    "    x=x+1"
   ]
  },
  {
   "cell_type": "code",
   "execution_count": 82,
   "id": "9818428b",
   "metadata": {},
   "outputs": [
    {
     "name": "stdout",
     "output_type": "stream",
     "text": [
      "* * *\n",
      "*   *\n",
      "*   *\n",
      "*   *\n",
      "* * *\n"
     ]
    }
   ],
   "source": [
    "x=1\n",
    "while x<6:\n",
    "    if x==1 or x==5:\n",
    "        print(\"* * *\")\n",
    "    \n",
    "    else:\n",
    "        print(\"*   *\")\n",
    "    x=x+1"
   ]
  },
  {
   "cell_type": "code",
   "execution_count": 84,
   "id": "d07d6bc6",
   "metadata": {},
   "outputs": [
    {
     "name": "stdout",
     "output_type": "stream",
     "text": [
      " \n",
      " \n",
      "* * *\n",
      "*   *\n",
      "* *  \n",
      "*   \n",
      "*   \n"
     ]
    }
   ],
   "source": [
    "x=-1\n",
    "while x<6:\n",
    "    if x==1:\n",
    "        print(\"* * *\")\n",
    "    elif x==-1 or x== 0 or x==1:\n",
    "        print(\" \")\n",
    "    elif x==2:\n",
    "        print(\"*   *\")\n",
    "    elif x==3:\n",
    "        print(\"* *  \")\n",
    "    \n",
    "    else:\n",
    "        print(\"*   \")\n",
    "    x=x+1"
   ]
  },
  {
   "cell_type": "code",
   "execution_count": 86,
   "id": "c051f3ee",
   "metadata": {},
   "outputs": [
    {
     "name": "stdout",
     "output_type": "stream",
     "text": [
      "* * *\n",
      "*   *\n",
      "*   *\n",
      "* * *\n",
      "    * \n"
     ]
    }
   ],
   "source": [
    "x=1\n",
    "while x<6:\n",
    "    if x==1 or x==4:\n",
    "        print(\"* * *\")\n",
    "    elif x==2 or x==3:\n",
    "        print(\"*   *\")\n",
    "    \n",
    "    \n",
    "    else:\n",
    "        print(\"    * \")\n",
    "    x=x+1"
   ]
  },
  {
   "cell_type": "code",
   "execution_count": 106,
   "id": "5527925e",
   "metadata": {},
   "outputs": [
    {
     "name": "stdout",
     "output_type": "stream",
     "text": [
      " *       *\n",
      "   *   *\n",
      "     * \n",
      "   *   *\n",
      "   *   *\n",
      "     *  \n"
     ]
    }
   ],
   "source": [
    "x=1\n",
    "while x<7:\n",
    "    if x==6:\n",
    "        print(\"     *  \")\n",
    "    elif x==2:\n",
    "        print(\"   *   *\")\n",
    "    elif x==1:\n",
    "        print(\" *       *\")\n",
    "    \n",
    "    elif x==4 or x==5:\n",
    "        print(\"   *   *\")\n",
    "\n",
    "    else:\n",
    "        print(\"     * \")\n",
    "    x=x+1"
   ]
  },
  {
   "cell_type": "code",
   "execution_count": 107,
   "id": "64d976b1",
   "metadata": {},
   "outputs": [
    {
     "name": "stdout",
     "output_type": "stream",
     "text": [
      "* * *\n",
      "*   \n",
      "* * *\n",
      "    * \n",
      "* * *\n"
     ]
    }
   ],
   "source": [
    "x=1\n",
    "while x<6:\n",
    "    if x==1 or x==3 or x==5:\n",
    "        print(\"* * *\")\n",
    "    elif x==2:\n",
    "        print(\"*   \")\n",
    "    \n",
    "    \n",
    "    else:\n",
    "        print(\"    * \")\n",
    "    x=x+1"
   ]
  },
  {
   "cell_type": "code",
   "execution_count": 115,
   "id": "8d523224",
   "metadata": {},
   "outputs": [
    {
     "name": "stdout",
     "output_type": "stream",
     "text": [
      " * \n",
      " * \n",
      " * * *\n",
      " * \n",
      " * * *\n"
     ]
    }
   ],
   "source": [
    "x=1\n",
    "while x<6:\n",
    "    if x==5 :\n",
    "        print(\" * * *\")\n",
    "    elif x==3:\n",
    "        print(\" * * *\")\n",
    "    \n",
    "    \n",
    "    \n",
    "    else:\n",
    "        print(\" * \")\n",
    "    x=x+1"
   ]
  },
  {
   "cell_type": "code",
   "execution_count": 128,
   "id": "59e7dadc",
   "metadata": {},
   "outputs": [
    {
     "name": "stdout",
     "output_type": "stream",
     "text": [
      "*     *\n",
      "*     *\n",
      "*     *\n",
      "* * * *  *\n",
      "      * * \n"
     ]
    }
   ],
   "source": [
    "x=1\n",
    "while x<6:\n",
    "    if x==1 or x==2 or x==3 :\n",
    "        print(\"*     *\")\n",
    "    elif x==5:\n",
    "        print(\"      * * \")\n",
    "    \n",
    "    \n",
    "    \n",
    "    else:\n",
    "        print(\"* * * *  *\")\n",
    "    x=x+1"
   ]
  },
  {
   "cell_type": "code",
   "execution_count": 1,
   "id": "4a9ec0ff",
   "metadata": {},
   "outputs": [
    {
     "name": "stdout",
     "output_type": "stream",
     "text": [
      "*         *\n",
      " *       *\n",
      "  *     *\n",
      "   *   * \n",
      "     *    \n"
     ]
    }
   ],
   "source": [
    "x=1\n",
    "while x<6:\n",
    "    if x==1:\n",
    "        print(\"*         *\")\n",
    "    elif x==2:\n",
    "        print(\" *       *\")\n",
    "    elif x==3:\n",
    "        print(\"  *     *\")\n",
    "    elif x==4:\n",
    "        print(\"   *   * \")\n",
    "        \n",
    "        \n",
    "    \n",
    "    \n",
    "    \n",
    "    else:\n",
    "        print(\"     *    \")\n",
    "    x=x+1"
   ]
  },
  {
   "cell_type": "code",
   "execution_count": 2,
   "id": "767185a1",
   "metadata": {},
   "outputs": [
    {
     "name": "stdout",
     "output_type": "stream",
     "text": [
      "*   *   *\n",
      "*   *   *\n",
      "*   *   *\n",
      "*   *   *\n",
      "* * * * *\n"
     ]
    }
   ],
   "source": [
    "x=1\n",
    "while x<6:\n",
    "    if x==1 or x==2 or x==3 or x==4:\n",
    "        print(\"*   *   *\")\n",
    "    \n",
    "    \n",
    "    \n",
    "    else:\n",
    "        print(\"* * * * *\")\n",
    "\n",
    "    x=x+1"
   ]
  },
  {
   "cell_type": "code",
   "execution_count": 3,
   "id": "6b616879",
   "metadata": {},
   "outputs": [
    {
     "name": "stdout",
     "output_type": "stream",
     "text": [
      "*      *\n",
      " *   *\n",
      "   *  \n",
      " *   *\n",
      "*      *\n"
     ]
    }
   ],
   "source": [
    "x=1\n",
    "while x<6:\n",
    "    if x==1 or x==5:\n",
    "        print(\"*      *\")\n",
    "    elif x==2 or x==4:\n",
    "        print(\" *   *\")\n",
    "    \n",
    "    else:\n",
    "        print(\"   *  \")\n",
    "\n",
    "    x=x+1"
   ]
  },
  {
   "cell_type": "code",
   "execution_count": 13,
   "id": "1b73e8bd",
   "metadata": {},
   "outputs": [
    {
     "name": "stdout",
     "output_type": "stream",
     "text": [
      "*     *\n",
      "*     *\n",
      "* * * *  \n",
      "      *\n",
      "* * * * \n"
     ]
    }
   ],
   "source": [
    "x=1\n",
    "while x<6:\n",
    "    if x==1 or x==2  :\n",
    "        print(\"*     *\")\n",
    "    elif x==5:\n",
    "        print(\"* * * * \")\n",
    "    elif x==4:\n",
    "        print(\"      *\")\n",
    "    \n",
    "    \n",
    "    \n",
    "    else:\n",
    "        print(\"* * * *  \")\n",
    "    x=x+1"
   ]
  },
  {
   "cell_type": "code",
   "execution_count": 19,
   "id": "d5444562",
   "metadata": {},
   "outputs": [
    {
     "name": "stdout",
     "output_type": "stream",
     "text": [
      "* * * *\n",
      "     *\n",
      "* * * *\n",
      " *\n",
      "* * * *\n"
     ]
    }
   ],
   "source": [
    "x=1\n",
    "while x<6:\n",
    "    if x==1 or x==5:\n",
    "        print(\"* * * *\")\n",
    "    elif x==2:\n",
    "        print(\"     *\")\n",
    "    elif x==4:\n",
    "        print(\" *\")\n",
    "    elif x==3:\n",
    "        print(\"* * * *\")\n",
    "    \n",
    "    else:\n",
    "        print(\"   *  \")\n",
    "\n",
    "    x=x+1"
   ]
  },
  {
   "cell_type": "code",
   "execution_count": null,
   "id": "3b316520",
   "metadata": {},
   "outputs": [],
   "source": []
  }
 ],
 "metadata": {
  "kernelspec": {
   "display_name": "Python 3 (ipykernel)",
   "language": "python",
   "name": "python3"
  },
  "language_info": {
   "codemirror_mode": {
    "name": "ipython",
    "version": 3
   },
   "file_extension": ".py",
   "mimetype": "text/x-python",
   "name": "python",
   "nbconvert_exporter": "python",
   "pygments_lexer": "ipython3",
   "version": "3.10.9"
  }
 },
 "nbformat": 4,
 "nbformat_minor": 5
}
