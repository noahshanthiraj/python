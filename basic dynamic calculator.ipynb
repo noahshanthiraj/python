{
 "cells": [
  {
   "cell_type": "code",
   "execution_count": 1,
   "id": "00a6d5ea",
   "metadata": {},
   "outputs": [
    {
     "name": "stdout",
     "output_type": "stream",
     "text": [
      "type start to begin your calculator: start\n",
      "Enter a first number: 4\n",
      "Enter a operator(+,-,*,**,/,//,%): +\n",
      "Enter a second number: 77\n",
      "4 +77 =81\n",
      "type start to continue (or) stop to stopstart\n",
      "Enter a first number: 5\n",
      "Enter a operator(+,-,*,**,/,//,%): **\n",
      "Enter a second number: 4\n",
      "5**4=625\n",
      "type start to continue (or) stop to stopstop\n"
     ]
    }
   ],
   "source": [
    "y=input(\"type start to begin your calculator: \")\n",
    "while y== \"start\":\n",
    "    a=int(input(\"Enter a first number: \"))\n",
    "    b=(input(\"Enter a operator(+,-,*,**,/,//,%): \"))\n",
    "    c=int(input(\"Enter a second number: \"))\n",
    "    if b==\"+\":\n",
    "    \n",
    "        add=a+c\n",
    "        sum=\"{} +{} ={}\".format(a,c,add)\n",
    "        print(sum)\n",
    "        \n",
    "    elif b==\"-\":\n",
    "        sub=a-c\n",
    "        sub=\"{}-{} ={}\".format(a,c,sub)\n",
    "        print(sub)\n",
    "    elif b==\"*\":\n",
    "        mul=a*c\n",
    "        mul=\"{}*{} ={}\".format(a,c,mul)\n",
    "        print(mul)\n",
    "    elif b==\"/\":\n",
    "        div=a/c\n",
    "        div=\"{}/{} ={}\".format(a,c,div)\n",
    "        print(div)\n",
    "    elif b==\"%\":\n",
    "        per=a%c\n",
    "        per=\"{}%{} ={}\".format(a,c,per)\n",
    "        print(per)\n",
    "    elif b==\"//\":\n",
    "        flr=a//c\n",
    "        flr=\"{}//{} ={}\".format(a,c,flr)\n",
    "        print(flr)\n",
    "    elif b==\"**\":\n",
    "        exp=a**c\n",
    "        exp=\"{}**{}={}\".format(a,c,exp)\n",
    "        print(exp)\n",
    "    else:\n",
    "        print(\"invalid operator\")\n",
    "        \n",
    "    k=input(\"type start to continue (or) stop to stop\")\n",
    "    if k==\"start\":\n",
    "        continue\n",
    "    elif k==\"stop\":\n",
    "        break\n",
    "    else:\n",
    "        print(\"invalid input\")\n",
    "    \n",
    "    \n",
    "        \n",
    "        \n",
    "        \n",
    "          \n",
    "   "
   ]
  },
  {
   "cell_type": "code",
   "execution_count": null,
   "id": "a88b7d5f",
   "metadata": {},
   "outputs": [],
   "source": []
  }
 ],
 "metadata": {
  "kernelspec": {
   "display_name": "Python 3 (ipykernel)",
   "language": "python",
   "name": "python3"
  },
  "language_info": {
   "codemirror_mode": {
    "name": "ipython",
    "version": 3
   },
   "file_extension": ".py",
   "mimetype": "text/x-python",
   "name": "python",
   "nbconvert_exporter": "python",
   "pygments_lexer": "ipython3",
   "version": "3.10.9"
  }
 },
 "nbformat": 4,
 "nbformat_minor": 5
}
