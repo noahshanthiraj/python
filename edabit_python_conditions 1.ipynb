{
 "cells": [
  {
   "cell_type": "code",
   "execution_count": 1,
   "id": "71b110fd",
   "metadata": {},
   "outputs": [
    {
     "data": {
      "text/plain": [
       "'True'"
      ]
     },
     "execution_count": 1,
     "metadata": {},
     "output_type": "execute_result"
    }
   ],
   "source": [
    "#1. Create a function that takes a boolean variable flag and returns it as a string. \n",
    "#Examples\n",
    "#bool_to_string(True) ➞ \"True\" \n",
    "#bool_to_string(False) ➞ \"False\"\n",
    "\n",
    "def bool_to_string(flag):\n",
    "    if flag==True:\n",
    "        return \"True\"\n",
    "    elif flag==False:\n",
    "        return \"False\"\n",
    "    else:\n",
    "        return None\n",
    "\n",
    "bool_to_string(True)"
   ]
  },
  {
   "cell_type": "code",
   "execution_count": 2,
   "id": "c01d7e5d",
   "metadata": {},
   "outputs": [],
   "source": [
    "#2 Create a function that returns True when num1 is equal to num2; otherwise return False.\n",
    "\n",
    "def x(y,z):\n",
    "    \n",
    "    if y==z:\n",
    "        print(True)\n",
    "    else:\n",
    "        print(False)\n",
    "        \n"
   ]
  },
  {
   "cell_type": "code",
   "execution_count": 8,
   "id": "09e1fd36",
   "metadata": {
    "scrolled": true
   },
   "outputs": [
    {
     "name": "stdout",
     "output_type": "stream",
     "text": [
      "False\n"
     ]
    }
   ],
   "source": [
    "x(2,3)"
   ]
  },
  {
   "cell_type": "code",
   "execution_count": 10,
   "id": "1e80f071",
   "metadata": {},
   "outputs": [
    {
     "name": "stdout",
     "output_type": "stream",
     "text": [
      "False\n",
      "None\n"
     ]
    }
   ],
   "source": [
    "print(x(2,3))"
   ]
  },
  {
   "cell_type": "code",
   "execution_count": 9,
   "id": "eb54e52e",
   "metadata": {},
   "outputs": [
    {
     "name": "stdout",
     "output_type": "stream",
     "text": [
      "True\n"
     ]
    }
   ],
   "source": [
    "x(2,2)"
   ]
  },
  {
   "cell_type": "code",
   "execution_count": 17,
   "id": "461a41e6",
   "metadata": {},
   "outputs": [],
   "source": [
    "#3 Create a function that takes a number as its only argument and returns True if it's less than or equal to zero,\n",
    "#otherwise return False.\n",
    "\n",
    "def x(y):\n",
    "    \n",
    "    if y<=0:\n",
    "        return True\n",
    "    else:\n",
    "        return False\n"
   ]
  },
  {
   "cell_type": "code",
   "execution_count": 18,
   "id": "da6b36b8",
   "metadata": {},
   "outputs": [
    {
     "data": {
      "text/plain": [
       "False"
      ]
     },
     "execution_count": 18,
     "metadata": {},
     "output_type": "execute_result"
    }
   ],
   "source": [
    "x(2)"
   ]
  },
  {
   "cell_type": "code",
   "execution_count": 19,
   "id": "856bbf49",
   "metadata": {},
   "outputs": [
    {
     "data": {
      "text/plain": [
       "True"
      ]
     },
     "execution_count": 19,
     "metadata": {},
     "output_type": "execute_result"
    }
   ],
   "source": [
    "x(-1)\n"
   ]
  },
  {
   "cell_type": "code",
   "execution_count": 44,
   "id": "8004746d",
   "metadata": {},
   "outputs": [],
   "source": [
    "less_than_or_equal_to_zero = lambda x: x <= 0"
   ]
  },
  {
   "cell_type": "code",
   "execution_count": 46,
   "id": "1cb19a1c",
   "metadata": {},
   "outputs": [
    {
     "data": {
      "text/plain": [
       "True"
      ]
     },
     "execution_count": 46,
     "metadata": {},
     "output_type": "execute_result"
    }
   ],
   "source": [
    "less_than_or_equal_to_zero(0)"
   ]
  },
  {
   "cell_type": "code",
   "execution_count": 53,
   "id": "4afeab1b",
   "metadata": {},
   "outputs": [],
   "source": [
    "def less_than_or_equal_to_zero(num):\n",
    "    \n",
    "       return num <= 0"
   ]
  },
  {
   "cell_type": "code",
   "execution_count": 55,
   "id": "3917f4b7",
   "metadata": {},
   "outputs": [
    {
     "data": {
      "text/plain": [
       "False"
      ]
     },
     "execution_count": 55,
     "metadata": {},
     "output_type": "execute_result"
    }
   ],
   "source": [
    "less_than_or_equal_to_zero(1)"
   ]
  },
  {
   "cell_type": "code",
   "execution_count": 49,
   "id": "f538fd06",
   "metadata": {},
   "outputs": [],
   "source": [
    "#4 Emmy has written a function that returns a greeting to users. However, she's in love with Mubashir, and would like to greet him slightly differently. She added a special case in her function, but she made a mistake.\n",
    "#Can you help her?\n",
    "\n",
    "def greeting(y,x=\"hello\"):\n",
    "    if y==\"matt\":\n",
    "        return x+\", matt!\"\n",
    "    if y==\"helen\":\n",
    "        return x+\", helen!\"\n",
    "    if y==\"mubashir\":\n",
    "        return x+\", my love!\"\n"
   ]
  },
  {
   "cell_type": "code",
   "execution_count": 50,
   "id": "d8d2e0de",
   "metadata": {},
   "outputs": [
    {
     "data": {
      "text/plain": [
       "'hello, matt!'"
      ]
     },
     "execution_count": 50,
     "metadata": {},
     "output_type": "execute_result"
    }
   ],
   "source": [
    "greeting(\"matt\")"
   ]
  },
  {
   "cell_type": "code",
   "execution_count": 51,
   "id": "fe911a03",
   "metadata": {},
   "outputs": [
    {
     "data": {
      "text/plain": [
       "'hello, helen!'"
      ]
     },
     "execution_count": 51,
     "metadata": {},
     "output_type": "execute_result"
    }
   ],
   "source": [
    "greeting(\"helen\")"
   ]
  },
  {
   "cell_type": "code",
   "execution_count": 52,
   "id": "55a8d3e2",
   "metadata": {},
   "outputs": [
    {
     "data": {
      "text/plain": [
       "'hello, my love!'"
      ]
     },
     "execution_count": 52,
     "metadata": {},
     "output_type": "execute_result"
    }
   ],
   "source": [
    "greeting(\"mubashir\")"
   ]
  },
  {
   "cell_type": "code",
   "execution_count": 1,
   "id": "9202ed07",
   "metadata": {},
   "outputs": [],
   "source": [
    "\n",
    "# 6 Create a function that takes three arguments prob, prize, pay and returns True if prob * prize > pay; otherwise return False.\n",
    "\n",
    "def a(prob,prize,pay):\n",
    "    return prob * prize > pay\n",
    "\n",
    "\n"
   ]
  },
  {
   "cell_type": "code",
   "execution_count": 2,
   "id": "82776d15",
   "metadata": {},
   "outputs": [
    {
     "data": {
      "text/plain": [
       "True"
      ]
     },
     "execution_count": 2,
     "metadata": {},
     "output_type": "execute_result"
    }
   ],
   "source": [
    "a(0.2,50,5)"
   ]
  },
  {
   "cell_type": "code",
   "execution_count": 3,
   "id": "d8cbe7bc",
   "metadata": {},
   "outputs": [
    {
     "data": {
      "text/plain": [
       "False"
      ]
     },
     "execution_count": 3,
     "metadata": {},
     "output_type": "execute_result"
    }
   ],
   "source": [
    "a(0.2,5,50)"
   ]
  },
  {
   "cell_type": "code",
   "execution_count": 7,
   "id": "6d7fd27d",
   "metadata": {},
   "outputs": [],
   "source": [
    "#7 Create a function that takes an integer and returns True if it's divisible by 100, otherwise return False.\n",
    "\n",
    "def integer(x):\n",
    "    return x%100==0\n"
   ]
  },
  {
   "cell_type": "code",
   "execution_count": 8,
   "id": "f50a352d",
   "metadata": {},
   "outputs": [
    {
     "data": {
      "text/plain": [
       "True"
      ]
     },
     "execution_count": 8,
     "metadata": {},
     "output_type": "execute_result"
    }
   ],
   "source": [
    "integer(100)"
   ]
  },
  {
   "cell_type": "code",
   "execution_count": 9,
   "id": "d5b99440",
   "metadata": {},
   "outputs": [
    {
     "data": {
      "text/plain": [
       "False"
      ]
     },
     "execution_count": 9,
     "metadata": {},
     "output_type": "execute_result"
    }
   ],
   "source": [
    "integer(3)"
   ]
  },
  {
   "cell_type": "code",
   "execution_count": 11,
   "id": "9d36eaee",
   "metadata": {},
   "outputs": [],
   "source": [
    "#8 Create a function that takes two strings as arguments and return either True or False depending on whether the total number\n",
    "#of characters in the first string is equal to the total number of characters in the second string.\n",
    "\n",
    "def strings(a,b):\n",
    "    if len(a)==len(b):\n",
    "        return True\n",
    "    else:\n",
    "        return False\n",
    "    \n"
   ]
  },
  {
   "cell_type": "code",
   "execution_count": 12,
   "id": "b62ef215",
   "metadata": {},
   "outputs": [
    {
     "data": {
      "text/plain": [
       "False"
      ]
     },
     "execution_count": 12,
     "metadata": {},
     "output_type": "execute_result"
    }
   ],
   "source": [
    "strings(\"lion\",\"tiger\")"
   ]
  },
  {
   "cell_type": "code",
   "execution_count": 13,
   "id": "bddf5456",
   "metadata": {},
   "outputs": [
    {
     "data": {
      "text/plain": [
       "True"
      ]
     },
     "execution_count": 13,
     "metadata": {},
     "output_type": "execute_result"
    }
   ],
   "source": [
    "strings(\"lion\",\"lion\")"
   ]
  },
  {
   "cell_type": "code",
   "execution_count": 14,
   "id": "77352482",
   "metadata": {},
   "outputs": [],
   "source": [
    "#9 Create a function that takes two arguments. Both arguments are integers, a and b. Return True if one of them is 10 or if \n",
    "#their sum is 10.\n",
    "\n",
    "def check(a,b):\n",
    "    if a==10 or b==10 or a+b==10:\n",
    "        return True\n",
    "    else:\n",
    "        return False"
   ]
  },
  {
   "cell_type": "code",
   "execution_count": 15,
   "id": "68bdf3de",
   "metadata": {},
   "outputs": [
    {
     "data": {
      "text/plain": [
       "True"
      ]
     },
     "execution_count": 15,
     "metadata": {},
     "output_type": "execute_result"
    }
   ],
   "source": [
    "check(10,9)"
   ]
  },
  {
   "cell_type": "code",
   "execution_count": 16,
   "id": "38b0987c",
   "metadata": {},
   "outputs": [
    {
     "data": {
      "text/plain": [
       "False"
      ]
     },
     "execution_count": 16,
     "metadata": {},
     "output_type": "execute_result"
    }
   ],
   "source": [
    "check(1,2)"
   ]
  },
  {
   "cell_type": "code",
   "execution_count": 17,
   "id": "899d0577",
   "metadata": {},
   "outputs": [],
   "source": [
    "#10 Given a string, return True if its length is even or False if the length is odd.\n",
    "\n",
    "def x(a):\n",
    "    return len(a)%2==0 "
   ]
  },
  {
   "cell_type": "code",
   "execution_count": 18,
   "id": "1ca6c55c",
   "metadata": {},
   "outputs": [
    {
     "data": {
      "text/plain": [
       "True"
      ]
     },
     "execution_count": 18,
     "metadata": {},
     "output_type": "execute_result"
    }
   ],
   "source": [
    "x(\"lion\")"
   ]
  },
  {
   "cell_type": "code",
   "execution_count": 19,
   "id": "14e5bc4e",
   "metadata": {},
   "outputs": [
    {
     "data": {
      "text/plain": [
       "False"
      ]
     },
     "execution_count": 19,
     "metadata": {},
     "output_type": "execute_result"
    }
   ],
   "source": [
    "x(\"tiger\")"
   ]
  },
  {
   "cell_type": "code",
   "execution_count": 1,
   "id": "53416da3",
   "metadata": {},
   "outputs": [],
   "source": [
    "#11 Create a function that takes a string; we'll say that the front is the first three characters of the string. If the string \n",
    "#length is less than three characters, the front is whatever is there. Return a new string, which is three copies of the front.\n",
    "\n",
    "\n",
    "def copies(a):\n",
    "    if len(a)<3:\n",
    "        return a\n",
    "    else:\n",
    "        return a[0:3]*3\n"
   ]
  },
  {
   "cell_type": "code",
   "execution_count": 2,
   "id": "7ede3268",
   "metadata": {},
   "outputs": [
    {
     "data": {
      "text/plain": [
       "'lioliolio'"
      ]
     },
     "execution_count": 2,
     "metadata": {},
     "output_type": "execute_result"
    }
   ],
   "source": [
    "copies(\"lion\")"
   ]
  },
  {
   "cell_type": "code",
   "execution_count": 3,
   "id": "28f2fbde",
   "metadata": {},
   "outputs": [
    {
     "data": {
      "text/plain": [
       "'catcatcat'"
      ]
     },
     "execution_count": 3,
     "metadata": {},
     "output_type": "execute_result"
    }
   ],
   "source": [
    "copies(\"cat\")"
   ]
  },
  {
   "cell_type": "code",
   "execution_count": 4,
   "id": "164c7b49",
   "metadata": {},
   "outputs": [
    {
     "data": {
      "text/plain": [
       "'c'"
      ]
     },
     "execution_count": 4,
     "metadata": {},
     "output_type": "execute_result"
    }
   ],
   "source": [
    "copies(\"c\")"
   ]
  },
  {
   "cell_type": "code",
   "execution_count": 5,
   "id": "4c20a791",
   "metadata": {},
   "outputs": [],
   "source": [
    "#Create a function that takes a number as an argument and returns \"even\" for even numbers and \"odd\" for odd numbers.\n",
    "\n",
    "def x(a):\n",
    "    if a%2==0:\n",
    "        return \"even\"\n",
    "    else:\n",
    "        return \"odd\""
   ]
  },
  {
   "cell_type": "code",
   "execution_count": 7,
   "id": "bc6a338e",
   "metadata": {},
   "outputs": [
    {
     "data": {
      "text/plain": [
       "'odd'"
      ]
     },
     "execution_count": 7,
     "metadata": {},
     "output_type": "execute_result"
    }
   ],
   "source": [
    "x(1)"
   ]
  },
  {
   "cell_type": "code",
   "execution_count": 11,
   "id": "3d5262f6",
   "metadata": {},
   "outputs": [
    {
     "data": {
      "text/plain": [
       "True"
      ]
     },
     "execution_count": 11,
     "metadata": {},
     "output_type": "execute_result"
    }
   ],
   "source": [
    "#Create a function that takes in a word and determines whether or not it is plural. A plural word is one that ends in \"s\"\n",
    "\n",
    "def is_plural(a):\n",
    "    return a[-1]==\"s\"\n",
    "is_plural(\"lions\")"
   ]
  },
  {
   "cell_type": "code",
   "execution_count": 23,
   "id": "f2beedeb",
   "metadata": {},
   "outputs": [
    {
     "data": {
      "text/plain": [
       "True"
      ]
     },
     "execution_count": 23,
     "metadata": {},
     "output_type": "execute_result"
    }
   ],
   "source": [
    "#Create a function that takes a string (a random name). If the last character of the name is an \"n\", return True,\n",
    "#otherwise return False.\n",
    "def name(a):\n",
    "    return a.endswith(\"n\")\n",
    "name(\"lion\")"
   ]
  },
  {
   "cell_type": "code",
   "execution_count": 25,
   "id": "8a3daf61",
   "metadata": {},
   "outputs": [
    {
     "data": {
      "text/plain": [
       "'palstic'"
      ]
     },
     "execution_count": 25,
     "metadata": {},
     "output_type": "execute_result"
    }
   ],
   "source": [
    "#The packaging machine is running the get_container() function to retrieve the container of a product. But something is not right...\n",
    "\n",
    "def get_continer(x):\n",
    "    if x==\"Bread\":\n",
    "        return \"bag\"\n",
    "    elif x==\"Beer\":\n",
    "        return \"bottle\"\n",
    "    elif x==\"candy\":\n",
    "        return \"palstic\"\n",
    "    else:\n",
    "        return None\n",
    "get_continer(\"candy\")"
   ]
  },
  {
   "cell_type": "code",
   "execution_count": 26,
   "id": "494f110a",
   "metadata": {},
   "outputs": [],
   "source": [
    "#Due to a programming concept known as truthiness, certain values can be evaluated to (i.e. take the place of) booleans. \n",
    "#For example, 1 (or any number other than 0) is often equivalent to True, and 0 is often equivalent to False.\n",
    "\n",
    "#Create a function that returns the opposite of the given boolean, as a number.\n",
    "\n",
    "def flip(a):\n",
    "    return not a"
   ]
  },
  {
   "cell_type": "code",
   "execution_count": 27,
   "id": "413656ba",
   "metadata": {},
   "outputs": [
    {
     "data": {
      "text/plain": [
       "False"
      ]
     },
     "execution_count": 27,
     "metadata": {},
     "output_type": "execute_result"
    }
   ],
   "source": [
    "flip(True)"
   ]
  },
  {
   "cell_type": "code",
   "execution_count": 28,
   "id": "6032db26",
   "metadata": {},
   "outputs": [
    {
     "data": {
      "text/plain": [
       "True"
      ]
     },
     "execution_count": 28,
     "metadata": {},
     "output_type": "execute_result"
    }
   ],
   "source": [
    "flip(0)"
   ]
  },
  {
   "cell_type": "code",
   "execution_count": 29,
   "id": "cd7e29fc",
   "metadata": {},
   "outputs": [
    {
     "data": {
      "text/plain": [
       "False"
      ]
     },
     "execution_count": 29,
     "metadata": {},
     "output_type": "execute_result"
    }
   ],
   "source": [
    "flip(1)"
   ]
  },
  {
   "cell_type": "code",
   "execution_count": 30,
   "id": "fe16fd5d",
   "metadata": {},
   "outputs": [
    {
     "data": {
      "text/plain": [
       "True"
      ]
     },
     "execution_count": 30,
     "metadata": {},
     "output_type": "execute_result"
    }
   ],
   "source": [
    "flip(False)"
   ]
  },
  {
   "cell_type": "code",
   "execution_count": 34,
   "id": "77f5e50d",
   "metadata": {},
   "outputs": [
    {
     "data": {
      "text/plain": [
       "3"
      ]
     },
     "execution_count": 34,
     "metadata": {},
     "output_type": "execute_result"
    }
   ],
   "source": [
    "#There is a single operator in Python, capable of providing the remainder of a division operation. Two numbers are passed \n",
    "#as parameters. The first parameter divided by the second parameter will have a remainder, possibly zero. Return that value.\n",
    "\n",
    "def rem(a,b):\n",
    "    return a%b\n",
    "rem(7,4)"
   ]
  },
  {
   "cell_type": "code",
   "execution_count": 42,
   "id": "2ac3cfe5",
   "metadata": {},
   "outputs": [
    {
     "data": {
      "text/plain": [
       "48"
      ]
     },
     "execution_count": 42,
     "metadata": {},
     "output_type": "execute_result"
    }
   ],
   "source": [
    "#Write a function that accepts base (decimal), height (decimal) and shape (\"triangle\", \"parallelogram\") as input and calculates \n",
    "#the area of that shape.\n",
    "\n",
    "def area_shape(base, height, shape):\n",
    "    if shape==\"triangle\":\n",
    "        return 0.5*base*height\n",
    "    else:\n",
    "        return base*height\n",
    "    \n",
    "area_shape(2, 3, \"triangle\")\n",
    "area_shape(8, 6, \"parallelogram\")"
   ]
  },
  {
   "cell_type": "code",
   "execution_count": 1,
   "id": "9d0ddc8f",
   "metadata": {},
   "outputs": [],
   "source": [
    "#You will need to write three unfinished logic gates. Continue to write the three logic gates: AND, OR, and NOT.\n",
    "\n",
    "def NOT(num):\n",
    "    return not num\n",
    "    \n",
    "\n",
    "\n",
    "def AND(num,num2):\n",
    "    return num and num2\n",
    "\n",
    "\n",
    "def OR(num,num2):\n",
    "    return num or num2\n"
   ]
  },
  {
   "cell_type": "code",
   "execution_count": 3,
   "id": "e36c6985",
   "metadata": {},
   "outputs": [
    {
     "data": {
      "text/plain": [
       "1"
      ]
     },
     "execution_count": 3,
     "metadata": {},
     "output_type": "execute_result"
    }
   ],
   "source": [
    "OR(1,0)"
   ]
  },
  {
   "cell_type": "code",
   "execution_count": 5,
   "id": "be730ee7",
   "metadata": {},
   "outputs": [
    {
     "data": {
      "text/plain": [
       "0"
      ]
     },
     "execution_count": 5,
     "metadata": {},
     "output_type": "execute_result"
    }
   ],
   "source": [
    "AND(1,0)"
   ]
  },
  {
   "cell_type": "code",
   "execution_count": 9,
   "id": "2e8617f9",
   "metadata": {},
   "outputs": [],
   "source": [
    "#A bartender is writing a simple program to determine whether he should serve drinks to someone. He only serves drinks to people 18 and older and when he's not on break.\n",
    "\n",
    "#Given the person's age, and whether break time is in session, create a function which returns whether he should serve drinks.\n",
    "\n",
    "\n",
    "def should_serve_drinks(age, on_break):\n",
    "    if age>=18 and on_break ==False:\n",
    "        return True\n",
    "    else:\n",
    "        return False\n",
    "\n"
   ]
  },
  {
   "cell_type": "code",
   "execution_count": 10,
   "id": "ca886b0e",
   "metadata": {},
   "outputs": [
    {
     "data": {
      "text/plain": [
       "False"
      ]
     },
     "execution_count": 10,
     "metadata": {},
     "output_type": "execute_result"
    }
   ],
   "source": [
    "should_serve_drinks(17, True)"
   ]
  },
  {
   "cell_type": "code",
   "execution_count": 11,
   "id": "be41c9ff",
   "metadata": {},
   "outputs": [
    {
     "data": {
      "text/plain": [
       "True"
      ]
     },
     "execution_count": 11,
     "metadata": {},
     "output_type": "execute_result"
    }
   ],
   "source": [
    "should_serve_drinks(19, False)"
   ]
  },
  {
   "cell_type": "code",
   "execution_count": 18,
   "id": "59b6b92e",
   "metadata": {},
   "outputs": [],
   "source": [
    "def parity(n):\n",
    "    remander = n % 2==0\n",
    "    if remander == False:\n",
    "        return \"odd\"\n",
    "    if remander == True:\n",
    "        \n",
    "        return \"even\"\n",
    "    "
   ]
  },
  {
   "cell_type": "code",
   "execution_count": 21,
   "id": "f1c79f08",
   "metadata": {},
   "outputs": [
    {
     "data": {
      "text/plain": [
       "'odd'"
      ]
     },
     "execution_count": 21,
     "metadata": {},
     "output_type": "execute_result"
    }
   ],
   "source": [
    "parity(27)"
   ]
  },
  {
   "cell_type": "code",
   "execution_count": 5,
   "id": "99c3a68b",
   "metadata": {},
   "outputs": [
    {
     "data": {
      "text/plain": [
       "True"
      ]
     },
     "execution_count": 5,
     "metadata": {},
     "output_type": "execute_result"
    }
   ],
   "source": [
    "#Write a function that checks whether a person can watch an MA15+ rated movie. One of the following two conditions is required for admittance:\n",
    "\n",
    "#The person is at least 15 years old.\n",
    "#They have parental supervision\n",
    "\n",
    "def accept_into_movie(age, is_supervised):\n",
    "    if age>14 or is_supervised== True:\n",
    "        return True\n",
    "    else:\n",
    "        return False\n",
    "    \n",
    "accept_into_movie(16, False)\n"
   ]
  },
  {
   "cell_type": "code",
   "execution_count": 10,
   "id": "f6d06168",
   "metadata": {},
   "outputs": [
    {
     "data": {
      "text/plain": [
       "'lionlionlion'"
      ]
     },
     "execution_count": 10,
     "metadata": {},
     "output_type": "execute_result"
    }
   ],
   "source": [
    "#Create a function that takes a string txt and a number n and returns the repeated string n number of times.\n",
    "#If given argument txt is not a string, return Not A String !!\n",
    "def string(x,n):\n",
    "    if type(x)!= str:\n",
    "        return \"not a string\"\n",
    "    else:\n",
    "        a=x*n\n",
    "        return a\n",
    "string(\"lion\",3)"
   ]
  },
  {
   "cell_type": "code",
   "execution_count": 12,
   "id": "f7416780",
   "metadata": {},
   "outputs": [
    {
     "data": {
      "text/plain": [
       "'not a string'"
      ]
     },
     "execution_count": 12,
     "metadata": {},
     "output_type": "execute_result"
    }
   ],
   "source": [
    "string(123,3)"
   ]
  },
  {
   "cell_type": "code",
   "execution_count": 19,
   "id": "738a5f89",
   "metadata": {},
   "outputs": [],
   "source": [
    "#A taxi journey costs $3 for the first kilometer travelled. However, all kilometers travelled after that will cost $2 each.\n",
    "\n",
    "#Create a function which returns the distance that the taxi must've travelled, given the cost as a parameter.\n",
    "\n",
    "def journey_distance(n):\n",
    "    if n == 3:\n",
    "        return 1\n",
    "    elif n > 3:\n",
    "        return ((n-3)/2)+1\n",
    "    elif n < 3:\n",
    "        return n/3\n",
    "        \n",
    "            "
   ]
  },
  {
   "cell_type": "code",
   "execution_count": 20,
   "id": "5923134b",
   "metadata": {},
   "outputs": [
    {
     "data": {
      "text/plain": [
       "4.0"
      ]
     },
     "execution_count": 20,
     "metadata": {},
     "output_type": "execute_result"
    }
   ],
   "source": [
    "journey_distance(9)"
   ]
  },
  {
   "cell_type": "code",
   "execution_count": 21,
   "id": "1d143170",
   "metadata": {},
   "outputs": [],
   "source": [
    "#Create a function that returns a number, based on the string provided.\n",
    "def num(string):\n",
    "    if string==\"one\":\n",
    "        return 1\n",
    "    elif string==\"two\":\n",
    "        return 2\n",
    "    elif string==\"three\":\n",
    "        return 3"
   ]
  },
  {
   "cell_type": "code",
   "execution_count": 22,
   "id": "ed0ae1a7",
   "metadata": {},
   "outputs": [
    {
     "data": {
      "text/plain": [
       "2"
      ]
     },
     "execution_count": 22,
     "metadata": {},
     "output_type": "execute_result"
    }
   ],
   "source": [
    "num(\"two\")"
   ]
  },
  {
   "cell_type": "code",
   "execution_count": 8,
   "id": "62d07309",
   "metadata": {},
   "outputs": [
    {
     "data": {
      "text/plain": [
       "'yeah'"
      ]
     },
     "execution_count": 8,
     "metadata": {},
     "output_type": "execute_result"
    }
   ],
   "source": [
    "# Write a function that uses the ternary operator to return \"yeah\" if b is True, and \"nope\" otherwise\n",
    "\n",
    "def yeah_nope(b):\n",
    "    return 'yeah' if b else 'nope'\n",
    "yeah_nope(True)"
   ]
  },
  {
   "cell_type": "code",
   "execution_count": 10,
   "id": "45103b2e",
   "metadata": {},
   "outputs": [
    {
     "data": {
      "text/plain": [
       "True"
      ]
     },
     "execution_count": 10,
     "metadata": {},
     "output_type": "execute_result"
    }
   ],
   "source": [
    "#Create a function that validates whether a number n is within the bounds of lower and upper. Return False if n is not an integer\n",
    "\n",
    "def int_within_bounds(n, lower, upper):\n",
    "    \n",
    "    return n in range(lower, upper)\n",
    "int_within_bounds(3, 1, 9) "
   ]
  },
  {
   "cell_type": "code",
   "execution_count": 12,
   "id": "b37c6af3",
   "metadata": {},
   "outputs": [],
   "source": [
    "#create a function that determines if the temp of the water is considered boiling or not. temp will be measured in Fahrenheit and Celsius.\n",
    "def is_boiling(temp):\n",
    "    if temp==\"212F\":\n",
    "        return True\n",
    "    elif temp==\"100C\":\n",
    "        return True\n",
    "    else:\n",
    "        return False"
   ]
  },
  {
   "cell_type": "code",
   "execution_count": 14,
   "id": "d90fd516",
   "metadata": {},
   "outputs": [
    {
     "data": {
      "text/plain": [
       "True"
      ]
     },
     "execution_count": 14,
     "metadata": {},
     "output_type": "execute_result"
    }
   ],
   "source": [
    "is_boiling(\"212F\")"
   ]
  },
  {
   "cell_type": "code",
   "execution_count": 16,
   "id": "f78f3b03",
   "metadata": {},
   "outputs": [
    {
     "data": {
      "text/plain": [
       "[3, 4]"
      ]
     },
     "execution_count": 16,
     "metadata": {},
     "output_type": "execute_result"
    }
   ],
   "source": [
    "#Create a function that takes two arguments of a list of numbers lst and a constant number n and returns the n largest numbers from the given list.\n",
    "\n",
    "\n",
    "def largest_numbers(n, lst):\n",
    "    lst.sort(reverse = True)\n",
    "    newlist = lst[:n]\n",
    "    newlist.sort()\n",
    "    return newlist\n",
    "largest_numbers(2, [4, 3, 2, 1])\n"
   ]
  },
  {
   "cell_type": "code",
   "execution_count": 18,
   "id": "514171d1",
   "metadata": {},
   "outputs": [
    {
     "data": {
      "text/plain": [
       "True"
      ]
     },
     "execution_count": 18,
     "metadata": {},
     "output_type": "execute_result"
    }
   ],
   "source": [
    "#Create a function that takes three numbers as arguments and returns True if it's a triangle and False if not.\n",
    "\n",
    "def is_triangle(a, b, c):\n",
    "    return a + b > c and b + c > a and a + c > b\n",
    "is_triangle(2, 3, 4) "
   ]
  },
  {
   "cell_type": "code",
   "execution_count": 19,
   "id": "2b0f1580",
   "metadata": {},
   "outputs": [],
   "source": [
    "#Create a function that takes an argument of any data type and returns 1 if it's truthy and 0 if it's falsy.\n",
    "def is_truthy(val):\n",
    "    if val:\n",
    "        return 1\n",
    "    else :\n",
    "        return 0"
   ]
  },
  {
   "cell_type": "code",
   "execution_count": 20,
   "id": "00780761",
   "metadata": {},
   "outputs": [
    {
     "data": {
      "text/plain": [
       "0"
      ]
     },
     "execution_count": 20,
     "metadata": {},
     "output_type": "execute_result"
    }
   ],
   "source": [
    "is_truthy(False)"
   ]
  },
  {
   "cell_type": "code",
   "execution_count": 21,
   "id": "51f9f1a6",
   "metadata": {},
   "outputs": [
    {
     "data": {
      "text/plain": [
       "1"
      ]
     },
     "execution_count": 21,
     "metadata": {},
     "output_type": "execute_result"
    }
   ],
   "source": [
    "is_truthy(\"a\")"
   ]
  },
  {
   "cell_type": "code",
   "execution_count": 9,
   "id": "1ad73e9e",
   "metadata": {},
   "outputs": [],
   "source": [
    "#Write a function that returns True if both numbers are:\n",
    "\n",
    "#Smaller than 0, OR ...\n",
    "#Greater than 0, OR ...\n",
    "#Exactly 0\n",
    "#Otherwise, return False.\n",
    "\n",
    "def both(n1, n2):\n",
    "    return (n1 > 0 and n2 > 0) or (n1 == 0 and n2 == 0) or (n1 < 0 and n2 < 0)"
   ]
  },
  {
   "cell_type": "code",
   "execution_count": 10,
   "id": "022e0b7c",
   "metadata": {},
   "outputs": [
    {
     "data": {
      "text/plain": [
       "False"
      ]
     },
     "execution_count": 10,
     "metadata": {},
     "output_type": "execute_result"
    }
   ],
   "source": [
    "both(-1, 2)"
   ]
  },
  {
   "cell_type": "code",
   "execution_count": 4,
   "id": "c145513a",
   "metadata": {},
   "outputs": [
    {
     "data": {
      "text/plain": [
       "[['4', '8'], ['7']]"
      ]
     },
     "execution_count": 4,
     "metadata": {},
     "output_type": "execute_result"
    }
   ],
   "source": [
    "#Create a function that takes a list. This list will contain numbers represented as strings.\n",
    "\n",
    "#Your function should split this list into two new lists. The first list should contain only even numbers. The second only odd. Then, wrap these two lists in one main list and return it.\n",
    "\n",
    "#Return an empty list if there are no even numbers, or odd.\n",
    "a=[]\n",
    "b=[]\n",
    "def clean_up_list(lst):\n",
    "    for x in lst:\n",
    "        num=int(x)\n",
    "        if num%2==0:\n",
    "            a.append(x)\n",
    "        else:\n",
    "            b.append(x)\n",
    "    return [a,b]\n",
    "\n",
    "clean_up_list([\"7\", \"4\", \"8\"])\n",
    "\n",
    "            \n",
    "        \n",
    "        "
   ]
  },
  {
   "cell_type": "code",
   "execution_count": 9,
   "id": "7589c36d",
   "metadata": {},
   "outputs": [
    {
     "data": {
      "text/plain": [
       "[2, 14]"
      ]
     },
     "execution_count": 9,
     "metadata": {},
     "output_type": "execute_result"
    }
   ],
   "source": [
    "#Create a function that takes a range object r, index i, and returns a list where the first element is the number of elements in the range object, and the second element is the element of the range object at the given index.\n",
    "\n",
    "\n",
    "def length_element(r, i):\n",
    "    return [len(r), r[i]]\n",
    "\n",
    "length_element(range(12, 15, 2), 1)\n"
   ]
  },
  {
   "cell_type": "code",
   "execution_count": 5,
   "id": "428f6700",
   "metadata": {},
   "outputs": [],
   "source": [
    "# Create a function that takes a list. This list will contain numbers represented as strings.\n",
    "\n",
    "# Your function should split this list into two new lists. The first list should contain only even numbers. The second only odd. Then, wrap these two lists in one main list and return it.\n",
    "\n",
    "# Return an empty list if there are no even numbers, or odd.\n",
    "\n",
    "def stri(a):\n",
    "    A=[]\n",
    "    B=[]\n",
    "    for x in a:\n",
    "        if int(x)%2==0:\n",
    "            A.append(x)\n",
    "        elif int(x)%2 !=0:\n",
    "            B.append(x)\n",
    "    return A,B\n",
    "            \n",
    "            \n",
    "            "
   ]
  },
  {
   "cell_type": "code",
   "execution_count": 6,
   "id": "ff7fd11e",
   "metadata": {},
   "outputs": [
    {
     "data": {
      "text/plain": [
       "(['8'], [])"
      ]
     },
     "execution_count": 6,
     "metadata": {},
     "output_type": "execute_result"
    }
   ],
   "source": [
    "stri([\"8\"])"
   ]
  },
  {
   "cell_type": "code",
   "execution_count": 7,
   "id": "da93402b",
   "metadata": {},
   "outputs": [
    {
     "data": {
      "text/plain": [
       "([], ['11'])"
      ]
     },
     "execution_count": 7,
     "metadata": {},
     "output_type": "execute_result"
    }
   ],
   "source": [
    "stri([\"11\"])"
   ]
  },
  {
   "cell_type": "code",
   "execution_count": 8,
   "id": "e812e788",
   "metadata": {},
   "outputs": [],
   "source": [
    "# When creating variables, the variable name must always start with a letter and cannot contain spaces, though numbers and underscores are allowed to be contained in it also.\n",
    "\n",
    "# Create a function which returns True if a given variable name is valid, otherwise return False.\n",
    "\n",
    "def variable_valid(var):\n",
    "    return var.isidentifier()"
   ]
  },
  {
   "cell_type": "code",
   "execution_count": 9,
   "id": "55f02fdf",
   "metadata": {},
   "outputs": [
    {
     "data": {
      "text/plain": [
       "True"
      ]
     },
     "execution_count": 9,
     "metadata": {},
     "output_type": "execute_result"
    }
   ],
   "source": [
    "variable_valid(\"result\")"
   ]
  },
  {
   "cell_type": "code",
   "execution_count": 11,
   "id": "6c121fd7",
   "metadata": {},
   "outputs": [
    {
     "data": {
      "text/plain": [
       "False"
      ]
     },
     "execution_count": 11,
     "metadata": {},
     "output_type": "execute_result"
    }
   ],
   "source": [
    "variable_valid(\"2TimesN\")"
   ]
  },
  {
   "cell_type": "code",
   "execution_count": 25,
   "id": "b1ee2d4a",
   "metadata": {},
   "outputs": [
    {
     "data": {
      "text/plain": [
       "'Hello World'"
      ]
     },
     "execution_count": 25,
     "metadata": {},
     "output_type": "execute_result"
    }
   ],
   "source": [
    "# Write a function that takes an integer and:\n",
    "\n",
    "# If the number is a multiple of 3, return \"Hello\".\n",
    "# If the number is a multiple of 5, return \"World\".\n",
    "# If the number is a multiple of both 3 and 5, return \"Hello World\".\n",
    "\n",
    "def hello_world(num):\n",
    "    \n",
    "    if num%3==0 and num%5==0:\n",
    "        return \"Hello World\"\n",
    "    elif num%3==0:\n",
    "        return \"Hello\"\n",
    "    elif num%5==0:\n",
    "        return \"World\"\n",
    "\n",
    "hello_world(15)"
   ]
  },
  {
   "cell_type": "code",
   "execution_count": 22,
   "id": "aa0c548c",
   "metadata": {},
   "outputs": [
    {
     "data": {
      "text/plain": [
       "'World'"
      ]
     },
     "execution_count": 22,
     "metadata": {},
     "output_type": "execute_result"
    }
   ],
   "source": [
    "hello_world(5)"
   ]
  },
  {
   "cell_type": "code",
   "execution_count": 26,
   "id": "6a62b2ff",
   "metadata": {},
   "outputs": [],
   "source": [
    "# Create a function that takes three number arguments — one number as an input and two additional numbers representing the endpoints of a closed range — and return the number limited to this range.\n",
    "\n",
    "# If the number falls within the range, the number should be returned.\n",
    "# If the number is less than the lower limit of the range, the lower limit should be returned.\n",
    "# If the number is greater than the upper limit of the range, the upper limit should be returned.\n",
    "\n",
    "def limit_number(num, low, high):\n",
    "    if low <num <high :\n",
    "        return num\n",
    "    elif num < low:\n",
    "        return low\n",
    "    else:\n",
    "        return high\n",
    "        "
   ]
  },
  {
   "cell_type": "code",
   "execution_count": 27,
   "id": "4f18f78d",
   "metadata": {},
   "outputs": [
    {
     "data": {
      "text/plain": [
       "5"
      ]
     },
     "execution_count": 27,
     "metadata": {},
     "output_type": "execute_result"
    }
   ],
   "source": [
    "limit_number(5, 1, 10)"
   ]
  },
  {
   "cell_type": "code",
   "execution_count": 28,
   "id": "eeecc50c",
   "metadata": {},
   "outputs": [
    {
     "data": {
      "text/plain": [
       "10"
      ]
     },
     "execution_count": 28,
     "metadata": {},
     "output_type": "execute_result"
    }
   ],
   "source": [
    "limit_number(14, 1, 10)"
   ]
  },
  {
   "cell_type": "code",
   "execution_count": 1,
   "id": "75596ad8",
   "metadata": {},
   "outputs": [],
   "source": [
    "#Given a pH value, return whether that value is \"alkaline\" (greater than 7), \"acidic\" (less than 7), or \"neutral\" (7). Return \"invalid\" if the value given is less than 0 or greater than 14.\n",
    "\n",
    "\n",
    "\n",
    "def ph(val):\n",
    "    if 7<val<14:\n",
    "        return \"alkaline\"\n",
    "    elif 0<val<7:\n",
    "        return \"acidic\"\n",
    "    elif val==7:\n",
    "        return \"neutral\"\n",
    "    else:\n",
    "        return \"invalid\""
   ]
  },
  {
   "cell_type": "code",
   "execution_count": 2,
   "id": "4a198ecc",
   "metadata": {},
   "outputs": [
    {
     "data": {
      "text/plain": [
       "'acidic'"
      ]
     },
     "execution_count": 2,
     "metadata": {},
     "output_type": "execute_result"
    }
   ],
   "source": [
    "ph(5)"
   ]
  },
  {
   "cell_type": "code",
   "execution_count": 3,
   "id": "091b43df",
   "metadata": {},
   "outputs": [
    {
     "data": {
      "text/plain": [
       "'alkaline'"
      ]
     },
     "execution_count": 3,
     "metadata": {},
     "output_type": "execute_result"
    }
   ],
   "source": [
    "ph(8.7)"
   ]
  },
  {
   "cell_type": "code",
   "execution_count": 4,
   "id": "5457b0df",
   "metadata": {},
   "outputs": [
    {
     "data": {
      "text/plain": [
       "'acidic'"
      ]
     },
     "execution_count": 4,
     "metadata": {},
     "output_type": "execute_result"
    }
   ],
   "source": [
    "ph(6.9999)"
   ]
  },
  {
   "cell_type": "code",
   "execution_count": 8,
   "id": "0ab74aa3",
   "metadata": {},
   "outputs": [],
   "source": [
    "#Create a function that takes an initial word and extracts any words that start with the same letters as the initial word.\n",
    "\n",
    "def dic(x,y):\n",
    "    a=[]\n",
    "    for z in y:\n",
    "        if z.startswith(x):\n",
    "            a.append(z)\n",
    "    return a"
   ]
  },
  {
   "cell_type": "code",
   "execution_count": 9,
   "id": "905279eb",
   "metadata": {},
   "outputs": [
    {
     "data": {
      "text/plain": [
       "['button']"
      ]
     },
     "execution_count": 9,
     "metadata": {},
     "output_type": "execute_result"
    }
   ],
   "source": [
    "dic(\"bu\", [\"button\", \"breakfast\", \"border\"])"
   ]
  },
  {
   "cell_type": "code",
   "execution_count": null,
   "id": "445cc0e1",
   "metadata": {},
   "outputs": [],
   "source": [
    "#Two sisters are eating chocolate, whose pieces are represented as subarrays of [l x w].\n",
    "\n",
    "#Write a function that returns True if the total area of chocolate is the same for each sister.\n",
    "\n",
    "def test(x,y):\n",
    "    for z in x:\n",
    "        for y in z:\n",
    "            y*z "
   ]
  },
  {
   "cell_type": "code",
   "execution_count": null,
   "id": "3ac2b918",
   "metadata": {},
   "outputs": [],
   "source": []
  },
  {
   "cell_type": "code",
   "execution_count": null,
   "id": "d449a2d2",
   "metadata": {},
   "outputs": [],
   "source": []
  },
  {
   "cell_type": "code",
   "execution_count": null,
   "id": "26a09879",
   "metadata": {},
   "outputs": [],
   "source": []
  }
 ],
 "metadata": {
  "kernelspec": {
   "display_name": "Python 3 (ipykernel)",
   "language": "python",
   "name": "python3"
  },
  "language_info": {
   "codemirror_mode": {
    "name": "ipython",
    "version": 3
   },
   "file_extension": ".py",
   "mimetype": "text/x-python",
   "name": "python",
   "nbconvert_exporter": "python",
   "pygments_lexer": "ipython3",
   "version": "3.10.9"
  }
 },
 "nbformat": 4,
 "nbformat_minor": 5
}
